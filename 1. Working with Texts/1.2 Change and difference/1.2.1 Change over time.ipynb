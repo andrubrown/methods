{
 "cells": [
  {
   "cell_type": "code",
   "execution_count": 1,
   "metadata": {
    "collapsed": false
   },
   "outputs": [
    {
     "name": "stdout",
     "output_type": "stream",
     "text": [
      "Populating the interactive namespace from numpy and matplotlib\n"
     ]
    }
   ],
   "source": [
    "%pylab inline"
   ]
  },
  {
   "cell_type": "code",
   "execution_count": 3,
   "metadata": {
    "collapsed": false
   },
   "outputs": [],
   "source": [
    "import nltk\n",
    "from tethne.readers import zotero\n",
    "import pandas as pd\n",
    "import matplotlib.pyplot as plt\n",
    "\n",
    "# I moved our normalization and filtering functions into\n",
    "#  an external module. If you want to change these functions,\n",
    "#  you an either redefine them in this notebook or modify\n",
    "#  them in the file helpers.py.\n",
    "from helpers import normalize_token, filter_token"
   ]
  },
  {
   "cell_type": "markdown",
   "metadata": {},
   "source": [
    "# 1.2. Change over time\n",
    "\n",
    "In computational humanities, we are often interested in whether and how phenomena change over time. In this notebook we will perform a simple time-series analysis of tokens in our corpus. This will get us moving toward analyizing more complex temporal trends."
   ]
  },
  {
   "cell_type": "markdown",
   "metadata": {},
   "source": [
    "## Load corpus and metadata\n",
    "\n",
    "Just as we did in the last notebook, we'll load our texts and metadata."
   ]
  },
  {
   "cell_type": "code",
   "execution_count": 4,
   "metadata": {
    "collapsed": false
   },
   "outputs": [],
   "source": [
    "text_root = '../../data/EmbryoProjectTexts/files'\n",
    "zotero_export_path = '../../data/EmbryoProjectTexts'\n",
    "\n",
    "documents = nltk.corpus.PlaintextCorpusReader(text_root, 'https.+')\n",
    "metadata = zotero.read(zotero_export_path, index_by='link', follow_links=False)"
   ]
  },
  {
   "cell_type": "markdown",
   "metadata": {},
   "source": [
    "## Has the prevalence of a token increased or decreased over time?\n",
    "\n",
    "In the last notebook, we looked at the distribution (frequency) of tokens over time. It is one thing to make a pretty figure; it is another to say with some degree of confidence that a token is becoming more or less prevalent over time.\n",
    "\n",
    "The simplest approach to this problem is a linear regression model:\n",
    "\n",
    "$Y_i = \\beta_0 + \\beta X_i + \\epsilon_i$\n",
    "\n",
    "where $Y$ is the response variable (frequency of a token), $X$ is the predictor variable (publication date), $\\beta$ is the regression coefficient, and $\\epsilon_i$ is the error for observation $i$.\n",
    "\n",
    "Up to now, we have discussed token frequency in terms of raw token counts. Since the number of texts per year may not be fixed, however, what we really want to model is the probability of a token. We don't have direct access to the probability of a token, but for most practical purposes the Maximum Likelihood Estimator for that probability is just the frequency $f(t) = \\frac{N_{token}}{N_{total}}$ of the token.\n",
    "\n",
    "To get the **Probability Distribution** of a token, we first calculate the frequency distribution:"
   ]
  },
  {
   "cell_type": "code",
   "execution_count": 5,
   "metadata": {
    "collapsed": true
   },
   "outputs": [],
   "source": [
    "word_counts = nltk.FreqDist([normalize_token(token) \n",
    "                             for token in documents.words() \n",
    "                             if filter_token(token)])"
   ]
  },
  {
   "cell_type": "markdown",
   "metadata": {},
   "source": [
    "$N_{embryo}$"
   ]
  },
  {
   "cell_type": "code",
   "execution_count": 6,
   "metadata": {
    "collapsed": false
   },
   "outputs": [
    {
     "name": "stdout",
     "output_type": "stream",
     "text": [
      "N_e 5302\n",
      "N 544480\n"
     ]
    }
   ],
   "source": [
    "print 'N_e', word_counts['embryo']\n",
    "print 'N', word_counts.N()"
   ]
  },
  {
   "cell_type": "markdown",
   "metadata": {},
   "source": [
    "$f(\"embryo\") = \\frac{N_{embryo}}{N}$"
   ]
  },
  {
   "cell_type": "code",
   "execution_count": 7,
   "metadata": {
    "collapsed": false
   },
   "outputs": [
    {
     "data": {
      "text/plain": [
       "0.009737731413458713"
      ]
     },
     "execution_count": 7,
     "metadata": {},
     "output_type": "execute_result"
    }
   ],
   "source": [
    "word_counts.freq('embryo')"
   ]
  },
  {
   "cell_type": "markdown",
   "metadata": {},
   "source": [
    "...and then we use NLTK's [``MLEProbDist``](http://www.nltk.org/api/nltk.html#nltk.probability.MLEProbDist) (Maximum Likelihood Estimator) to obtain the probability distribution."
   ]
  },
  {
   "cell_type": "code",
   "execution_count": 8,
   "metadata": {
    "collapsed": true
   },
   "outputs": [],
   "source": [
    "word_probs = nltk.MLEProbDist(word_counts)"
   ]
  },
  {
   "cell_type": "markdown",
   "metadata": {},
   "source": [
    "$p(\"embryo\") ~= \\hat{p}(\"embryo\") = f(\"embryo\") $"
   ]
  },
  {
   "cell_type": "code",
   "execution_count": 9,
   "metadata": {
    "collapsed": false
   },
   "outputs": [
    {
     "name": "stdout",
     "output_type": "stream",
     "text": [
      "0.00973773141346\n"
     ]
    }
   ],
   "source": [
    "print word_probs.prob('embryo')    # Probability of an observed token to be 'embryo'."
   ]
  },
  {
   "cell_type": "markdown",
   "metadata": {},
   "source": [
    "Since we are interested in change over time, we need to generate a conditional probability distribution. \n",
    "\n",
    "Here is our conditional frequency distribution (as before):\n",
    "\n",
    "$N(\"embryo\" \\Bigm| year)$"
   ]
  },
  {
   "cell_type": "code",
   "execution_count": 10,
   "metadata": {
    "collapsed": false
   },
   "outputs": [],
   "source": [
    "word_counts_over_time = nltk.ConditionalFreqDist([\n",
    "        (metadata[fileid].date, normalize_token(token))\n",
    "         for fileid in documents.fileids()\n",
    "         for token in documents.words(fileids=[fileid])\n",
    "         if filter_token(token)\n",
    "    ])"
   ]
  },
  {
   "cell_type": "code",
   "execution_count": 26,
   "metadata": {
    "collapsed": false
   },
   "outputs": [],
   "source": [
    "embryo_counts = pd.DataFrame(columns=['Year', 'Count'])\n",
    "for i, (year, counts) in enumerate(word_counts_over_time.items()):\n",
    "    embryo_counts.loc[i] = [year, counts['embryo']]"
   ]
  },
  {
   "cell_type": "code",
   "execution_count": 27,
   "metadata": {
    "collapsed": false
   },
   "outputs": [
    {
     "data": {
      "text/html": [
       "<div>\n",
       "<table border=\"1\" class=\"dataframe\">\n",
       "  <thead>\n",
       "    <tr style=\"text-align: right;\">\n",
       "      <th></th>\n",
       "      <th>Year</th>\n",
       "      <th>Count</th>\n",
       "    </tr>\n",
       "  </thead>\n",
       "  <tbody>\n",
       "    <tr>\n",
       "      <th>0</th>\n",
       "      <td>2016</td>\n",
       "      <td>26</td>\n",
       "    </tr>\n",
       "    <tr>\n",
       "      <th>1</th>\n",
       "      <td>2007</td>\n",
       "      <td>434</td>\n",
       "    </tr>\n",
       "    <tr>\n",
       "      <th>2</th>\n",
       "      <td>2008</td>\n",
       "      <td>433</td>\n",
       "    </tr>\n",
       "    <tr>\n",
       "      <th>3</th>\n",
       "      <td>2009</td>\n",
       "      <td>350</td>\n",
       "    </tr>\n",
       "    <tr>\n",
       "      <th>4</th>\n",
       "      <td>2010</td>\n",
       "      <td>1140</td>\n",
       "    </tr>\n",
       "    <tr>\n",
       "      <th>5</th>\n",
       "      <td>2011</td>\n",
       "      <td>575</td>\n",
       "    </tr>\n",
       "    <tr>\n",
       "      <th>6</th>\n",
       "      <td>2012</td>\n",
       "      <td>366</td>\n",
       "    </tr>\n",
       "    <tr>\n",
       "      <th>7</th>\n",
       "      <td>2013</td>\n",
       "      <td>482</td>\n",
       "    </tr>\n",
       "    <tr>\n",
       "      <th>8</th>\n",
       "      <td>2014</td>\n",
       "      <td>1242</td>\n",
       "    </tr>\n",
       "    <tr>\n",
       "      <th>9</th>\n",
       "      <td>2015</td>\n",
       "      <td>254</td>\n",
       "    </tr>\n",
       "  </tbody>\n",
       "</table>\n",
       "</div>"
      ],
      "text/plain": [
       "   Year  Count\n",
       "0  2016     26\n",
       "1  2007    434\n",
       "2  2008    433\n",
       "3  2009    350\n",
       "4  2010   1140\n",
       "5  2011    575\n",
       "6  2012    366\n",
       "7  2013    482\n",
       "8  2014   1242\n",
       "9  2015    254"
      ]
     },
     "execution_count": 27,
     "metadata": {},
     "output_type": "execute_result"
    }
   ],
   "source": [
    "embryo_counts"
   ]
  },
  {
   "cell_type": "code",
   "execution_count": 28,
   "metadata": {
    "collapsed": false
   },
   "outputs": [
    {
     "data": {
      "image/png": "[encoded data removed]",
      "text/plain": [
       "<matplotlib.figure.Figure at 0x117fb3e50>"
      ]
     },
     "metadata": {},
     "output_type": "display_data"
    }
   ],
   "source": [
    "plt.scatter(embryo_counts.Year, embryo_counts.Count)\n",
    "plt.ylabel('Word count')\n",
    "plt.xlabel('Year')\n",
    "plt.show()"
   ]
  },
  {
   "cell_type": "markdown",
   "metadata": {},
   "source": [
    "$f(\"embryo\" \\Bigm| year)$"
   ]
  },
  {
   "cell_type": "code",
   "execution_count": 30,
   "metadata": {
    "collapsed": false
   },
   "outputs": [
    {
     "data": {
      "image/png": "[encoded data removed]",
      "text/plain": [
       "<matplotlib.figure.Figure at 0x11524c6d0>"
      ]
     },
     "metadata": {},
     "output_type": "display_data"
    }
   ],
   "source": [
    "embryo_freq = pd.DataFrame(columns=['Year', 'Frequency'])\n",
    "for i, (year, counts) in enumerate(word_counts_over_time.items()):\n",
    "    embryo_freq.loc[i] = [year, counts.freq('embryo')]\n",
    "    \n",
    "plt.scatter(embryo_freq.Year, embryo_freq.Frequency)\n",
    "plt.ylabel('Word frequency')\n",
    "plt.xlabel('Year')\n",
    "plt.show()"
   ]
  },
  {
   "cell_type": "markdown",
   "metadata": {},
   "source": [
    "$\\hat{p}(\"embryo\" \\Bigm| year)$"
   ]
  },
  {
   "cell_type": "code",
   "execution_count": 32,
   "metadata": {
    "collapsed": true
   },
   "outputs": [],
   "source": [
    "word_probs_over_time = nltk.ConditionalProbDist(word_counts_over_time, nltk.MLEProbDist)"
   ]
  },
  {
   "cell_type": "code",
   "execution_count": 33,
   "metadata": {
    "collapsed": false
   },
   "outputs": [
    {
     "data": {
      "image/png": "[encoded data removed]",
      "text/plain": [
       "<matplotlib.figure.Figure at 0x10e471250>"
      ]
     },
     "metadata": {},
     "output_type": "display_data"
    }
   ],
   "source": [
    "embryo_prob = pd.DataFrame(columns=['Year', 'Probability'])\n",
    "for i, (year, probs) in enumerate(word_probs_over_time.items()):\n",
    "    embryo_prob.loc[i] = [year, probs.prob('embryo')]\n",
    "    \n",
    "plt.scatter(embryo_prob.Year, embryo_prob.Probability)\n",
    "plt.ylabel('Conditional word probability')\n",
    "plt.xlabel('Year')\n",
    "plt.show()"
   ]
  },
  {
   "cell_type": "code",
   "execution_count": 34,
   "metadata": {
    "collapsed": false
   },
   "outputs": [
    {
     "name": "stdout",
     "output_type": "stream",
     "text": [
      "N(w|c=2016) = 26\n",
      "f(w|c=2016) = 0.00832\n",
      "^p(w|c=2016) = 0.00832\n"
     ]
    }
   ],
   "source": [
    "print 'N(w|c=2016) =', word_counts_over_time[2016]['embryo']\n",
    "print 'f(w|c=2016) =', word_counts_over_time[2016].freq('embryo')\n",
    "print '^p(w|c=2016) =', word_probs_over_time[2016].prob('embryo')"
   ]
  },
  {
   "cell_type": "markdown",
   "metadata": {},
   "source": [
    "Now we'll take a look at the token that we'd like to analyze. Let's try ``chicken``.\n",
    "\n",
    "Here we get the probability for each year for the token ``chicken``:"
   ]
  },
  {
   "cell_type": "code",
   "execution_count": 40,
   "metadata": {
    "collapsed": false
   },
   "outputs": [],
   "source": [
    "chicken_data = pd.DataFrame(columns=['Year', 'Probability'])\n",
    "for i, (year, probs) in enumerate(word_probs_over_time.items()):\n",
    "    chicken_data.loc[i] = [year, probs.prob('chicken')]"
   ]
  },
  {
   "cell_type": "code",
   "execution_count": 41,
   "metadata": {
    "collapsed": false
   },
   "outputs": [
    {
     "data": {
      "text/html": [
       "<div>\n",
       "<table border=\"1\" class=\"dataframe\">\n",
       "  <thead>\n",
       "    <tr style=\"text-align: right;\">\n",
       "      <th></th>\n",
       "      <th>Year</th>\n",
       "      <th>Probability</th>\n",
       "    </tr>\n",
       "  </thead>\n",
       "  <tbody>\n",
       "    <tr>\n",
       "      <th>0</th>\n",
       "      <td>2016</td>\n",
       "      <td>0.000000</td>\n",
       "    </tr>\n",
       "    <tr>\n",
       "      <th>1</th>\n",
       "      <td>2007</td>\n",
       "      <td>0.000223</td>\n",
       "    </tr>\n",
       "    <tr>\n",
       "      <th>2</th>\n",
       "      <td>2008</td>\n",
       "      <td>0.000286</td>\n",
       "    </tr>\n",
       "    <tr>\n",
       "      <th>3</th>\n",
       "      <td>2009</td>\n",
       "      <td>0.000115</td>\n",
       "    </tr>\n",
       "    <tr>\n",
       "      <th>4</th>\n",
       "      <td>2010</td>\n",
       "      <td>0.000170</td>\n",
       "    </tr>\n",
       "    <tr>\n",
       "      <th>5</th>\n",
       "      <td>2011</td>\n",
       "      <td>0.000094</td>\n",
       "    </tr>\n",
       "    <tr>\n",
       "      <th>6</th>\n",
       "      <td>2012</td>\n",
       "      <td>0.000052</td>\n",
       "    </tr>\n",
       "    <tr>\n",
       "      <th>7</th>\n",
       "      <td>2013</td>\n",
       "      <td>0.000165</td>\n",
       "    </tr>\n",
       "    <tr>\n",
       "      <th>8</th>\n",
       "      <td>2014</td>\n",
       "      <td>0.000071</td>\n",
       "    </tr>\n",
       "    <tr>\n",
       "      <th>9</th>\n",
       "      <td>2015</td>\n",
       "      <td>0.000049</td>\n",
       "    </tr>\n",
       "  </tbody>\n",
       "</table>\n",
       "</div>"
      ],
      "text/plain": [
       "   Year  Probability\n",
       "0  2016     0.000000\n",
       "1  2007     0.000223\n",
       "2  2008     0.000286\n",
       "3  2009     0.000115\n",
       "4  2010     0.000170\n",
       "5  2011     0.000094\n",
       "6  2012     0.000052\n",
       "7  2013     0.000165\n",
       "8  2014     0.000071\n",
       "9  2015     0.000049"
      ]
     },
     "execution_count": 41,
     "metadata": {},
     "output_type": "execute_result"
    }
   ],
   "source": [
    "chicken_data"
   ]
  },
  {
   "cell_type": "code",
   "execution_count": 42,
   "metadata": {
    "collapsed": false
   },
   "outputs": [
    {
     "data": {
      "image/png": "[encoded data removed]",
      "text/plain": [
       "<matplotlib.figure.Figure at 0x11810abd0>"
      ]
     },
     "metadata": {},
     "output_type": "display_data"
    }
   ],
   "source": [
    "# Create a scatterplot.\n",
    "plt.scatter(chicken_data.Year, chicken_data.Probability)    \n",
    "\n",
    "# Scale the Y axis.\n",
    "plt.ylim(chicken_data.Probability.min(), chicken_data.Probability.max())    \n",
    "\n",
    "# Scale the X axis.\n",
    "plt.xlim(chicken_data.Year.min(), chicken_data.Year.max())\n",
    "\n",
    "plt.ylabel('$\\\\hat{p}(\\'chicken\\'|year)$')\n",
    "plt.show()    # Render the figure."
   ]
  },
  {
   "cell_type": "markdown",
   "metadata": {},
   "source": [
    "The SciPy package provides a Ordinary Least Squares linear regression function called [``linregress()``](http://docs.scipy.org/doc/scipy-0.14.0/reference/generated/scipy.stats.linregress.html). We can use that to estimate the model parameters from our data."
   ]
  },
  {
   "cell_type": "code",
   "execution_count": 44,
   "metadata": {
    "collapsed": false
   },
   "outputs": [
    {
     "name": "stdout",
     "output_type": "stream",
     "text": [
      "^Beta: -2.38956045956e-05\n",
      "^Beta_0: 0.0481885497774\n",
      "r-squared: 0.676091199243\n",
      "p: 0.00350319816755\n"
     ]
    },
    {
     "data": {
      "image/png": "[encoded data removed]",
      "text/plain": [
       "<matplotlib.figure.Figure at 0x118104cd0>"
      ]
     },
     "metadata": {},
     "output_type": "display_data"
    }
   ],
   "source": [
    "from scipy.stats import linregress\n",
    "Beta, Beta0, r, p, stde = linregress(chicken_data.Year, chicken_data.Probability)\n",
    "\n",
    "print '^Beta:', Beta\n",
    "print '^Beta_0:', Beta0\n",
    "print 'r-squared:', r*r\n",
    "print 'p:', p\n",
    "\n",
    "plt.scatter(chicken_data.Year, chicken_data.Probability)    \n",
    "plt.plot(chicken_data.Year, Beta0 + Beta*chicken_data.Year)    # Array math!\n",
    "plt.ylim(chicken_data.Probability.min(), chicken_data.Probability.max())    \n",
    "plt.xlim(chicken_data.Year.min(), chicken_data.Year.max())\n",
    "\n",
    "plt.ylabel('$\\\\hat{p}(\\'chicken\\'|year)$')\n",
    "plt.show()    # Render the figure."
   ]
  },
  {
   "cell_type": "markdown",
   "metadata": {},
   "source": [
    "At first pass, our linear model looks like a remarkably good fit. Our r-squared value is not too bad, and we have a very low p value. The problem with interpreting that p-value, however, is that data derived from texts rarely satisfy the assumptions of the t-test used to assess significance. Aside from the fact that we have very few \"observations\", does the distribution of Y values (token probabilities) shown below look normally distributed to you?"
   ]
  },
  {
   "cell_type": "code",
   "execution_count": 45,
   "metadata": {
    "collapsed": false
   },
   "outputs": [
    {
     "data": {
      "image/png": "[encoded data removed]",
      "text/plain": [
       "<matplotlib.figure.Figure at 0x11566add0>"
      ]
     },
     "metadata": {},
     "output_type": "display_data"
    }
   ],
   "source": [
    "plt.hist(chicken_data.Probability)\n",
    "plt.show()"
   ]
  },
  {
   "cell_type": "markdown",
   "metadata": {},
   "source": [
    "We need to use an hypothesis test that does not assume normality, and can handle the small sample size. One such approach is a [**permutation test**](http://avesbiodiv.mncn.csic.es/estadistica/permut2.pdf). \n",
    "\n",
    "Our null hypothesis is that:\n",
    "\n",
    "$H_0: \\beta = 0$\n",
    "\n",
    "That is, that there is no change in the probability of our token (``chicken``, in this case) over time. \n",
    "\n",
    "We will shuffle our response variable, $Y$, a whole bunch of times. Each time we shuffle the data (a permutation), we will re-calculate the regression parameter $\\beta_{\\pi}$. We can reject $H_0$ with a confidence of $p = 0.05$ iff our observed $\\hat{\\beta}$ falls outside the inner 95% of the resampled distribution."
   ]
  },
  {
   "cell_type": "code",
   "execution_count": 65,
   "metadata": {
    "collapsed": false
   },
   "outputs": [],
   "source": [
    "import numpy as np"
   ]
  },
  {
   "cell_type": "code",
   "execution_count": 47,
   "metadata": {
    "collapsed": false
   },
   "outputs": [],
   "source": [
    "# We can use underscores `_` for values that we don't want to keep.\n",
    "samples = pd.DataFrame(columns=['Beta_pi', 'Beta0_pi'])\n",
    "for i in xrange(1000):\n",
    "    shuffled_probability = np.random.permutation(chicken_data.Probability)\n",
    "    # linregress() returns five parameters; we only care about the first two.\n",
    "    Beta_pi, Beta0_pi, _, _, _ = linregress(chicken_data.Year, shuffled_probability)\n",
    "    samples.loc[i] = [Beta_pi, Beta0_pi]"
   ]
  },
  {
   "cell_type": "code",
   "execution_count": 48,
   "metadata": {
    "collapsed": false
   },
   "outputs": [
    {
     "data": {
      "image/png": "[encoded data removed]",
      "text/plain": [
       "<matplotlib.figure.Figure at 0x11789a890>"
      ]
     },
     "metadata": {},
     "output_type": "display_data"
    }
   ],
   "source": [
    "plt.figure(figsize=(10, 5))\n",
    "\n",
    "plt.subplot(121)\n",
    "plt.hist(samples.Beta_pi)    # Histogram of Beta values from permutations.\n",
    "plt.plot([Beta, Beta], [0, 200],     # Beta from the observed data.\n",
    "         lw=5, label='$\\\\hat{\\\\beta}$')\n",
    "\n",
    "# Plot the upper and lower bounds of the inner 95% probability.\n",
    "Beta_upper = np.percentile(samples.Beta_pi, 97.5)\n",
    "Beta_lower = np.percentile(samples.Beta_pi, 2.5)\n",
    "plt.plot([Beta_upper, Beta_upper], [0, 200], color='k', lw=2, label='$p = 0.05$')\n",
    "plt.plot([Beta_lower, Beta_lower], [0, 200], color='k', lw=2)\n",
    "\n",
    "plt.legend()\n",
    "plt.xlabel('$\\\\beta_{\\\\pi}$', fontsize=24)\n",
    "\n",
    "# Same procedure for Beta0.\n",
    "plt.subplot(122)\n",
    "plt.hist(samples.Beta0_pi)\n",
    "plt.plot([Beta0, Beta0], [0, 200], lw=5, label='$\\\\hat{\\\\beta_0}$')\n",
    "\n",
    "Beta0_upper = np.percentile(samples.Beta0_pi, 97.5)\n",
    "Beta0_lower = np.percentile(samples.Beta0_pi, 2.5)\n",
    "plt.plot([Beta0_upper, Beta0_upper], [0, 200], color='k', lw=2, label='$p = 0.05$')\n",
    "plt.plot([Beta0_lower, Beta0_lower], [0, 200], color='k', lw=2)\n",
    "\n",
    "plt.legend()\n",
    "plt.xlabel('$\\\\beta_{0\\\\pi}$', fontsize=24)\n",
    "plt.tight_layout()\n",
    "plt.show()"
   ]
  },
  {
   "cell_type": "markdown",
   "metadata": {},
   "source": [
    "As we can see from the plots above, our $\\hat{\\beta}$ calculated from the observed data falls outside the inner 95% of the samples, and so we can reject $H_0$: the term ``chicken`` is decreasing in prevalance over time."
   ]
  }
 ],
 "metadata": {
  "kernelspec": {
   "display_name": "Python 2",
   "language": "python",
   "name": "python2"
  },
  "language_info": {
   "codemirror_mode": {
    "name": "ipython",
    "version": 2
   },
   "file_extension": ".py",
   "mimetype": "text/x-python",
   "name": "python",
   "nbconvert_exporter": "python",
   "pygments_lexer": "ipython2",
   "version": "2.7.9"
  }
 },
 "nbformat": 4,
 "nbformat_minor": 0
}

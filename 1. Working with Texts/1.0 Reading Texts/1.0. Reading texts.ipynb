{
 "cells": [
  {
   "cell_type": "code",
   "execution_count": 1,
   "metadata": {
    "collapsed": false
   },
   "outputs": [
    {
     "name": "stdout",
     "output_type": "stream",
     "text": [
      "Populating the interactive namespace from numpy and matplotlib\n"
     ]
    }
   ],
   "source": [
    "%pylab inline"
   ]
  },
  {
   "cell_type": "markdown",
   "metadata": {},
   "source": [
    "# Reading texts\n",
    "\n",
    "In this notebook we will read a single text file, and experiment with tokenization, normalization, and filtering."
   ]
  },
  {
   "cell_type": "code",
   "execution_count": 2,
   "metadata": {
    "collapsed": true
   },
   "outputs": [],
   "source": [
    "import nltk\n",
    "import matplotlib.pyplot as plt"
   ]
  },
  {
   "cell_type": "markdown",
   "metadata": {},
   "source": [
    "## Read a file from disk"
   ]
  },
  {
   "cell_type": "code",
   "execution_count": 3,
   "metadata": {
    "collapsed": false
   },
   "outputs": [],
   "source": [
    "# Try changing this path to point to a different text file.\n",
    "raw_text = nltk.load('../data/lorem.txt')    "
   ]
  },
  {
   "cell_type": "code",
   "execution_count": 4,
   "metadata": {
    "collapsed": false
   },
   "outputs": [
    {
     "data": {
      "text/plain": [
       "u'Lorem ipsum dolor sit amet, consectetur adipiscing elit. Pellentesque non lacinia velit, quis scelerisque orci. Fusce ac nisi sit amet justo porta aliquam. Fusce ac arcu ut diam imperdiet hendrerit. Integer vitae finibus lacus. Mauris pellentesque, ipsum eget scelerisque molestie, diam est molestie arcu, a blandit nulla eros ut dui. Pellentesque odio massa, rutrum nec magna ac, viverra pulvinar magna. Duis ultricies, ligula id vulputate eleifend, metus leo semper ante, sed suscipit lacus odio non justo.\\n\\nInterdum et malesuada fames ac ante ipsum primis in faucibus. Donec a libero et nisl tincidunt dignissim in et arcu. Nam eleifend mi ut sodales suscipit. Aenean sit amet nunc tincidunt, facilisis purus et, porta dui. Maecenas id tortor fusce malesuada sem accumsan feugiat. Pellentesque molestie velit nec arcu consectetur, sed tempor tellus varius. In hac habitasse platea dictumst. Aliquam erat volutpat. Sed placerat varius purus eget semper.\\n\\nFusce quis risus eu purus faucibus dignissim. Morbi facilisis dolor sed purus tincidunt, at eleifend lorem iaculis. Maecenas sed lobortis nunc. Nullam sollicitudin finibus imperdiet. Nam pharetra ex justo, non elementum massa molestie a. Vivamus quis ipsum nulla. Quisque leo nisl, luctus in ultrices id, malesuada id purus. Ut laoreet justo eget elementum tempus.\\n\\nQuisque vitae aliquet quam, non accumsan felis. Sed nec lectus ante. Phasellus mi diam, facilisis eu vulputate at, vulputate blandit fusce urna. Fusce iaculis pharetra accumsan. In hac habitasse platea dictumst. Mauris vel massa felis. Fusce congue et tellus vitae condimentum. Cras lacinia dignissim mollis. Donec pellentesque eleifend purus, non varius tortor rhoncus non. Nulla tempor, nisl a fermentum tristique, orci dui ultricies velit, at pretium nibh justo a sem. In faucibus enim lacinia sem pretium pretium eu ut lectus. Nullam consequat orci ac odio ultrices, eu hendrerit nisl eleifend. Nulla elit nulla, finibus at sem nec, faucibus ultricies leo. Nunc ante elit, laoreet non magna at, laoreet ultricies ipsum.\\n\\nInteger vel nulla hendrerit, lacinia sem a, fusce pellentesque lorem. Aliquam ullamcorper dapibus fermentum. Integer a mi sed ante faucibus efficitur non in metus. Nunc condimentum felis at consequat vulputate. Donec fusce bibendum rutrum diam. Nunc et nunc et magna sodales ultrices at feugiat ipsum. Sed tincidunt urna vel lectus dignissim dictum.'"
      ]
     },
     "execution_count": 4,
     "metadata": {},
     "output_type": "execute_result"
    }
   ],
   "source": [
    "raw_text"
   ]
  },
  {
   "cell_type": "markdown",
   "metadata": {},
   "source": [
    "## Tokenization\n",
    "\n",
    "Tokenization is the process of splitting up a text into \"tokens\". For our purposes, the tokens that we are interested in are usually words.\n",
    "\n",
    "The simplest approach might be to split the text wherever we find a space. This can work just fine, but there are several undesirable artefacts; newlines and punctuation are kept."
   ]
  },
  {
   "cell_type": "code",
   "execution_count": 5,
   "metadata": {
    "collapsed": false
   },
   "outputs": [
    {
     "data": {
      "text/plain": [
       "[u'Lorem',\n",
       " u'ipsum',\n",
       " u'dolor',\n",
       " u'sit',\n",
       " u'amet,',\n",
       " u'consectetur',\n",
       " u'adipiscing',\n",
       " u'elit.',\n",
       " u'Pellentesque',\n",
       " u'non',\n",
       " u'lacinia',\n",
       " u'velit,',\n",
       " u'quis',\n",
       " u'scelerisque',\n",
       " u'orci.',\n",
       " u'Fusce',\n",
       " u'ac',\n",
       " u'nisi',\n",
       " u'sit',\n",
       " u'amet',\n",
       " u'justo',\n",
       " u'porta',\n",
       " u'aliquam.',\n",
       " u'Fusce',\n",
       " u'ac',\n",
       " u'arcu',\n",
       " u'ut',\n",
       " u'diam',\n",
       " u'imperdiet',\n",
       " u'hendrerit.',\n",
       " u'Integer',\n",
       " u'vitae',\n",
       " u'finibus',\n",
       " u'lacus.',\n",
       " u'Mauris',\n",
       " u'pellentesque,',\n",
       " u'ipsum',\n",
       " u'eget',\n",
       " u'scelerisque',\n",
       " u'molestie,',\n",
       " u'diam',\n",
       " u'est',\n",
       " u'molestie',\n",
       " u'arcu,',\n",
       " u'a',\n",
       " u'blandit',\n",
       " u'nulla',\n",
       " u'eros',\n",
       " u'ut',\n",
       " u'dui.',\n",
       " u'Pellentesque',\n",
       " u'odio',\n",
       " u'massa,',\n",
       " u'rutrum',\n",
       " u'nec',\n",
       " u'magna',\n",
       " u'ac,',\n",
       " u'viverra',\n",
       " u'pulvinar',\n",
       " u'magna.',\n",
       " u'Duis',\n",
       " u'ultricies,',\n",
       " u'ligula',\n",
       " u'id',\n",
       " u'vulputate',\n",
       " u'eleifend,',\n",
       " u'metus',\n",
       " u'leo',\n",
       " u'semper',\n",
       " u'ante,',\n",
       " u'sed',\n",
       " u'suscipit',\n",
       " u'lacus',\n",
       " u'odio',\n",
       " u'non',\n",
       " u'justo.\\n\\nInterdum',\n",
       " u'et',\n",
       " u'malesuada',\n",
       " u'fames',\n",
       " u'ac',\n",
       " u'ante',\n",
       " u'ipsum',\n",
       " u'primis',\n",
       " u'in',\n",
       " u'faucibus.',\n",
       " u'Donec',\n",
       " u'a',\n",
       " u'libero',\n",
       " u'et',\n",
       " u'nisl',\n",
       " u'tincidunt',\n",
       " u'dignissim',\n",
       " u'in',\n",
       " u'et',\n",
       " u'arcu.',\n",
       " u'Nam',\n",
       " u'eleifend',\n",
       " u'mi',\n",
       " u'ut',\n",
       " u'sodales',\n",
       " u'suscipit.',\n",
       " u'Aenean',\n",
       " u'sit',\n",
       " u'amet',\n",
       " u'nunc',\n",
       " u'tincidunt,',\n",
       " u'facilisis',\n",
       " u'purus',\n",
       " u'et,',\n",
       " u'porta',\n",
       " u'dui.',\n",
       " u'Maecenas',\n",
       " u'id',\n",
       " u'tortor',\n",
       " u'fusce',\n",
       " u'malesuada',\n",
       " u'sem',\n",
       " u'accumsan',\n",
       " u'feugiat.',\n",
       " u'Pellentesque',\n",
       " u'molestie',\n",
       " u'velit',\n",
       " u'nec',\n",
       " u'arcu',\n",
       " u'consectetur,',\n",
       " u'sed',\n",
       " u'tempor',\n",
       " u'tellus',\n",
       " u'varius.',\n",
       " u'In',\n",
       " u'hac',\n",
       " u'habitasse',\n",
       " u'platea',\n",
       " u'dictumst.',\n",
       " u'Aliquam',\n",
       " u'erat',\n",
       " u'volutpat.',\n",
       " u'Sed',\n",
       " u'placerat',\n",
       " u'varius',\n",
       " u'purus',\n",
       " u'eget',\n",
       " u'semper.\\n\\nFusce',\n",
       " u'quis',\n",
       " u'risus',\n",
       " u'eu',\n",
       " u'purus',\n",
       " u'faucibus',\n",
       " u'dignissim.',\n",
       " u'Morbi',\n",
       " u'facilisis',\n",
       " u'dolor',\n",
       " u'sed',\n",
       " u'purus',\n",
       " u'tincidunt,',\n",
       " u'at',\n",
       " u'eleifend',\n",
       " u'lorem',\n",
       " u'iaculis.',\n",
       " u'Maecenas',\n",
       " u'sed',\n",
       " u'lobortis',\n",
       " u'nunc.',\n",
       " u'Nullam',\n",
       " u'sollicitudin',\n",
       " u'finibus',\n",
       " u'imperdiet.',\n",
       " u'Nam',\n",
       " u'pharetra',\n",
       " u'ex',\n",
       " u'justo,',\n",
       " u'non',\n",
       " u'elementum',\n",
       " u'massa',\n",
       " u'molestie',\n",
       " u'a.',\n",
       " u'Vivamus',\n",
       " u'quis',\n",
       " u'ipsum',\n",
       " u'nulla.',\n",
       " u'Quisque',\n",
       " u'leo',\n",
       " u'nisl,',\n",
       " u'luctus',\n",
       " u'in',\n",
       " u'ultrices',\n",
       " u'id,',\n",
       " u'malesuada',\n",
       " u'id',\n",
       " u'purus.',\n",
       " u'Ut',\n",
       " u'laoreet',\n",
       " u'justo',\n",
       " u'eget',\n",
       " u'elementum',\n",
       " u'tempus.\\n\\nQuisque',\n",
       " u'vitae',\n",
       " u'aliquet',\n",
       " u'quam,',\n",
       " u'non',\n",
       " u'accumsan',\n",
       " u'felis.',\n",
       " u'Sed',\n",
       " u'nec',\n",
       " u'lectus',\n",
       " u'ante.',\n",
       " u'Phasellus',\n",
       " u'mi',\n",
       " u'diam,',\n",
       " u'facilisis',\n",
       " u'eu',\n",
       " u'vulputate',\n",
       " u'at,',\n",
       " u'vulputate',\n",
       " u'blandit',\n",
       " u'fusce',\n",
       " u'urna.',\n",
       " u'Fusce',\n",
       " u'iaculis',\n",
       " u'pharetra',\n",
       " u'accumsan.',\n",
       " u'In',\n",
       " u'hac',\n",
       " u'habitasse',\n",
       " u'platea',\n",
       " u'dictumst.',\n",
       " u'Mauris',\n",
       " u'vel',\n",
       " u'massa',\n",
       " u'felis.',\n",
       " u'Fusce',\n",
       " u'congue',\n",
       " u'et',\n",
       " u'tellus',\n",
       " u'vitae',\n",
       " u'condimentum.',\n",
       " u'Cras',\n",
       " u'lacinia',\n",
       " u'dignissim',\n",
       " u'mollis.',\n",
       " u'Donec',\n",
       " u'pellentesque',\n",
       " u'eleifend',\n",
       " u'purus,',\n",
       " u'non',\n",
       " u'varius',\n",
       " u'tortor',\n",
       " u'rhoncus',\n",
       " u'non.',\n",
       " u'Nulla',\n",
       " u'tempor,',\n",
       " u'nisl',\n",
       " u'a',\n",
       " u'fermentum',\n",
       " u'tristique,',\n",
       " u'orci',\n",
       " u'dui',\n",
       " u'ultricies',\n",
       " u'velit,',\n",
       " u'at',\n",
       " u'pretium',\n",
       " u'nibh',\n",
       " u'justo',\n",
       " u'a',\n",
       " u'sem.',\n",
       " u'In',\n",
       " u'faucibus',\n",
       " u'enim',\n",
       " u'lacinia',\n",
       " u'sem',\n",
       " u'pretium',\n",
       " u'pretium',\n",
       " u'eu',\n",
       " u'ut',\n",
       " u'lectus.',\n",
       " u'Nullam',\n",
       " u'consequat',\n",
       " u'orci',\n",
       " u'ac',\n",
       " u'odio',\n",
       " u'ultrices,',\n",
       " u'eu',\n",
       " u'hendrerit',\n",
       " u'nisl',\n",
       " u'eleifend.',\n",
       " u'Nulla',\n",
       " u'elit',\n",
       " u'nulla,',\n",
       " u'finibus',\n",
       " u'at',\n",
       " u'sem',\n",
       " u'nec,',\n",
       " u'faucibus',\n",
       " u'ultricies',\n",
       " u'leo.',\n",
       " u'Nunc',\n",
       " u'ante',\n",
       " u'elit,',\n",
       " u'laoreet',\n",
       " u'non',\n",
       " u'magna',\n",
       " u'at,',\n",
       " u'laoreet',\n",
       " u'ultricies',\n",
       " u'ipsum.\\n\\nInteger',\n",
       " u'vel',\n",
       " u'nulla',\n",
       " u'hendrerit,',\n",
       " u'lacinia',\n",
       " u'sem',\n",
       " u'a,',\n",
       " u'fusce',\n",
       " u'pellentesque',\n",
       " u'lorem.',\n",
       " u'Aliquam',\n",
       " u'ullamcorper',\n",
       " u'dapibus',\n",
       " u'fermentum.',\n",
       " u'Integer',\n",
       " u'a',\n",
       " u'mi',\n",
       " u'sed',\n",
       " u'ante',\n",
       " u'faucibus',\n",
       " u'efficitur',\n",
       " u'non',\n",
       " u'in',\n",
       " u'metus.',\n",
       " u'Nunc',\n",
       " u'condimentum',\n",
       " u'felis',\n",
       " u'at',\n",
       " u'consequat',\n",
       " u'vulputate.',\n",
       " u'Donec',\n",
       " u'fusce',\n",
       " u'bibendum',\n",
       " u'rutrum',\n",
       " u'diam.',\n",
       " u'Nunc',\n",
       " u'et',\n",
       " u'nunc',\n",
       " u'et',\n",
       " u'magna',\n",
       " u'sodales',\n",
       " u'ultrices',\n",
       " u'at',\n",
       " u'feugiat',\n",
       " u'ipsum.',\n",
       " u'Sed',\n",
       " u'tincidunt',\n",
       " u'urna',\n",
       " u'vel',\n",
       " u'lectus',\n",
       " u'dignissim',\n",
       " u'dictum.']"
      ]
     },
     "execution_count": 5,
     "metadata": {},
     "output_type": "execute_result"
    }
   ],
   "source": [
    "raw_text.split(' ')"
   ]
  },
  {
   "cell_type": "markdown",
   "metadata": {},
   "source": [
    "A better way is to split on any whitespace, and to separate punctuation from adjacent tokens. The nltk package has a tokenizer called the [Penn Treebank Tokenizer](http://www.nltk.org/api/nltk.tokenize.html#module-nltk.tokenize.treebank) that does the job."
   ]
  },
  {
   "cell_type": "code",
   "execution_count": 6,
   "metadata": {
    "collapsed": true
   },
   "outputs": [],
   "source": [
    "# Shortcut for Penn Treebank Tokenizer.\n",
    "from nltk import word_tokenize    "
   ]
  },
  {
   "cell_type": "code",
   "execution_count": 7,
   "metadata": {
    "collapsed": false
   },
   "outputs": [],
   "source": [
    "tokens = word_tokenize(raw_text)"
   ]
  },
  {
   "cell_type": "code",
   "execution_count": 8,
   "metadata": {
    "collapsed": false
   },
   "outputs": [
    {
     "data": {
      "text/plain": [
       "[u'Lorem',\n",
       " u'ipsum',\n",
       " u'dolor',\n",
       " u'sit',\n",
       " u'amet',\n",
       " u',',\n",
       " u'consectetur',\n",
       " u'adipiscing',\n",
       " u'elit',\n",
       " u'.',\n",
       " u'Pellentesque',\n",
       " u'non',\n",
       " u'lacinia',\n",
       " u'velit',\n",
       " u',',\n",
       " u'quis',\n",
       " u'scelerisque',\n",
       " u'orci',\n",
       " u'.',\n",
       " u'Fusce',\n",
       " u'ac',\n",
       " u'nisi',\n",
       " u'sit',\n",
       " u'amet',\n",
       " u'justo',\n",
       " u'porta',\n",
       " u'aliquam',\n",
       " u'.',\n",
       " u'Fusce',\n",
       " u'ac',\n",
       " u'arcu',\n",
       " u'ut',\n",
       " u'diam',\n",
       " u'imperdiet',\n",
       " u'hendrerit',\n",
       " u'.',\n",
       " u'Integer',\n",
       " u'vitae',\n",
       " u'finibus',\n",
       " u'lacus',\n",
       " u'.',\n",
       " u'Mauris',\n",
       " u'pellentesque',\n",
       " u',',\n",
       " u'ipsum',\n",
       " u'eget',\n",
       " u'scelerisque',\n",
       " u'molestie',\n",
       " u',',\n",
       " u'diam',\n",
       " u'est',\n",
       " u'molestie',\n",
       " u'arcu',\n",
       " u',',\n",
       " u'a',\n",
       " u'blandit',\n",
       " u'nulla',\n",
       " u'eros',\n",
       " u'ut',\n",
       " u'dui',\n",
       " u'.',\n",
       " u'Pellentesque',\n",
       " u'odio',\n",
       " u'massa',\n",
       " u',',\n",
       " u'rutrum',\n",
       " u'nec',\n",
       " u'magna',\n",
       " u'ac',\n",
       " u',',\n",
       " u'viverra',\n",
       " u'pulvinar',\n",
       " u'magna',\n",
       " u'.',\n",
       " u'Duis',\n",
       " u'ultricies',\n",
       " u',',\n",
       " u'ligula',\n",
       " u'id',\n",
       " u'vulputate',\n",
       " u'eleifend',\n",
       " u',',\n",
       " u'metus',\n",
       " u'leo',\n",
       " u'semper',\n",
       " u'ante',\n",
       " u',',\n",
       " u'sed',\n",
       " u'suscipit',\n",
       " u'lacus',\n",
       " u'odio',\n",
       " u'non',\n",
       " u'justo',\n",
       " u'.',\n",
       " u'Interdum',\n",
       " u'et',\n",
       " u'malesuada',\n",
       " u'fames',\n",
       " u'ac',\n",
       " u'ante',\n",
       " u'ipsum',\n",
       " u'primis',\n",
       " u'in',\n",
       " u'faucibus',\n",
       " u'.',\n",
       " u'Donec',\n",
       " u'a',\n",
       " u'libero',\n",
       " u'et',\n",
       " u'nisl',\n",
       " u'tincidunt',\n",
       " u'dignissim',\n",
       " u'in',\n",
       " u'et',\n",
       " u'arcu',\n",
       " u'.',\n",
       " u'Nam',\n",
       " u'eleifend',\n",
       " u'mi',\n",
       " u'ut',\n",
       " u'sodales',\n",
       " u'suscipit',\n",
       " u'.',\n",
       " u'Aenean',\n",
       " u'sit',\n",
       " u'amet',\n",
       " u'nunc',\n",
       " u'tincidunt',\n",
       " u',',\n",
       " u'facilisis',\n",
       " u'purus',\n",
       " u'et',\n",
       " u',',\n",
       " u'porta',\n",
       " u'dui',\n",
       " u'.',\n",
       " u'Maecenas',\n",
       " u'id',\n",
       " u'tortor',\n",
       " u'fusce',\n",
       " u'malesuada',\n",
       " u'sem',\n",
       " u'accumsan',\n",
       " u'feugiat',\n",
       " u'.',\n",
       " u'Pellentesque',\n",
       " u'molestie',\n",
       " u'velit',\n",
       " u'nec',\n",
       " u'arcu',\n",
       " u'consectetur',\n",
       " u',',\n",
       " u'sed',\n",
       " u'tempor',\n",
       " u'tellus',\n",
       " u'varius',\n",
       " u'.',\n",
       " u'In',\n",
       " u'hac',\n",
       " u'habitasse',\n",
       " u'platea',\n",
       " u'dictumst',\n",
       " u'.',\n",
       " u'Aliquam',\n",
       " u'erat',\n",
       " u'volutpat',\n",
       " u'.',\n",
       " u'Sed',\n",
       " u'placerat',\n",
       " u'varius',\n",
       " u'purus',\n",
       " u'eget',\n",
       " u'semper',\n",
       " u'.',\n",
       " u'Fusce',\n",
       " u'quis',\n",
       " u'risus',\n",
       " u'eu',\n",
       " u'purus',\n",
       " u'faucibus',\n",
       " u'dignissim',\n",
       " u'.',\n",
       " u'Morbi',\n",
       " u'facilisis',\n",
       " u'dolor',\n",
       " u'sed',\n",
       " u'purus',\n",
       " u'tincidunt',\n",
       " u',',\n",
       " u'at',\n",
       " u'eleifend',\n",
       " u'lorem',\n",
       " u'iaculis',\n",
       " u'.',\n",
       " u'Maecenas',\n",
       " u'sed',\n",
       " u'lobortis',\n",
       " u'nunc',\n",
       " u'.',\n",
       " u'Nullam',\n",
       " u'sollicitudin',\n",
       " u'finibus',\n",
       " u'imperdiet',\n",
       " u'.',\n",
       " u'Nam',\n",
       " u'pharetra',\n",
       " u'ex',\n",
       " u'justo',\n",
       " u',',\n",
       " u'non',\n",
       " u'elementum',\n",
       " u'massa',\n",
       " u'molestie',\n",
       " u'a.',\n",
       " u'Vivamus',\n",
       " u'quis',\n",
       " u'ipsum',\n",
       " u'nulla',\n",
       " u'.',\n",
       " u'Quisque',\n",
       " u'leo',\n",
       " u'nisl',\n",
       " u',',\n",
       " u'luctus',\n",
       " u'in',\n",
       " u'ultrices',\n",
       " u'id',\n",
       " u',',\n",
       " u'malesuada',\n",
       " u'id',\n",
       " u'purus',\n",
       " u'.',\n",
       " u'Ut',\n",
       " u'laoreet',\n",
       " u'justo',\n",
       " u'eget',\n",
       " u'elementum',\n",
       " u'tempus',\n",
       " u'.',\n",
       " u'Quisque',\n",
       " u'vitae',\n",
       " u'aliquet',\n",
       " u'quam',\n",
       " u',',\n",
       " u'non',\n",
       " u'accumsan',\n",
       " u'felis',\n",
       " u'.',\n",
       " u'Sed',\n",
       " u'nec',\n",
       " u'lectus',\n",
       " u'ante',\n",
       " u'.',\n",
       " u'Phasellus',\n",
       " u'mi',\n",
       " u'diam',\n",
       " u',',\n",
       " u'facilisis',\n",
       " u'eu',\n",
       " u'vulputate',\n",
       " u'at',\n",
       " u',',\n",
       " u'vulputate',\n",
       " u'blandit',\n",
       " u'fusce',\n",
       " u'urna',\n",
       " u'.',\n",
       " u'Fusce',\n",
       " u'iaculis',\n",
       " u'pharetra',\n",
       " u'accumsan',\n",
       " u'.',\n",
       " u'In',\n",
       " u'hac',\n",
       " u'habitasse',\n",
       " u'platea',\n",
       " u'dictumst',\n",
       " u'.',\n",
       " u'Mauris',\n",
       " u'vel',\n",
       " u'massa',\n",
       " u'felis',\n",
       " u'.',\n",
       " u'Fusce',\n",
       " u'congue',\n",
       " u'et',\n",
       " u'tellus',\n",
       " u'vitae',\n",
       " u'condimentum',\n",
       " u'.',\n",
       " u'Cras',\n",
       " u'lacinia',\n",
       " u'dignissim',\n",
       " u'mollis',\n",
       " u'.',\n",
       " u'Donec',\n",
       " u'pellentesque',\n",
       " u'eleifend',\n",
       " u'purus',\n",
       " u',',\n",
       " u'non',\n",
       " u'varius',\n",
       " u'tortor',\n",
       " u'rhoncus',\n",
       " u'non',\n",
       " u'.',\n",
       " u'Nulla',\n",
       " u'tempor',\n",
       " u',',\n",
       " u'nisl',\n",
       " u'a',\n",
       " u'fermentum',\n",
       " u'tristique',\n",
       " u',',\n",
       " u'orci',\n",
       " u'dui',\n",
       " u'ultricies',\n",
       " u'velit',\n",
       " u',',\n",
       " u'at',\n",
       " u'pretium',\n",
       " u'nibh',\n",
       " u'justo',\n",
       " u'a',\n",
       " u'sem',\n",
       " u'.',\n",
       " u'In',\n",
       " u'faucibus',\n",
       " u'enim',\n",
       " u'lacinia',\n",
       " u'sem',\n",
       " u'pretium',\n",
       " u'pretium',\n",
       " u'eu',\n",
       " u'ut',\n",
       " u'lectus',\n",
       " u'.',\n",
       " u'Nullam',\n",
       " u'consequat',\n",
       " u'orci',\n",
       " u'ac',\n",
       " u'odio',\n",
       " u'ultrices',\n",
       " u',',\n",
       " u'eu',\n",
       " u'hendrerit',\n",
       " u'nisl',\n",
       " u'eleifend',\n",
       " u'.',\n",
       " u'Nulla',\n",
       " u'elit',\n",
       " u'nulla',\n",
       " u',',\n",
       " u'finibus',\n",
       " u'at',\n",
       " u'sem',\n",
       " u'nec',\n",
       " u',',\n",
       " u'faucibus',\n",
       " u'ultricies',\n",
       " u'leo',\n",
       " u'.',\n",
       " u'Nunc',\n",
       " u'ante',\n",
       " u'elit',\n",
       " u',',\n",
       " u'laoreet',\n",
       " u'non',\n",
       " u'magna',\n",
       " u'at',\n",
       " u',',\n",
       " u'laoreet',\n",
       " u'ultricies',\n",
       " u'ipsum',\n",
       " u'.',\n",
       " u'Integer',\n",
       " u'vel',\n",
       " u'nulla',\n",
       " u'hendrerit',\n",
       " u',',\n",
       " u'lacinia',\n",
       " u'sem',\n",
       " u'a',\n",
       " u',',\n",
       " u'fusce',\n",
       " u'pellentesque',\n",
       " u'lorem',\n",
       " u'.',\n",
       " u'Aliquam',\n",
       " u'ullamcorper',\n",
       " u'dapibus',\n",
       " u'fermentum',\n",
       " u'.',\n",
       " u'Integer',\n",
       " u'a',\n",
       " u'mi',\n",
       " u'sed',\n",
       " u'ante',\n",
       " u'faucibus',\n",
       " u'efficitur',\n",
       " u'non',\n",
       " u'in',\n",
       " u'metus',\n",
       " u'.',\n",
       " u'Nunc',\n",
       " u'condimentum',\n",
       " u'felis',\n",
       " u'at',\n",
       " u'consequat',\n",
       " u'vulputate',\n",
       " u'.',\n",
       " u'Donec',\n",
       " u'fusce',\n",
       " u'bibendum',\n",
       " u'rutrum',\n",
       " u'diam',\n",
       " u'.',\n",
       " u'Nunc',\n",
       " u'et',\n",
       " u'nunc',\n",
       " u'et',\n",
       " u'magna',\n",
       " u'sodales',\n",
       " u'ultrices',\n",
       " u'at',\n",
       " u'feugiat',\n",
       " u'ipsum',\n",
       " u'.',\n",
       " u'Sed',\n",
       " u'tincidunt',\n",
       " u'urna',\n",
       " u'vel',\n",
       " u'lectus',\n",
       " u'dignissim',\n",
       " u'dictum',\n",
       " u'.']"
      ]
     },
     "execution_count": 8,
     "metadata": {},
     "output_type": "execute_result"
    }
   ],
   "source": [
    "tokens"
   ]
  },
  {
   "cell_type": "markdown",
   "metadata": {},
   "source": [
    "In most of the workflows that we will use in this course, it is typical to represent a **document** as a list of tokens like the one above.\n",
    "\n",
    "NTLK provides a representation called [``Text``](http://www.nltk.org/api/nltk.html#nltk.text.Text) that provides some helpful tools for exploring your document. It is basically just a wrapper around the tokens."
   ]
  },
  {
   "cell_type": "code",
   "execution_count": 9,
   "metadata": {
    "collapsed": true
   },
   "outputs": [],
   "source": [
    "text = nltk.Text(tokens)"
   ]
  },
  {
   "cell_type": "markdown",
   "metadata": {},
   "source": [
    "We can find all of the occurrences of a token in the document using the [``concordance()``](http://www.nltk.org/api/nltk.html#nltk.text.Text.concordance) method."
   ]
  },
  {
   "cell_type": "code",
   "execution_count": 10,
   "metadata": {
    "collapsed": false
   },
   "outputs": [
    {
     "name": "stdout",
     "output_type": "stream",
     "text": [
      "Displaying 3 of 3 matches:\n",
      "                                     velit , quis scelerisque orci . Fusce ac n\n",
      "msan feugiat . Pellentesque molestie velit nec arcu consectetur , sed tempor te\n",
      "entum tristique , orci dui ultricies velit , at pretium nibh justo a sem . In f\n"
     ]
    }
   ],
   "source": [
    "text.concordance('velit')"
   ]
  },
  {
   "cell_type": "markdown",
   "metadata": {},
   "source": [
    "Similarly, the [``dispersion_plot()``](http://www.nltk.org/api/nltk.html#nltk.text.Text.dispersion_plot) shows the relative position in which specific tokens occur."
   ]
  },
  {
   "cell_type": "code",
   "execution_count": 11,
   "metadata": {
    "collapsed": false
   },
   "outputs": [
    {
     "data": {
      "image/png": "[encoded data removed]",
      "text/plain": [
       "<matplotlib.figure.Figure at 0x103fbefd0>"
      ]
     },
     "metadata": {},
     "output_type": "display_data"
    }
   ],
   "source": [
    "text.dispersion_plot(['ipsum', 'orci', 'sem', 'justo', 'arcu', 'Fusce', 'fusce'])"
   ]
  },
  {
   "cell_type": "markdown",
   "metadata": {},
   "source": [
    "We can plot the frequency of the top 20 most common tokens in the text using the [``plot()``](http://www.nltk.org/api/nltk.html#nltk.text.Text.plot) method."
   ]
  },
  {
   "cell_type": "code",
   "execution_count": 12,
   "metadata": {
    "collapsed": false
   },
   "outputs": [
    {
     "data": {
      "image/png": "[encoded data removed]",
      "text/plain": [
       "<matplotlib.figure.Figure at 0x100634f10>"
      ]
     },
     "metadata": {},
     "output_type": "display_data"
    }
   ],
   "source": [
    "text.plot(20)"
   ]
  },
  {
   "cell_type": "markdown",
   "metadata": {},
   "source": [
    "## Normalization\n",
    "\n",
    "Notice in the dispersion plot example, above, that ``Fusce`` and ``fusce`` are treated as distinct tokens. The computer does not know that ``Fusce`` and ``fusce`` are the same -- one starts with an ``F``, and the other starts with an ``f``, which are two entirely different characters.\n",
    "\n",
    "**Normalization** is the process of transforming tokens into a standardized representation. The simplest form of normalization is to convert all tokens to lower case, which we can do prior to tokenization using the [``lower()``](https://docs.python.org/2/library/stdtypes.html#str.lower) method."
   ]
  },
  {
   "cell_type": "code",
   "execution_count": 13,
   "metadata": {
    "collapsed": false
   },
   "outputs": [
    {
     "name": "stdout",
     "output_type": "stream",
     "text": [
      "lorem ipsum dolor sit amet, consectetur adipiscing elit. pellentesque non lacinia velit, quis scelerisque orci. fusce ac nisi sit amet justo porta aliquam. fusce ac arcu ut diam imperdiet hendrerit. integer vitae finibus lacus. mauris pellentesque, ipsum eget scelerisque molestie, diam est molestie arcu, a blandit nulla eros ut dui. pellentesque odio massa, rutrum nec magna ac, viverra pulvinar magna. duis ultricies, ligula id vulputate eleifend, metus leo semper ante, sed suscipit lacus odio no\n"
     ]
    }
   ],
   "source": [
    "print raw_text.lower()[:500]    # Only show the first 500 characters (0 - 499) of the string."
   ]
  },
  {
   "cell_type": "code",
   "execution_count": 14,
   "metadata": {
    "collapsed": true
   },
   "outputs": [],
   "source": [
    "tokens = word_tokenize(raw_text.lower())\n",
    "text = nltk.Text(tokens)"
   ]
  },
  {
   "cell_type": "code",
   "execution_count": 15,
   "metadata": {
    "collapsed": false
   },
   "outputs": [
    {
     "name": "stdout",
     "output_type": "stream",
     "text": [
      "[u'lorem', u'ipsum', u'dolor', u'sit', u'amet', u',', u'consectetur', u'adipiscing', u'elit', u'.']\n"
     ]
    }
   ],
   "source": [
    "print text[:10]    # Only show the first 10 tokens (0-9) in the document."
   ]
  },
  {
   "cell_type": "markdown",
   "metadata": {},
   "source": [
    "Now notice that the token ``Fusce`` (with the upper-case ``F``) does not appear in the document; all occurrences of ``Fusce`` have bee **normalized** to ``fusce`` (with a lowercase ``f``)."
   ]
  },
  {
   "cell_type": "code",
   "execution_count": 16,
   "metadata": {
    "collapsed": false
   },
   "outputs": [
    {
     "data": {
      "image/png": "[encoded data removed]",
      "text/plain": [
       "<matplotlib.figure.Figure at 0x10a24d050>"
      ]
     },
     "metadata": {},
     "output_type": "display_data"
    }
   ],
   "source": [
    "text.dispersion_plot(['Fusce', 'fusce'])"
   ]
  },
  {
   "cell_type": "markdown",
   "metadata": {},
   "source": [
    "### Stemming\n",
    "\n",
    "Stemming is another useful normalization procedure. Sometimes (depending on our research question), distinguishing word forms like \"evolutionary\" and \"evolution\" is not desirable. Stemming basically involves chopping off affixes so that only the \"root\" or \"stem\" of the word remains.\n",
    "\n",
    "The NLTK package provides several different stemmers. "
   ]
  },
  {
   "cell_type": "code",
   "execution_count": 18,
   "metadata": {
    "collapsed": false
   },
   "outputs": [
    {
     "name": "stdout",
     "output_type": "stream",
     "text": [
      "[u'this', u'paper', u'describes', u'the', u'preliminary', u'results', u'of', u'three', u'experiments', u'in', u'subjective', u'probability', u'forecasting', u'which', u'were', u'recently', u'conducted', u'in', u'four', u'weather', u'service', u'forecast', u'offices', u'(', u'wsfos', u')', u'of', u'the', u'national', u'weather', u'service', u'.', u'the', u'first', u'experiment', u',', u'which', u'was', u'conducted', u'at', u'the', u'st.', u'louis', u'wsfo', u',', u'was', u'designed', u'to', u'investigate', u'both']\n"
     ]
    }
   ],
   "source": [
    "raw_text = nltk.load('../data/abstract.txt')\n",
    "tokens = word_tokenize(raw_text.lower())\n",
    "print tokens[:50]    # Only the first 50 tokens."
   ]
  },
  {
   "cell_type": "markdown",
   "metadata": {},
   "source": [
    "Here's an example of normalization with the [Porter stemmer](http://tartarus.org/martin/PorterStemmer/), which has been around since the late 1970s:"
   ]
  },
  {
   "cell_type": "code",
   "execution_count": 19,
   "metadata": {
    "collapsed": false
   },
   "outputs": [
    {
     "name": "stdout",
     "output_type": "stream",
     "text": [
      "[u'thi', u'paper', u'describ', u'the', u'preliminari', u'result', u'of', u'three', u'experi', u'in', u'subject', u'probabl', u'forecast', u'which', u'were', u'recent', u'conduct', u'in', u'four', u'weather', u'servic', u'forecast', u'offic', u'(', u'wsfo', u')', u'of', u'the', u'nation', u'weather', u'servic', u'.', u'the', u'first', u'experi', u',', u'which', u'wa', u'conduct', u'at', u'the', u'st.', u'loui', u'wsfo', u',', u'wa', u'design', u'to', u'investig', u'both']\n"
     ]
    }
   ],
   "source": [
    "porter = nltk.PorterStemmer()\n",
    "print [porter.stem(token) for token in tokens][:50]"
   ]
  },
  {
   "cell_type": "markdown",
   "metadata": {},
   "source": [
    "...and the [Lancaster stemmer](http://www.scientificpsychic.com/paice/paice.html):"
   ]
  },
  {
   "cell_type": "code",
   "execution_count": 20,
   "metadata": {
    "collapsed": false
   },
   "outputs": [
    {
     "name": "stdout",
     "output_type": "stream",
     "text": [
      "[u'thi', u'pap', u'describ', u'the', u'prelimin', u'result', u'of', u'three', u'expery', u'in', u'subject', u'prob', u'forecast', u'which', u'wer', u'rec', u'conduc', u'in', u'four', u'weath', u'serv', u'forecast', u'off', u'(', u'wsfos', u')', u'of', u'the', u'nat', u'weath', u'serv', u'.', u'the', u'first', u'expery', u',', u'which', u'was', u'conduc', u'at', u'the', u'st.', u'lou', u'wsfo', u',', u'was', u'design', u'to', u'investig', u'both']\n"
     ]
    }
   ],
   "source": [
    "lancaster = nltk.LancasterStemmer()\n",
    "print [lancaster.stem(token) for token in tokens][:50]"
   ]
  },
  {
   "cell_type": "markdown",
   "metadata": {},
   "source": [
    "...and the [Snowball stemmer](http://snowball.tartarus.org/) (which is actually a collection of stemmers for a whole bunch of different languages):"
   ]
  },
  {
   "cell_type": "code",
   "execution_count": 21,
   "metadata": {
    "collapsed": false
   },
   "outputs": [
    {
     "name": "stdout",
     "output_type": "stream",
     "text": [
      "[u'this', u'paper', u'describ', u'the', u'preliminari', u'result', u'of', u'three', u'experi', u'in', u'subject', u'probabl', u'forecast', u'which', u'were', u'recent', u'conduct', u'in', u'four', u'weather', u'servic', u'forecast', u'offic', u'(', u'wsfos', u')', u'of', u'the', u'nation', u'weather', u'servic', u'.', u'the', u'first', u'experi', u',', u'which', u'was', u'conduct', u'at', u'the', u'st.', u'loui', u'wsfo', u',', u'was', u'design', u'to', u'investig', u'both']\n"
     ]
    }
   ],
   "source": [
    "snowball = nltk.SnowballStemmer(\"english\")\n",
    "print [snowball.stem(token) for token in tokens][:50]"
   ]
  },
  {
   "cell_type": "markdown",
   "metadata": {},
   "source": [
    "### Lemmatization\n",
    "\n",
    "An alternate approach to stemming is to **lemmatize** tokens. Instead of chopping up any old word that it encounters, the [WordNet](https://wordnet.princeton.edu/) lemmatizer tries to match tokens with known words in the WordNet lexical database, and then convert them to a known \"lemma\" (\"lexicon headword\"). If the lemmatizer encounters a token that it does not recognize, it will just leave the token as-is."
   ]
  },
  {
   "cell_type": "code",
   "execution_count": 22,
   "metadata": {
    "collapsed": false
   },
   "outputs": [
    {
     "name": "stdout",
     "output_type": "stream",
     "text": [
      "[u'this', u'paper', u'describes', u'the', u'preliminary', u'result', u'of', u'three', u'experiment', u'in', u'subjective', u'probability', u'forecasting', u'which', u'were', u'recently', u'conducted', u'in', u'four', u'weather', u'service', u'forecast', u'office', u'(', u'wsfos', u')', u'of', u'the', u'national', u'weather', u'service', u'.', u'the', u'first', u'experiment', u',', u'which', u'wa', u'conducted', u'at', u'the', u'st.', u'louis', u'wsfo', u',', u'wa', u'designed', u'to', u'investigate', u'both']\n"
     ]
    }
   ],
   "source": [
    "wordnet = nltk.WordNetLemmatizer()\n",
    "print [wordnet.lemmatize(token) for token in tokens][:50]"
   ]
  },
  {
   "cell_type": "markdown",
   "metadata": {},
   "source": [
    "### Side-by-side comparisons\n",
    "\n",
    "Here's a side-by-side comparison of the stemmers shown above."
   ]
  },
  {
   "cell_type": "code",
   "execution_count": 23,
   "metadata": {
    "collapsed": false
   },
   "outputs": [
    {
     "name": "stdout",
     "output_type": "stream",
     "text": [
      "original\tporter  \tlancaster\tsnowball\twordnet \n",
      "--------------------------------------------------------------------------------\n",
      "this     \tthi      \tthi      \tthis     \tthis    \n",
      "paper    \tpaper    \tpap      \tpaper    \tpaper   \n",
      "describes \tdescrib  \tdescrib  \tdescrib  \tdescribes\n",
      "the      \tthe      \tthe      \tthe      \tthe     \n",
      "preliminary \tpreliminari \tprelimin \tpreliminari \tpreliminary\n",
      "results  \tresult   \tresult   \tresult   \tresult  \n",
      "of       \tof       \tof       \tof       \tof      \n",
      "three    \tthree    \tthree    \tthree    \tthree   \n",
      "experiments \texperi   \texpery   \texperi   \texperiment\n",
      "in       \tin       \tin       \tin       \tin      \n",
      "subjective \tsubject  \tsubject  \tsubject  \tsubjective\n",
      "probability \tprobabl  \tprob     \tprobabl  \tprobability\n",
      "forecasting \tforecast \tforecast \tforecast \tforecasting\n",
      "which    \twhich    \twhich    \twhich    \twhich   \n",
      "were     \twere     \twer      \twere     \twere    \n",
      "recently \trecent   \trec      \trecent   \trecently\n",
      "conducted \tconduct  \tconduc   \tconduct  \tconducted\n",
      "in       \tin       \tin       \tin       \tin      \n",
      "four     \tfour     \tfour     \tfour     \tfour    \n",
      "weather  \tweather  \tweath    \tweather  \tweather \n",
      "service  \tservic   \tserv     \tservic   \tservice \n",
      "forecast \tforecast \tforecast \tforecast \tforecast\n",
      "offices  \toffic    \toff      \toffic    \toffice  \n",
      "(        \t(        \t(        \t(        \t(       \n",
      "wsfos    \twsfo     \twsfos    \twsfos    \twsfos   \n",
      ")        \t)        \t)        \t)        \t)       \n",
      "of       \tof       \tof       \tof       \tof      \n",
      "the      \tthe      \tthe      \tthe      \tthe     \n",
      "national \tnation   \tnat      \tnation   \tnational\n",
      "weather  \tweather  \tweath    \tweather  \tweather \n"
     ]
    }
   ],
   "source": [
    "stemmers = [porter.stem, lancaster.stem, snowball.stem, wordnet.lemmatize]\n",
    "print '\\t'.join([t.ljust(8) for t in ['original', 'porter', 'lancaster', 'snowball', 'wordnet']])\n",
    "print '--'*40\n",
    "for token in tokens[:30]:\n",
    "    print token.ljust(8),\n",
    "    for stemmer in stemmers:\n",
    "        print '\\t', stemmer(token).ljust(8),\n",
    "    print"
   ]
  },
  {
   "cell_type": "markdown",
   "metadata": {},
   "source": [
    "## Filtering\n",
    "\n",
    "Finally, depending on our analysis, we may want to filter out various tokens. For example, we may wish to exclude common words like pronouns. The easiest way to remove these kinds of tokens is by using a **stoplist**. A stoplist is simply a list of undesirable words.\n",
    "\n",
    "NLTK provides stoplist containing around 2,400 words from 11 different languages."
   ]
  },
  {
   "cell_type": "code",
   "execution_count": 24,
   "metadata": {
    "collapsed": true
   },
   "outputs": [],
   "source": [
    "from nltk.corpus import stopwords"
   ]
  },
  {
   "cell_type": "markdown",
   "metadata": {},
   "source": [
    "Here are the English stopwords:"
   ]
  },
  {
   "cell_type": "code",
   "execution_count": 25,
   "metadata": {
    "collapsed": false
   },
   "outputs": [
    {
     "name": "stdout",
     "output_type": "stream",
     "text": [
      "[u'i', u'me', u'my', u'myself', u'we', u'our', u'ours', u'ourselves', u'you', u'your', u'yours', u'yourself', u'yourselves', u'he', u'him', u'his', u'himself', u'she', u'her', u'hers', u'herself', u'it', u'its', u'itself', u'they', u'them', u'their', u'theirs', u'themselves', u'what', u'which', u'who', u'whom', u'this', u'that', u'these', u'those', u'am', u'is', u'are', u'was', u'were', u'be', u'been', u'being', u'have', u'has', u'had', u'having', u'do', u'does', u'did', u'doing', u'a', u'an', u'the', u'and', u'but', u'if', u'or', u'because', u'as', u'until', u'while', u'of', u'at', u'by', u'for', u'with', u'about', u'against', u'between', u'into', u'through', u'during', u'before', u'after', u'above', u'below', u'to', u'from', u'up', u'down', u'in', u'out', u'on', u'off', u'over', u'under', u'again', u'further', u'then', u'once', u'here', u'there', u'when', u'where', u'why', u'how', u'all', u'any', u'both', u'each', u'few', u'more', u'most', u'other', u'some', u'such', u'no', u'nor', u'not', u'only', u'own', u'same', u'so', u'than', u'too', u'very', u's', u't', u'can', u'will', u'just', u'don', u'should', u'now', u'd', u'll', u'm', u'o', u're', u've', u'y', u'ain', u'aren', u'couldn', u'didn', u'doesn', u'hadn', u'hasn', u'haven', u'isn', u'ma', u'mightn', u'mustn', u'needn', u'shan', u'shouldn', u'wasn', u'weren', u'won', u'wouldn']\n"
     ]
    }
   ],
   "source": [
    "stoplist = stopwords.words('english')\n",
    "print stoplist"
   ]
  },
  {
   "cell_type": "markdown",
   "metadata": {},
   "source": [
    "We can filter out tokens in the stoplist like so:"
   ]
  },
  {
   "cell_type": "code",
   "execution_count": 26,
   "metadata": {
    "collapsed": false
   },
   "outputs": [
    {
     "name": "stdout",
     "output_type": "stream",
     "text": [
      "[u'paper', u'describes', u'preliminary', u'results', u'three', u'experiments', u'subjective', u'probability', u'forecasting', u'recently', u'conducted', u'four', u'weather', u'service', u'forecast', u'offices', u'(', u'wsfos', u')', u'national']\n"
     ]
    }
   ],
   "source": [
    "print [token for token in tokens if token not in stoplist][:20]"
   ]
  },
  {
   "cell_type": "markdown",
   "metadata": {},
   "source": [
    "We may also want to remove any punctuation tokens (note the parentheses, above). We can do that using the [``isalpha()``](https://docs.python.org/2/library/stdtypes.html#str.isalpha) method."
   ]
  },
  {
   "cell_type": "code",
   "execution_count": 27,
   "metadata": {
    "collapsed": false
   },
   "outputs": [
    {
     "name": "stdout",
     "output_type": "stream",
     "text": [
      "[u'this', u'paper', u'describes', u'the', u'preliminary', u'results', u'of', u'three', u'experiments', u'in', u'subjective', u'probability', u'forecasting', u'which', u'were', u'recently', u'conducted', u'in', u'four', u'weather']\n"
     ]
    }
   ],
   "source": [
    "print [token for token in tokens if token.isalpha()][:20]"
   ]
  },
  {
   "cell_type": "markdown",
   "metadata": {},
   "source": [
    "## Putting it all together\n",
    "\n",
    "Once you have decided on a strategy for tokenizing, normalizing, and filtering your texts, it's a good idea to encapsulate that logic in functions that we can apply as needed."
   ]
  },
  {
   "cell_type": "code",
   "execution_count": 28,
   "metadata": {
    "collapsed": true
   },
   "outputs": [],
   "source": [
    "def normalize_token(token):\n",
    "    \"\"\"\n",
    "    Convert token to lowercase, and stem using the Porter algorithm.\n",
    "    \n",
    "    Parameters\n",
    "    ----------\n",
    "    token : str\n",
    "    \n",
    "    Returns\n",
    "    -------\n",
    "    token : str\n",
    "    \"\"\"\n",
    "    return porter.stem(token.lower())"
   ]
  },
  {
   "cell_type": "code",
   "execution_count": 29,
   "metadata": {
    "collapsed": true
   },
   "outputs": [],
   "source": [
    "def filter_token(token):\n",
    "    \"\"\"\n",
    "    Evaluate whether or not to retain ``token``.\n",
    "    \n",
    "    Parameters\n",
    "    ----------\n",
    "    token : str\n",
    "    \n",
    "    Returns\n",
    "    -------\n",
    "    keep : bool\n",
    "    \"\"\"\n",
    "    token = token.lower()\n",
    "    return token not in stoplist and token.isalpha() and len(token) > 3"
   ]
  },
  {
   "cell_type": "markdown",
   "metadata": {},
   "source": [
    "Let's compare the effect on our token distributions. Here's the top 20 tokens when we tokenize only:"
   ]
  },
  {
   "cell_type": "code",
   "execution_count": 30,
   "metadata": {
    "collapsed": false
   },
   "outputs": [
    {
     "data": {
      "image/png": "[encoded data removed]",
      "text/plain": [
       "<matplotlib.figure.Figure at 0x10a267290>"
      ]
     },
     "metadata": {},
     "output_type": "display_data"
    }
   ],
   "source": [
    "unprocessed_text = nltk.Text(word_tokenize(raw_text))\n",
    "unprocessed_text.plot(20)"
   ]
  },
  {
   "cell_type": "markdown",
   "metadata": {},
   "source": [
    "And here's the top 20 tokens when we apply our processing pipeline:"
   ]
  },
  {
   "cell_type": "code",
   "execution_count": 31,
   "metadata": {
    "collapsed": false
   },
   "outputs": [
    {
     "data": {
      "image/png": "[encoded data removed]",
      "text/plain": [
       "<matplotlib.figure.Figure at 0x10a059750>"
      ]
     },
     "metadata": {},
     "output_type": "display_data"
    }
   ],
   "source": [
    "proccessed_text = nltk.Text([normalize_token(token) for token \n",
    "                             in word_tokenize(raw_text)\n",
    "                             if filter_token(token)])\n",
    "proccessed_text.plot(20)"
   ]
  }
 ],
 "metadata": {
  "kernelspec": {
   "display_name": "Python 2",
   "language": "python",
   "name": "python2"
  },
  "language_info": {
   "codemirror_mode": {
    "name": "ipython",
    "version": 2
   },
   "file_extension": ".py",
   "mimetype": "text/x-python",
   "name": "python",
   "nbconvert_exporter": "python",
   "pygments_lexer": "ipython2",
   "version": "2.7.9"
  }
 },
 "nbformat": 4,
 "nbformat_minor": 0
}

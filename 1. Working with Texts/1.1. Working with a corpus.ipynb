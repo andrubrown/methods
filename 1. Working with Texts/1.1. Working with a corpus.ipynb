{
 "cells": [
  {
   "cell_type": "code",
   "execution_count": 1,
   "metadata": {
    "collapsed": false
   },
   "outputs": [
    {
     "name": "stdout",
     "output_type": "stream",
     "text": [
      "Populating the interactive namespace from numpy and matplotlib\n"
     ]
    }
   ],
   "source": [
    "%pylab inline"
   ]
  },
  {
   "cell_type": "code",
   "execution_count": 110,
   "metadata": {
    "collapsed": true
   },
   "outputs": [],
   "source": [
    "import nltk\n",
    "import os\n",
    "from pprint import pprint"
   ]
  },
  {
   "cell_type": "markdown",
   "metadata": {},
   "source": [
    "# 1.1 Working with a corpus\n",
    "\n",
    "Let's scale up from the individual text to whole collections. The term \"corpus\" is commonly used in text analysis. \n",
    "\n",
    "The concept of a **corpus** is helpful because it refers not just to a bunch of texts, but also points to the act of purposeful aggregation that brought those texts together. For example, we use the term \"corpus\" to refer to the collected works of a particular author. For your research, you may aggregate a corpus based on thematic or temporal criteria which are informed by your research questions and theoretical assumptions. When analyzing a corpus, or interpreting the results of such an analysis, it is important to keep in mind its provenance -- not just its contents."
   ]
  },
  {
   "cell_type": "code",
   "execution_count": 3,
   "metadata": {
    "collapsed": false
   },
   "outputs": [],
   "source": [
    "text_root = '/Users/erickpeirson/EmbryoProjectTexts/files'\n",
    "\n",
    "try:\n",
    "    assert os.path.exists(text_root)\n",
    "except AssertionError:\n",
    "    print \"That directory doesn't exist!\""
   ]
  },
  {
   "cell_type": "code",
   "execution_count": 37,
   "metadata": {
    "collapsed": false
   },
   "outputs": [],
   "source": [
    "corpus = nltk.corpus.PlaintextCorpusReader(text_root, 'https.+')"
   ]
  },
  {
   "cell_type": "code",
   "execution_count": 38,
   "metadata": {
    "collapsed": false
   },
   "outputs": [
    {
     "data": {
      "text/plain": [
       "[u'By', u'Mandana', u'Minai', u'Published', u':', ...]"
      ]
     },
     "execution_count": 38,
     "metadata": {},
     "output_type": "execute_result"
    }
   ],
   "source": [
    "corpus.words()"
   ]
  },
  {
   "cell_type": "markdown",
   "metadata": {},
   "source": [
    "## Normalization and Filtering\n",
    "\n",
    "We'll use the normalization and filtering procedures from our last notebook. The code-cell below sets up the functions that we defined earlier."
   ]
  },
  {
   "cell_type": "code",
   "execution_count": 49,
   "metadata": {
    "collapsed": true
   },
   "outputs": [],
   "source": [
    "wordnet = nltk.WordNetLemmatizer()\n",
    "from nltk.corpus import stopwords\n",
    "stoplist = stopwords.words('english')\n",
    "\n",
    "def normalize_token(token):\n",
    "    \"\"\"\n",
    "    Convert token to lowercase, and stem using the Porter algorithm.\n",
    "    \n",
    "    Parameters\n",
    "    ----------\n",
    "    token : str\n",
    "    \n",
    "    Returns\n",
    "    -------\n",
    "    token : str\n",
    "    \"\"\"\n",
    "    return wordnet.lemmatize(token.lower())\n",
    "\n",
    "def filter_token(token):\n",
    "    \"\"\"\n",
    "    Evaluate whether or not to retain ``token``.\n",
    "    \n",
    "    Parameters\n",
    "    ----------\n",
    "    token : str\n",
    "    \n",
    "    Returns\n",
    "    -------\n",
    "    keep : bool\n",
    "    \"\"\"\n",
    "    token = token.lower()\n",
    "    return token not in stoplist and token.isalpha() and len(token) > 2"
   ]
  },
  {
   "cell_type": "markdown",
   "metadata": {},
   "source": [
    "## Simple frequency distributions\n",
    "\n",
    "We can get the frequency of tokens in our corpus just like we did for a single text, using a [``FreqDist``](http://www.nltk.org/api/nltk.html#nltk.probability.FreqDist) (frequency distribution). \n",
    "\n",
    "In NLTK, frequencies and probabilities are usually discussed in terms of \"experiments\". A frequency distribution records the frequency of specific outcomes (**samples**) of a repeated experiment. In this case, we are sampling tokens from a text."
   ]
  },
  {
   "cell_type": "code",
   "execution_count": 60,
   "metadata": {
    "collapsed": true
   },
   "outputs": [],
   "source": [
    "word_counts = nltk.FreqDist([normalize_token(token) \n",
    "                             for token in corpus.words() \n",
    "                             if filter_token(token)])"
   ]
  },
  {
   "cell_type": "code",
   "execution_count": 61,
   "metadata": {
    "collapsed": false
   },
   "outputs": [
    {
     "data": {
      "image/png": "[encoded data removed]",
      "text/plain": [
       "<matplotlib.figure.Figure at 0x114a1d350>"
      ]
     },
     "metadata": {},
     "output_type": "display_data"
    }
   ],
   "source": [
    "word_counts.plot(20)"
   ]
  },
  {
   "cell_type": "code",
   "execution_count": 117,
   "metadata": {
    "collapsed": false
   },
   "outputs": [],
   "source": [
    "document_counts = nltk.FreqDist([\n",
    "    token    # Each token will be counted a maximum of 1 time per text.\n",
    "    for fileid in corpus.fileids() \n",
    "    for token in set(    # There can be no duplicates in a set.\n",
    "        [normalize_token(token)    # Normalize first!\n",
    "         for token \n",
    "         in corpus.words(fileids=[fileid])\n",
    "         if filter_token(token)]\n",
    "    )\n",
    "])"
   ]
  },
  {
   "cell_type": "code",
   "execution_count": 118,
   "metadata": {
    "collapsed": false
   },
   "outputs": [
    {
     "data": {
      "image/png": "[encoded data removed]",
      "text/plain": [
       "<matplotlib.figure.Figure at 0x1153087d0>"
      ]
     },
     "metadata": {},
     "output_type": "display_data"
    }
   ],
   "source": [
    "document_counts.plot(50)"
   ]
  },
  {
   "cell_type": "markdown",
   "metadata": {},
   "source": [
    "In the figure above, we can see that the top ~40 words occur in around 630 texts. We can see precise values using the ``most_common()`` function:"
   ]
  },
  {
   "cell_type": "code",
   "execution_count": 120,
   "metadata": {
    "collapsed": false
   },
   "outputs": [
    {
     "data": {
      "text/plain": [
       "[(u'full', 628),\n",
       " (u'creativecommons', 628),\n",
       " (u'last', 628),\n",
       " (u'biology', 628),\n",
       " (u'encyclopedia', 628),\n",
       " (u'university', 628),\n",
       " (u'http', 628),\n",
       " (u'school', 628),\n",
       " (u'embryo', 628),\n",
       " (u'life', 628)]"
      ]
     },
     "execution_count": 120,
     "metadata": {},
     "output_type": "execute_result"
    }
   ],
   "source": [
    "document_counts.most_common(10)    # Get the 10 most common words."
   ]
  },
  {
   "cell_type": "markdown",
   "metadata": {},
   "source": [
    "It can be useful to examine the number of texts in which a word occurs, to get a better picture of its distribution over the corpus. We can use a ``FreqDist`` for this, too.\n",
    "\n",
    "We modify our logic slightly: for each document, we conver the list of normalized/filtered tokens into a **set**. This means that each word will be counted only once per text, even if several tokens are present."
   ]
  },
  {
   "cell_type": "markdown",
   "metadata": {},
   "source": [
    "It turns out that there are 628 texts in this corpus..."
   ]
  },
  {
   "cell_type": "markdown",
   "metadata": {},
   "source": [
    "So these are words that occur in every single text in the corpus."
   ]
  },
  {
   "cell_type": "code",
   "execution_count": 119,
   "metadata": {
    "collapsed": false
   },
   "outputs": [
    {
     "data": {
      "text/plain": [
       "628"
      ]
     },
     "execution_count": 119,
     "metadata": {},
     "output_type": "execute_result"
    }
   ],
   "source": [
    "len(corpus.fileids())"
   ]
  },
  {
   "cell_type": "markdown",
   "metadata": {},
   "source": [
    "## Metadata \n",
    "\n",
    "In computational humanities, it is very unusual to analyze a corpus without reference to at least some minimal metadata. The Python package called [``Tethne``](http://diging.github.io/tethne/) provides some useful mechanisms for importing metadata from Zotero RDF and other bibliographic formats."
   ]
  },
  {
   "cell_type": "code",
   "execution_count": null,
   "metadata": {
    "collapsed": true
   },
   "outputs": [],
   "source": [
    "from tethne.readers import zotero\n",
    "zotero_export_path = '/Users/erickpeirson/EmbryoProjectTexts'\n",
    "metadata = zotero.read(zotero_export_path, index_by='link', follow_links=False)"
   ]
  },
  {
   "cell_type": "markdown",
   "metadata": {},
   "source": [
    "Since we indexed our metadata using the \"link\" field, we can look up metadata for each text using its ``fileid``."
   ]
  },
  {
   "cell_type": "code",
   "execution_count": 116,
   "metadata": {
    "collapsed": false
   },
   "outputs": [
    {
     "name": "stdout",
     "output_type": "stream",
     "text": [
      "This is the fileid: https--____hpsrepository.asu.edu__handle__10776__11335.txt \n",
      "\n",
      "This is the metadata for this fileid: \n",
      "\n",
      "{'authors_full': [(u'MINAI', u'MANDANA')],\n",
      " 'date': 2016,\n",
      " 'documentType': u'journalArticle',\n",
      " 'journal': u'Embryo Project Online Encyclopedia',\n",
      " 'link': u'/Users/erickpeirson/EmbryoProjectTexts/files/https--____hpsrepository.asu.edu__handle__10776__11335.txt',\n",
      " 'title': u'Methylmercury and Human Embryonic Development',\n",
      " 'uri': u'https://hpsrepository.asu.edu/handle/10776/11335'}\n"
     ]
    }
   ],
   "source": [
    "example_fileid = corpus.fileids()[0]\n",
    "print 'This is the fileid:', example_fileid, '\\n'\n",
    "print 'This is the metadata for this fileid:', '\\n'\n",
    "pprint(metadata[example_fileid].__dict__)   # pprint means \"pretty print\"."
   ]
  },
  {
   "cell_type": "markdown",
   "metadata": {},
   "source": [
    "### Conditional Frequencies\n",
    "\n",
    "We can use metadata to add dimensionality to our texts. To examine the distribution of a token over time, we can use a [``ConditionalFreqDist``](http://www.nltk.org/api/nltk.html#nltk.probability.ConditionalFreqDist) (conditional frequency distribution). Just like the ``FreqDist``, the ``ConditionalFreqDist`` records the outcomes (samples) of an experiment. A ``ConditionalFreqDist`` also records a label, or **condition**, for each outcome.\n",
    "\n",
    "In the example below, we examine the word usage of different authors. The **conditions** are the author names, and the **samples** are tokens. We will limit our analysis to four specific tokens: ``'organism', 'ivf', 'pluripotent', 'supreme'`` (doing this for all tokens would be pretty costly)."
   ]
  },
  {
   "cell_type": "code",
   "execution_count": 128,
   "metadata": {
    "collapsed": false
   },
   "outputs": [],
   "source": [
    "focal_tokens = ['organism', 'ivf', 'pluripotent', 'supreme']\n",
    "\n",
    "authorDist = nltk.ConditionalFreqDist([\n",
    "        (str(author[0]), normalize_token(token))    # (condition, sample)\n",
    "         for fileid in corpus.fileids()\n",
    "         for token in corpus.words(fileids=[fileid])\n",
    "         for author in metadata[fileid].authors\n",
    "         if filter_token(token)\n",
    "            and normalize_token(token) in focal_tokens\n",
    "    ])"
   ]
  },
  {
   "cell_type": "code",
   "execution_count": 129,
   "metadata": {
    "collapsed": false
   },
   "outputs": [
    {
     "name": "stdout",
     "output_type": "stream",
     "text": [
      "                                      ivf organism pluripotent supreme \n",
      "      (u\"BRIND'AMOUR\", u'KATHERINE')    1    1   11    2 \n",
      "              (u\"O'BRIEN\", u'CEARA')    5    0    1    1 \n",
      "          (u\"O'CONNELL\", u'LINDSEY')    0   13    0    0 \n",
      "          (u\"O'CONNOR\", u'KATHLEEN')    0    2    0    1 \n",
      "              (u\"O'NEIL\", u' ERICA')    0    1    0    0 \n",
      "               (u\"O'NEIL\", u'ERICA')    0    1    0    1 \n",
      "              (u'ABBOUD', u'ALEXIS')    0    6    0    2 \n",
      "              (u'ANDREI', u'AMANDA')    0    6    0    0 \n",
      "          (u'ANTONIOS', u'NATHALIE')    4    0    0   19 \n",
      "          (u'APPLETON', u'CAROLINE')    6    5    0    0 \n",
      "          (u'ASTON', u'S ALEXANDRA')    0    8    0    0 \n",
      "             (u'BARANSKI', u'MARCI')    0    4    0    0 \n",
      "         (u'BARNES', u'M ELIZABETH')    0  108    0    0 \n",
      "              (u'BARTLETT', u'ZANE')    0   18   26    0 \n",
      "                (u'BRIGGS', u'JILL')    0    1    0    1 \n",
      "               (u'BRINKMAN', u'JOE')    0   14    0    0 \n",
      "        (u'BUETTNER', u'KIMBERLY A')    0    3    0    0 \n",
      "             (u'CANIGLIA', u'GUIDO')    0    1    0    0 \n",
      "              (u'CARVALHO', u'TITO')    0   12    0    0 \n",
      "         (u'CHAPMAN', u'JENNIFER E')  106    0    0   57 \n",
      "            (u'CHHETRI', u'DIVYASH')    0   25    0    0 \n",
      "                 (u'CLARK', u' KAL')    0    4    0    0 \n",
      "           (u'CLAY', u'ANNE SAFIYA')    0    0    1    0 \n",
      "               (u'COHMER', u' SEAN')    0    5    2    0 \n",
      "                (u'COHMER', u'SEAN')    0    3    1    0 \n",
      "(u'COLONNA', u'FEDERICA TURRIZIANI')    0   57    0    0 \n",
      "        (u'COOPER-ROTH', u'TRISTAN')    0    4    0    0 \n",
      "                   (u'COX', u'TROY')    0    8    0    0 \n",
      "           (u'CRAER', u'JENNIFER R')    0    4    0    0 \n",
      "               (u'CROWE', u'NATHAN')    0    2    0    0 \n",
      "              (u'DAMEROW', u'JULIA')    0    4    0    0 \n",
      "          (u'DERUITER', u' CORINNE')    0    2    0    0 \n",
      "           (u'DERUITER', u'CORINNE')    4   22    0    0 \n",
      "                (u'DOTY', u' MARIA')    0    2    0    0 \n",
      "                 (u'DOTY', u'MARIA')    0    5    0    0 \n",
      "                 (u'DRAGO', u'MARY')    0    5    0    0 \n",
      "              (u'ELLIOTT', u'STEVE')    0   48    0    0 \n",
      "           (u'GARCIA', u' BENJAMIN')    1    1    0    0 \n",
      "              (u'GILSON', u'HILARY')    3    0    0    0 \n",
      "            (u'GUR-ARIE', u'RACHEL')    0    6    0    6 \n",
      "           (u'HAMMOND', u'KATHLEEN')    2    2    2    7 \n",
      "          (u'HASKETT', u'DOROTHY R')    7   16    0    0 \n",
      "      (u'HASKETT', u'DOROTHY REGAN')    0   12    0    0 \n",
      "            (u'HASKETT', u'DOROTHY')    0    1    0    0 \n",
      "         (u'HAUSERMAN', u'SAMANTHA')    0   18    0    0 \n",
      "           (u'HEATHCOTTE', u'BROCK')   26    0    0   21 \n",
      "              (u'JACOBSON', u'BRAD')    3    2    0    0 \n",
      "               (u'JIANG', u'LIJING')   54   22    2    0 \n",
      "                (u'KEARL', u'MEGAN')    0   14    5    0 \n",
      "             (u'KELLEY', u'KRISTIN')    0    3    0    0 \n",
      "              (u'KHOKHAR', u'AROOB')    3    1    4    0 \n",
      "                 (u'KING', u'JESSE')    0    1    0    0 \n",
      "                (u'LATOURELLE', u'')   15    0    0    0 \n",
      "        (u'LATOURELLE', u'JONATHAN')    0    7    0    0 \n",
      "            (u'LAWRENCE', u'CERA R')    0    5    0    1 \n",
      "                (u'LOPEZ', u'ANGEL')    0    3    2    0 \n",
      "                 (u'LOVE', u'KAREN')    0    2    0    0 \n",
      "                 (u'LOWE', u'JAMES')    0   22    0    0 \n",
      "                   (u'LY', u'SARAH')    4    5    1    0 \n",
      "               (u'MAAYAN', u'INBAR')    0   34    3    3 \n",
      "               (u'MACCORD', u'KATE')    0   22    0    0 \n",
      "              (u'MADISON', u'PAIGE')    0    2    0    0 \n",
      "          (u'MAIENSCHEIN', u' JANE')    0    4    0    0 \n",
      "           (u'MAIENSCHEIN', u'JANE')    0   10    0    0 \n",
      "            (u'MARTINEZ', u'BRITTA')    0    2    0    0 \n",
      "             (u'MAY', u' CATHERINE')    0    3    0    0 \n",
      "             (u'MILLER', u'SHAWN A')    0    1    0    0 \n",
      "              (u'MINAI', u'MANDANA')    0    2    0    0 \n",
      "             (u'MISHRA', u'ABHINAV')    0   15    0    0 \n",
      "            (u'MOELLER', u'KARLA T')    0   10    0    0 \n",
      "              (u'MOELLER', u'KARLA')    0    6    0    0 \n",
      "               (u'NAVIS', u'ADAM R')    0    7    0    0 \n",
      "     (u'NKANSAH-DWAMENA', u'ERNEST')    0    4    0    8 \n",
      "                (u'PARKER', u'SARA')    0    1    0    0 \n",
      "          (u'PEIRSON', u'B R ERICK')    0   36    0    0 \n",
      "           (u'PHILBRICK', u'SAMUEL')   26    1   98    0 \n",
      "             (u'POTESTAS', u'JESSE')    0    3    0    0 \n",
      "              (u'PREVOT', u'KARINE')    0    8    0    0 \n",
      "             (u'RACINE', u'VALERIE')    0   37    0    0 \n",
      "            (u'RAUP', u' CHRISTINA')    0    0    0    7 \n",
      "             (u'RAUP', u'CHRISTINA')    0    1    2    6 \n",
      "                (u'RESNIK', u'JACK')    0    1    0   12 \n",
      "            (u'ROBERT', u' JASON S')    4    6    1    0 \n",
      "          (u'ROJAS', u'CHRISTOPHER')    0    5    2    0 \n",
      "          (u'RUFFENACH', u'STEPHEN')    0    6    0    0 \n",
      "         (u'SCHEURMANN', u'D BRIAN')    0    3    0    0 \n",
      "          (u'SCHUERMANN', u' BRIAN')    0    4    0    0 \n",
      "         (u'SCHUERMANN', u'D BRIAN')    0    3    0    0 \n",
      "            (u'SEWARD', u'SHERADEN')    0    0    0   16 \n",
      "              (u'SMITH', u'KAITLIN')    0    1    0    0 \n",
      "          (u'SUNDERLAND', u'MARY E')    0  139    0    0 \n",
      "               (u'TADDEO', u'SARAH')   12   28    1    0 \n",
      "    (u'TANTIBANCHACHAI', u'CHANAPA')    0    5    0   16 \n",
      "(u'TURRIZIANI-COLONNA', u'FEDERICA')    0    4    0    0 \n",
      "               (u'ULETT', u'MARK A')    0   39    0    0 \n",
      "              (u'WELLNER', u'KAREN')    0   31    0    0 \n",
      "            (u'WOLTER', u'JUSTIN M')    0   19    0    0 \n",
      "              (u'WOLTER', u'JUSTIN')    0   18    0    0 \n",
      "                      (u'WU', u'KE')    3    4   52    0 \n",
      "               (u'YANG', u' JOANNA')    0    5    0    0 \n",
      "                (u'ZHANG', u' MARK')   69    0    0   38 \n",
      "                 (u'ZHANG', u'MARK')    0    0    0   32 \n",
      "                  (u'ZHU', u' TIAN')    0    6    0    0 \n",
      "                   (u'ZHU', u'TIAN')   37    0    0    0 \n",
      "                  (u'ZOU', u'YAWEN')    0   48    0    0 \n",
      "                        (u'\\n', u'')   15    0    0    0 \n"
     ]
    }
   ],
   "source": [
    "authorDist.tabulate()"
   ]
  },
  {
   "cell_type": "markdown",
   "metadata": {},
   "source": [
    "### Words over time\n",
    "\n",
    "We can also use a ``ConditionalFreqDist`` to see how tokens are distributed over time. This works just like the distribution of words over authors, except that in this case we will treat our tokens as conditions. Think of it like this: each time we encounter one of the tokens in our list of focal tokens (conditions), we sample the publication date of the text from which it was drawn."
   ]
  },
  {
   "cell_type": "code",
   "execution_count": 130,
   "metadata": {
    "collapsed": false
   },
   "outputs": [],
   "source": [
    "focal_tokens = ['organism', 'ivf', 'pluripotent', 'supreme']\n",
    "timeDist = nltk.ConditionalFreqDist([\n",
    "        (normalize_token(token), metadata[fileid].date)\n",
    "         for fileid in corpus.fileids()\n",
    "         for token in corpus.words(fileids=[fileid])\n",
    "         if filter_token(token)\n",
    "            and normalize_token(token) in focal_tokens\n",
    "    ])"
   ]
  },
  {
   "cell_type": "code",
   "execution_count": 59,
   "metadata": {
    "collapsed": false,
    "scrolled": true
   },
   "outputs": [
    {
     "data": {
      "image/png": "[encoded data removed]",
      "text/plain": [
       "<matplotlib.figure.Figure at 0x1146fef50>"
      ]
     },
     "metadata": {},
     "output_type": "display_data"
    }
   ],
   "source": [
    "timeDist.plot()"
   ]
  }
 ],
 "metadata": {
  "kernelspec": {
   "display_name": "Python 2",
   "language": "python",
   "name": "python2"
  },
  "language_info": {
   "codemirror_mode": {
    "name": "ipython",
    "version": 2
   },
   "file_extension": ".py",
   "mimetype": "text/x-python",
   "name": "python",
   "nbconvert_exporter": "python",
   "pygments_lexer": "ipython2",
   "version": "2.7.9"
  }
 },
 "nbformat": 4,
 "nbformat_minor": 0
}

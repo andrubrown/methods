{
 "cells": [
  {
   "cell_type": "code",
   "execution_count": 1,
   "metadata": {
    "collapsed": false
   },
   "outputs": [
    {
     "name": "stdout",
     "output_type": "stream",
     "text": [
      "Populating the interactive namespace from numpy and matplotlib\n"
     ]
    }
   ],
   "source": [
    "%pylab inline"
   ]
  },
  {
   "cell_type": "code",
   "execution_count": 2,
   "metadata": {
    "collapsed": true
   },
   "outputs": [],
   "source": [
    "import nltk\n",
    "from tethne.readers import zotero\n",
    "import matplotlib.pyplot as plt\n",
    "from helpers import normalize_token, filter_token"
   ]
  },
  {
   "cell_type": "code",
   "execution_count": 10,
   "metadata": {
    "collapsed": true
   },
   "outputs": [],
   "source": [
    "from itertools import izip_longest\n",
    "\n",
    "def grouper(iterable, n, fillvalue=''):\n",
    "    args = [iter(iterable)] * n\n",
    "    return izip_longest(*args, fillvalue=fillvalue)"
   ]
  },
  {
   "cell_type": "code",
   "execution_count": 4,
   "metadata": {
    "collapsed": true
   },
   "outputs": [],
   "source": [
    "text_root = '/Users/erickpeirson/EmbryoProjectTexts/files'\n",
    "zotero_export_path = '/Users/erickpeirson/EmbryoProjectTexts'\n",
    "\n",
    "corpus = nltk.corpus.PlaintextCorpusReader(text_root, 'https.+')\n",
    "metadata = zotero.read(zotero_export_path, index_by='link', follow_links=False)"
   ]
  },
  {
   "cell_type": "markdown",
   "metadata": {},
   "source": [
    "# 1.4. Features in texts - Entities"
   ]
  },
  {
   "cell_type": "code",
   "execution_count": 5,
   "metadata": {
    "collapsed": false
   },
   "outputs": [],
   "source": [
    "import nltk\n",
    "import ner"
   ]
  },
  {
   "cell_type": "code",
   "execution_count": 6,
   "metadata": {
    "collapsed": true
   },
   "outputs": [],
   "source": [
    "tagger = ner.SocketNER(host='localhost', port=9191, output_format='slashTags')"
   ]
  },
  {
   "cell_type": "code",
   "execution_count": 7,
   "metadata": {
    "collapsed": false
   },
   "outputs": [
    {
     "data": {
      "text/plain": [
       "u'Bob/PERSON Dole/PERSON was/O a/O cool/O dude/O \\n'"
      ]
     },
     "execution_count": 7,
     "metadata": {},
     "output_type": "execute_result"
    }
   ],
   "source": [
    "tagger.tag_text('Bob Dole was a cool dude')"
   ]
  },
  {
   "cell_type": "code",
   "execution_count": null,
   "metadata": {
    "collapsed": true
   },
   "outputs": [],
   "source": []
  },
  {
   "cell_type": "code",
   "execution_count": 12,
   "metadata": {
    "collapsed": false
   },
   "outputs": [],
   "source": [
    "tagged_stanford = [tuple(token.split('/')) \n",
    "                   for chunk in grouper(corpus.words(), 10000)\n",
    "                   for token in tagger.tag_text(' '.join(chunk)).split()]"
   ]
  },
  {
   "cell_type": "code",
   "execution_count": 13,
   "metadata": {
    "collapsed": false
   },
   "outputs": [
    {
     "data": {
      "text/plain": [
       "[(u'By', u'O'),\n",
       " (u'Mandana', u'PERSON'),\n",
       " (u'Minai', u'PERSON'),\n",
       " (u'Published', u'O'),\n",
       " (u':', u'O'),\n",
       " (u'2016', u'O'),\n",
       " (u'-', u'O'),\n",
       " (u'04', u'O'),\n",
       " (u'-', u'O'),\n",
       " (u'18', u'O'),\n",
       " (u'Keywords', u'O'),\n",
       " (u':', u'O'),\n",
       " (u'Methylmercury', u'O'),\n",
       " (u'and', u'O'),\n",
       " (u'Human', u'O'),\n",
       " (u'Embryonic', u'O'),\n",
       " (u'DevelopmentMethylmercury', u'O'),\n",
       " (u'-LRB-', u'O'),\n",
       " (u'MeHg', u'O'),\n",
       " (u'-RRB-', u'O'),\n",
       " (u'is', u'O'),\n",
       " (u'an', u'O'),\n",
       " (u'organic', u'O'),\n",
       " (u'form', u'O'),\n",
       " (u'of', u'O'),\n",
       " (u'mercury', u'O'),\n",
       " (u'that', u'O'),\n",
       " (u'can', u'O'),\n",
       " (u'damage', u'O'),\n",
       " (u'the', u'O')]"
      ]
     },
     "execution_count": 13,
     "metadata": {},
     "output_type": "execute_result"
    }
   ],
   "source": [
    "tagged_stanford[:30]"
   ]
  },
  {
   "cell_type": "code",
   "execution_count": 18,
   "metadata": {
    "collapsed": true
   },
   "outputs": [],
   "source": [
    "tagged_tokens = nltk.pos_tag(corpus.words()[:1000])"
   ]
  },
  {
   "cell_type": "code",
   "execution_count": 19,
   "metadata": {
    "collapsed": false
   },
   "outputs": [],
   "source": [
    "chunks = nltk.ne_chunk(tagged_tokens)"
   ]
  },
  {
   "cell_type": "code",
   "execution_count": 25,
   "metadata": {
    "collapsed": false
   },
   "outputs": [
    {
     "data": {
      "text/plain": [
       "[(u'the', 'DT'),\n",
       " (u'air', 'NN'),\n",
       " (u',', ','),\n",
       " (u'it', 'PRP'),\n",
       " (u'circulates', 'VBZ'),\n",
       " (u'in', 'IN'),\n",
       " (u'the', 'DT'),\n",
       " (u'atmosphere', 'NN'),\n",
       " (u'until', 'IN'),\n",
       " (u'it', 'PRP'),\n",
       " (u'is', 'VBZ'),\n",
       " (u'brought', 'VBN'),\n",
       " (u'down', 'RP'),\n",
       " (u'through', 'IN'),\n",
       " (u'rain', 'NN'),\n",
       " (u'or', 'CC'),\n",
       " (u'snowfall', 'NN'),\n",
       " (u',', ','),\n",
       " (u'and', 'CC'),\n",
       " (u'then', 'RB'),\n",
       " (u'it', 'PRP'),\n",
       " (u'can', 'MD'),\n",
       " (u'flow', 'VB'),\n",
       " (u'into', 'IN'),\n",
       " (u'bodies', 'NNS'),\n",
       " (u'of', 'IN'),\n",
       " (u'water', 'NN'),\n",
       " (u'like', 'IN'),\n",
       " (u'lakes', 'NNS'),\n",
       " (u'and', 'CC'),\n",
       " (u'streams', 'NNS'),\n",
       " (u'.', '.'),\n",
       " (u'Once', 'RB'),\n",
       " (u'in', 'IN'),\n",
       " (u'water', 'NN'),\n",
       " (u',', ','),\n",
       " (u'bacteria', 'NNS'),\n",
       " (u'transform', 'VBP'),\n",
       " (u'the', 'DT'),\n",
       " (u'mercury', 'NN'),\n",
       " (u'into', 'IN'),\n",
       " (u'its', 'PRP$'),\n",
       " (u'more', 'JJR'),\n",
       " (u'toxic', 'JJ'),\n",
       " (u'form', 'NN'),\n",
       " (u',', ','),\n",
       " (u'methylmercury', 'NN'),\n",
       " (u'.', '.'),\n",
       " (u'In', 'IN'),\n",
       " (u'this', 'DT'),\n",
       " (u'form', 'NN'),\n",
       " (u',', ','),\n",
       " (u'it', 'PRP'),\n",
       " (u'is', 'VBZ'),\n",
       " (u'absorbed', 'VBN'),\n",
       " (u'by', 'IN'),\n",
       " (u'aquatic', 'JJ'),\n",
       " (u'plants', 'NNS'),\n",
       " (u'and', 'CC'),\n",
       " (u'animals', 'NNS'),\n",
       " (u'.', '.'),\n",
       " (u'Fish', 'JJ'),\n",
       " (u'can', 'MD'),\n",
       " (u'absorb', 'VB'),\n",
       " (u'methylmercury', 'NN'),\n",
       " (u'from', 'IN'),\n",
       " (u'water', 'NN'),\n",
       " (u'through', 'IN'),\n",
       " (u'their', 'PRP$'),\n",
       " (u'gills', 'NNS'),\n",
       " (u'and', 'CC'),\n",
       " (u'by', 'IN'),\n",
       " (u'eating', 'VBG'),\n",
       " (u'other', 'JJ'),\n",
       " (u'fish', 'NN'),\n",
       " (u'that', 'IN'),\n",
       " (u'possess', 'JJ'),\n",
       " (u'concentrations', 'NNS'),\n",
       " (u'of', 'IN'),\n",
       " (u'methylmercury', 'NN'),\n",
       " (u'.', '.'),\n",
       " (u'Consequently', 'RB'),\n",
       " (u',', ','),\n",
       " (u'the', 'DT'),\n",
       " (u'concentrations', 'NNS'),\n",
       " (u'of', 'IN'),\n",
       " (u'methylmercury', 'NN'),\n",
       " (u'in', 'IN'),\n",
       " (u'exposed', 'JJ'),\n",
       " (u'fishs', 'NN'),\n",
       " (u\"'\", 'POS'),\n",
       " (u's', 'NN'),\n",
       " (u'tissues', 'NNS'),\n",
       " (u'increases', 'VBZ'),\n",
       " (u'over', 'IN'),\n",
       " (u'time', 'NN'),\n",
       " (u',', ','),\n",
       " (u'with', 'IN'),\n",
       " (u'fish', 'JJ'),\n",
       " (u'high', 'NN'),\n",
       " (u'on', 'IN'),\n",
       " (u'the', 'DT'),\n",
       " (u'food', 'NN'),\n",
       " (u'chain', 'NN'),\n",
       " (u'possessing', 'VBG'),\n",
       " (u'higher', 'JJR'),\n",
       " (u'concentrations', 'NNS'),\n",
       " (u'of', 'IN'),\n",
       " (u'methylmercury', 'NN'),\n",
       " (u'than', 'IN'),\n",
       " (u'fish', 'JJ'),\n",
       " (u'low', 'JJ'),\n",
       " (u'on', 'IN'),\n",
       " (u'the', 'DT'),\n",
       " (u'food', 'NN'),\n",
       " (u'chain', 'NN'),\n",
       " (u'.', '.'),\n",
       " (u'Humans', 'NNPS'),\n",
       " (u'expose', 'VBP'),\n",
       " (u'themselves', 'PRP'),\n",
       " (u'to', 'TO'),\n",
       " (u'methylmercury', 'VB'),\n",
       " (u'when', 'WRB'),\n",
       " (u'they', 'PRP'),\n",
       " (u'eat', 'VBP'),\n",
       " (u'contaminated', 'JJ'),\n",
       " (u'fish', 'NN'),\n",
       " (u'.', '.'),\n",
       " (u'When', 'WRB'),\n",
       " (u'pregnant', 'JJ'),\n",
       " (u'women', 'NNS'),\n",
       " (u'eat', 'RB'),\n",
       " (u'contaminated', 'VBD'),\n",
       " (u'fish', 'JJ'),\n",
       " (u',', ','),\n",
       " (u'their', 'PRP$'),\n",
       " (u'embryos', 'NN'),\n",
       " (u'or', 'CC'),\n",
       " (u'fetuses', 'NNS'),\n",
       " (u'also', 'RB'),\n",
       " (u'are', 'VBP'),\n",
       " (u'exposed', 'VBN'),\n",
       " (u'to', 'TO'),\n",
       " (u'the', 'DT'),\n",
       " (u'methylmercury', 'NN'),\n",
       " (u',', ','),\n",
       " (u'and', 'CC'),\n",
       " (u'they', 'PRP'),\n",
       " (u'can', 'MD'),\n",
       " (u'develop', 'VB'),\n",
       " (u'congenital', 'JJ'),\n",
       " (u'Minimata', 'NNP'),\n",
       " (u'disease', 'NN'),\n",
       " (u'.', '.'),\n",
       " (u'In', 'IN'),\n",
       " (u'1959', 'CD'),\n",
       " (u',', ','),\n",
       " (u'researchers', 'NNS'),\n",
       " (u'attributed', 'VBD'),\n",
       " Tree('ORGANIZATION', [(u'Minamata', 'NNP')]),\n",
       " (u'symptoms', 'NNS'),\n",
       " (u'to', 'TO'),\n",
       " (u'poisoning', 'VBG'),\n",
       " (u'by', 'IN'),\n",
       " (u'methylmercury', 'NN'),\n",
       " (u'found', 'VBN'),\n",
       " (u'in', 'IN'),\n",
       " (u'the', 'DT'),\n",
       " (u'water', 'NN'),\n",
       " (u'of', 'IN'),\n",
       " Tree('ORGANIZATION', [(u'Minamata', 'NNP'), (u'Bay', 'NNP')]),\n",
       " (u'in', 'IN'),\n",
       " Tree('GPE', [(u'Kyushu', 'NNP')]),\n",
       " (u',', ','),\n",
       " Tree('GPE', [(u'Japan', 'NNP')]),\n",
       " (u'.', '.'),\n",
       " Tree('ORGANIZATION', [(u'Congenital', 'NNP'), (u'Minamata', 'NNP')]),\n",
       " (u'disease', 'NN'),\n",
       " (u'enabled', 'VBD'),\n",
       " (u'researchers', 'NNS'),\n",
       " (u'to', 'TO'),\n",
       " (u'identify', 'VB'),\n",
       " (u'the', 'DT'),\n",
       " (u'poisonous', 'JJ'),\n",
       " (u'effects', 'NNS'),\n",
       " (u'of', 'IN'),\n",
       " (u'methylmercury', 'NN'),\n",
       " (u',', ','),\n",
       " (u'which', 'WDT'),\n",
       " (u'those', 'DT'),\n",
       " (u'near', 'IN'),\n",
       " Tree('PERSON', [(u'Kyushu', 'NNP')]),\n",
       " (u'consumed', 'VBD'),\n",
       " (u'when', 'WRB'),\n",
       " (u'they', 'PRP'),\n",
       " (u'ate', 'VBP'),\n",
       " (u'local', 'JJ'),\n",
       " (u'seafood', 'NN'),\n",
       " (u'.', '.'),\n",
       " Tree('PERSON', [(u'Symptoms', 'NNP')])]"
      ]
     },
     "execution_count": 25,
     "metadata": {},
     "output_type": "execute_result"
    }
   ],
   "source": [
    "chunks[200:400]"
   ]
  },
  {
   "cell_type": "code",
   "execution_count": null,
   "metadata": {
    "collapsed": true
   },
   "outputs": [],
   "source": []
  }
 ],
 "metadata": {
  "kernelspec": {
   "display_name": "Python 2",
   "language": "python",
   "name": "python2"
  },
  "language_info": {
   "codemirror_mode": {
    "name": "ipython",
    "version": 2
   },
   "file_extension": ".py",
   "mimetype": "text/x-python",
   "name": "python",
   "nbconvert_exporter": "python",
   "pygments_lexer": "ipython2",
   "version": "2.7.9"
  }
 },
 "nbformat": 4,
 "nbformat_minor": 0
}

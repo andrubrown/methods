{
 "cells": [
  {
   "cell_type": "code",
   "execution_count": 1,
   "metadata": {
    "collapsed": false
   },
   "outputs": [
    {
     "name": "stdout",
     "output_type": "stream",
     "text": [
      "Populating the interactive namespace from numpy and matplotlib\n"
     ]
    }
   ],
   "source": [
    "%pylab inline"
   ]
  },
  {
   "cell_type": "code",
   "execution_count": 3,
   "metadata": {
    "collapsed": true
   },
   "outputs": [],
   "source": [
    "import nltk\n",
    "from tethne.readers import zotero\n",
    "import matplotlib.pyplot as plt\n",
    "\n",
    "# I moved our normalization and filtering functions into\n",
    "#  an external module. If you want to change these functions,\n",
    "#  you an either redefine them in this notebook or modify\n",
    "#  them in the file helpers.py.\n",
    "from helpers import normalize_token, filter_token"
   ]
  },
  {
   "cell_type": "markdown",
   "metadata": {},
   "source": [
    "# 1.2. Change over time\n",
    "\n",
    "In computational humanities, we are often interested in whether and how phenomena change over time. In this notebook we will perform a simple time-series analysis of tokens in our corpus. This will get us moving toward analyizing more complex temporal trends."
   ]
  },
  {
   "cell_type": "markdown",
   "metadata": {},
   "source": [
    "## Load corpus and metadata\n",
    "\n",
    "Just as we did in the last notebook, we'll load our texts and metadata."
   ]
  },
  {
   "cell_type": "code",
   "execution_count": 16,
   "metadata": {
    "collapsed": true
   },
   "outputs": [],
   "source": [
    "text_root = '/Users/erickpeirson/EmbryoProjectTexts/files'\n",
    "zotero_export_path = '/Users/erickpeirson/EmbryoProjectTexts'\n",
    "\n",
    "corpus = nltk.corpus.PlaintextCorpusReader(text_root, 'https.+')\n",
    "metadata = zotero.read(zotero_export_path, index_by='link', follow_links=False)"
   ]
  },
  {
   "cell_type": "markdown",
   "metadata": {},
   "source": [
    "## Has the prevalence of a token increased or decreased over time?\n",
    "\n",
    "In the last notebook, we looked at the distribution (frequency) of tokens over time. It is one thing to make a pretty figure; it is another to say with some degree of confidence that a token is becoming more or less prevalent over time.\n",
    "\n",
    "The simplest approach to this problem is a linear regression model:\n",
    "\n",
    "$Y_i = \\beta_0 + \\beta X_i + \\epsilon_i$\n",
    "\n",
    "where $Y$ is the response variable (frequency of a token), $X$ is the predictor variable (publication date), $\\beta$ is the regression coefficient, and $\\epsilon_i$ is the error for observation $i$.\n",
    "\n",
    "Up to now, we have discussed token frequency in terms of raw token counts. Since the number of texts per year may not be fixed, however, what we really want to model is the probability of a token. We don't have direct access to the probability of a token, but for most practical purposes the Maximum Likelihood Estimator for that probability is just the frequency $f(t) = \\frac{N_{token}}{N_{total}}$ of the token.\n",
    "\n",
    "To get the **Probability Distribution** of a token, we first calculate the frequency distribution:"
   ]
  },
  {
   "cell_type": "code",
   "execution_count": 9,
   "metadata": {
    "collapsed": true
   },
   "outputs": [],
   "source": [
    "word_counts = nltk.FreqDist([normalize_token(token) \n",
    "                             for token in corpus.words() \n",
    "                             if filter_token(token)])"
   ]
  },
  {
   "cell_type": "markdown",
   "metadata": {},
   "source": [
    "...and then we use NLTK's [``MLEProbDist``](http://www.nltk.org/api/nltk.html#nltk.probability.MLEProbDist) (Maximum Likelihood Estimator) to obtain the probability distribution."
   ]
  },
  {
   "cell_type": "code",
   "execution_count": 10,
   "metadata": {
    "collapsed": true
   },
   "outputs": [],
   "source": [
    "word_probs = nltk.MLEProbDist(word_counts)"
   ]
  },
  {
   "cell_type": "code",
   "execution_count": 14,
   "metadata": {
    "collapsed": false
   },
   "outputs": [
    {
     "name": "stdout",
     "output_type": "stream",
     "text": [
      "0.00973442391195\n"
     ]
    }
   ],
   "source": [
    "print word_probs.prob('embryo')    # Probability of an observed token to be 'embryo'."
   ]
  },
  {
   "cell_type": "markdown",
   "metadata": {},
   "source": [
    "Since we are interested in change over time, we need to generate a conditional probability distribution. \n",
    "\n",
    "Here is our conditional frequency distribution (as before):"
   ]
  },
  {
   "cell_type": "code",
   "execution_count": 189,
   "metadata": {
    "collapsed": false
   },
   "outputs": [],
   "source": [
    "word_counts_over_time = nltk.ConditionalFreqDist([\n",
    "        (normalize_token(token), metadata[fileid].date)\n",
    "         for fileid in corpus.fileids()\n",
    "         for token in corpus.words(fileids=[fileid])\n",
    "         if filter_token(token)\n",
    "    ])"
   ]
  },
  {
   "cell_type": "code",
   "execution_count": 207,
   "metadata": {
    "collapsed": false
   },
   "outputs": [
    {
     "data": {
      "image/png": "[encoded data removed]",
      "text/plain": [
       "<matplotlib.figure.Figure at 0x1173a5110>"
      ]
     },
     "metadata": {},
     "output_type": "display_data"
    }
   ],
   "source": [
    "word_counts_over_time.plot(conditions=['chicken'])"
   ]
  },
  {
   "cell_type": "markdown",
   "metadata": {},
   "source": [
    "One important factor that we overlooked before was the possibility that the total number of tokens per year is not uniform. We can evaluate whether or not this is a problem by generating a frequency distribution. Below, we sample the publication date for each token in the whole corpus."
   ]
  },
  {
   "cell_type": "code",
   "execution_count": 185,
   "metadata": {
    "collapsed": true
   },
   "outputs": [],
   "source": [
    "tokens_per_year = nltk.FreqDist([metadata[fileid].date \n",
    "                                 for fileid in corpus.fileids() \n",
    "                                 for token in corpus.words(fileids=[fileid])])"
   ]
  },
  {
   "cell_type": "markdown",
   "metadata": {},
   "source": [
    "As the plot below shows, there is considerable variability in the number of tokens per year (note: the X axis is *not* ordered by year). 2014 has the most tokens, at around 325,000; it looks like 2016 has around 10,000 tokens. "
   ]
  },
  {
   "cell_type": "code",
   "execution_count": 193,
   "metadata": {
    "collapsed": false,
    "scrolled": true
   },
   "outputs": [
    {
     "data": {
      "image/png": "[encoded data removed]",
      "text/plain": [
       "<matplotlib.figure.Figure at 0x11a0fb810>"
      ]
     },
     "metadata": {},
     "output_type": "display_data"
    }
   ],
   "source": [
    "tokens_per_year.plot()"
   ]
  },
  {
   "cell_type": "markdown",
   "metadata": {},
   "source": [
    "To correct for this bias, we will normalize our conditional frequency distribution for tokens over time by dividing the frequency for each token in each year by the total number of tokens in that year. We will create a new conditional frequency distribution to store these new normalized values."
   ]
  },
  {
   "cell_type": "code",
   "execution_count": 186,
   "metadata": {
    "collapsed": false
   },
   "outputs": [],
   "source": [
    "word_counts_over_time_normed = nltk.ConditionalFreqDist()\n",
    "for condition, freqdist in word_counts_over_time.items():\n",
    "    for sample, value in freqdist.iteritems():\n",
    "        word_counts_over_time_normed[condition][sample] = value*1./tokens_per_year[sample]"
   ]
  },
  {
   "cell_type": "code",
   "execution_count": 206,
   "metadata": {
    "collapsed": false
   },
   "outputs": [
    {
     "data": {
      "image/png": "[encoded data removed]",
      "text/plain": [
       "<matplotlib.figure.Figure at 0x119beb250>"
      ]
     },
     "metadata": {},
     "output_type": "display_data"
    }
   ],
   "source": [
    "word_counts_over_time_normed.plot(conditions=['chicken'])"
   ]
  },
  {
   "cell_type": "markdown",
   "metadata": {},
   "source": [
    "And we use that normalized distribution to generate the conditional probability distribution:"
   ]
  },
  {
   "cell_type": "code",
   "execution_count": 208,
   "metadata": {
    "collapsed": true
   },
   "outputs": [],
   "source": [
    "word_probs_over_time = nltk.ConditionalProbDist(word_counts_over_time_normed, nltk.MLEProbDist)"
   ]
  },
  {
   "cell_type": "markdown",
   "metadata": {},
   "source": [
    "Now we'll take a look at the token that we'd like to analyze. Let's try ``chicken``.\n",
    "\n",
    "Here we get the probability for each year for the token ``chicken``:"
   ]
  },
  {
   "cell_type": "code",
   "execution_count": 209,
   "metadata": {
    "collapsed": false
   },
   "outputs": [],
   "source": [
    "chicken_probs = word_probs_over_time['chicken']"
   ]
  },
  {
   "cell_type": "markdown",
   "metadata": {},
   "source": [
    "We can extract the probability for each year by iterating over the ``samples`` in the ``MLEProbDist``."
   ]
  },
  {
   "cell_type": "code",
   "execution_count": 211,
   "metadata": {
    "collapsed": false
   },
   "outputs": [
    {
     "data": {
      "text/plain": [
       "[(2007, 0.21481609915527972),\n",
       " (2008, 0.30393330931016144),\n",
       " (2009, 0.15889285567937486),\n",
       " (2010, 0.06561720556732972),\n",
       " (2011, 0.06464953061365311),\n",
       " (2012, 0.04878417681600967),\n",
       " (2013, 0.08560464270593332),\n",
       " (2014, 0.01580177181735),\n",
       " (2015, 0.04190040833490808)]"
      ]
     },
     "execution_count": 211,
     "metadata": {},
     "output_type": "execute_result"
    }
   ],
   "source": [
    "[(year, chicken_probs.prob(year)) \n",
    " for year in chicken_probs.samples()]"
   ]
  },
  {
   "cell_type": "markdown",
   "metadata": {},
   "source": [
    "The convenience function [``zip()``](https://docs.python.org/2/library/functions.html#zip) lets us unpack those values into our predictor $X$ and our response $Y$:"
   ]
  },
  {
   "cell_type": "code",
   "execution_count": 212,
   "metadata": {
    "collapsed": false
   },
   "outputs": [
    {
     "data": {
      "image/png": "[encoded data removed]",
      "text/plain": [
       "<matplotlib.figure.Figure at 0x1159d4e50>"
      ]
     },
     "metadata": {},
     "output_type": "display_data"
    }
   ],
   "source": [
    "X, Y = zip(*[(year, chicken_probs.prob(year))     # The * here means \"unzip\".\n",
    "             for year in chicken_probs.samples()])\n",
    "\n",
    "plt.scatter(X, Y)\n",
    "plt.show()"
   ]
  },
  {
   "cell_type": "markdown",
   "metadata": {},
   "source": [
    "The SciPy package provides a Ordinary Least Squares linear regression function called [``linregress()``](http://docs.scipy.org/doc/scipy-0.14.0/reference/generated/scipy.stats.linregress.html). We can use that to estimate the model parameters from our data."
   ]
  },
  {
   "cell_type": "code",
   "execution_count": 228,
   "metadata": {
    "collapsed": false
   },
   "outputs": [
    {
     "name": "stdout",
     "output_type": "stream",
     "text": [
      "^Beta: -0.0286577805076\n",
      "^Beta_0: 57.741907712\n",
      "r-squared: 0.676351024604\n",
      "p: 0.00650236878999\n"
     ]
    },
    {
     "data": {
      "image/png": "[encoded data removed]",
      "text/plain": [
       "<matplotlib.figure.Figure at 0x11bba6ad0>"
      ]
     },
     "metadata": {},
     "output_type": "display_data"
    }
   ],
   "source": [
    "from scipy.stats import linregress\n",
    "Beta, Beta0, r, p, stde = linregress(X, Y)\n",
    "\n",
    "print '^Beta:', Beta\n",
    "print '^Beta_0:', Beta0\n",
    "print 'r-squared:', r*r\n",
    "print 'p:', p\n",
    "\n",
    "plt.scatter(X, Y)\n",
    "plt.plot(X, [Beta0 + Beta*x  for x in X])\n",
    "plt.show()"
   ]
  },
  {
   "cell_type": "markdown",
   "metadata": {},
   "source": [
    "At first pass, our linear model looks like a remarkably good fit. Our r-squared value is not too bad, and we have a very low p value. The problem with interpreting that p-value, however, is that data derived from texts rarely satisfy the assumptions of the t-test used to assess significance. Aside from the fact that we have very few \"observations\", does the distribution of Y values (token probabilities) shown below look normally distributed to you?"
   ]
  },
  {
   "cell_type": "code",
   "execution_count": 215,
   "metadata": {
    "collapsed": false
   },
   "outputs": [
    {
     "data": {
      "image/png": "[encoded data removed]",
      "text/plain": [
       "<matplotlib.figure.Figure at 0x116cbc6d0>"
      ]
     },
     "metadata": {},
     "output_type": "display_data"
    }
   ],
   "source": [
    "plt.hist(Y)\n",
    "plt.show()"
   ]
  },
  {
   "cell_type": "markdown",
   "metadata": {},
   "source": [
    "We need to use an hypothesis test that does not assume normality, and can handle the small sample size. One such approach is the **permutation test**. \n",
    "\n",
    "http://avesbiodiv.mncn.csic.es/estadistica/permut2.pdf\n",
    "http://www.sagepub.com/sites/default/files/upm-binaries/21122_Chapter_21.pdf\n",
    "\n",
    "Our null hypothesis is that:\n",
    "\n",
    "$H_0: \\beta = 0$\n",
    "\n",
    "That is, that there is no change in the probability of our token (``chicken``, in this case) over time. \n",
    "\n",
    "We will shuffle our response variable, $Y$, a whole bunch of times. Each time we shuffle the data (a permutation), we will re-calculate the regression parameter $\\beta_{\\pi}$. We can reject $H_0$ with a confidence of $p = 0.05$ iff our observed $\\hat{\\beta}$ falls outside the inner 95% of the resampled distribution."
   ]
  },
  {
   "cell_type": "code",
   "execution_count": 216,
   "metadata": {
    "collapsed": false
   },
   "outputs": [],
   "source": [
    "import numpy as np"
   ]
  },
  {
   "cell_type": "code",
   "execution_count": 217,
   "metadata": {
    "collapsed": false
   },
   "outputs": [],
   "source": [
    "Beta_samples, Beta0_samples, _, _, _ = zip(*[linregress(X, np.random.permutation(Y)) for i in xrange(1000)])"
   ]
  },
  {
   "cell_type": "code",
   "execution_count": 226,
   "metadata": {
    "collapsed": false
   },
   "outputs": [
    {
     "data": {
      "image/png": "[encoded data removed]",
      "text/plain": [
       "<matplotlib.figure.Figure at 0x11cda3750>"
      ]
     },
     "metadata": {},
     "output_type": "display_data"
    }
   ],
   "source": [
    "plt.figure(figsize=(10, 5))\n",
    "\n",
    "plt.subplot(121)\n",
    "plt.hist(Beta_samples)    # Histogram of Beta values from permutations.\n",
    "plt.plot([Beta, Beta], [0, 200],     # Beta from the observed data.\n",
    "         lw=5, label='$\\\\hat{\\\\beta}$')\n",
    "\n",
    "# Plot the upper and lower bounds of the inner 95% probability.\n",
    "Beta_upper, Beta_lower = np.percentile(Beta_samples, 97.5), np.percentile(Beta_samples, 2.5)\n",
    "plt.plot([Beta_upper, Beta_upper], [0, 200], color='k', lw=2, label='$p = 0.05$')\n",
    "plt.plot([Beta_lower, Beta_lower], [0, 200], color='k', lw=2)\n",
    "\n",
    "plt.legend()\n",
    "plt.xlabel('$\\\\beta_{\\\\pi}$', fontsize=24)\n",
    "\n",
    "# Same procedure for Beta0.\n",
    "plt.subplot(122)\n",
    "plt.hist(Beta0_samples)\n",
    "plt.plot([Beta0, Beta0], [0, 200], lw=5, label='$\\\\hat{\\\\beta_0}$')\n",
    "\n",
    "Beta0_upper, Beta0_lower = np.percentile(Beta0_samples, 97.5), np.percentile(Beta0_samples, 2.5)\n",
    "plt.plot([Beta0_upper, Beta0_upper], [0, 200], color='k', lw=2, label='$p = 0.05$')\n",
    "plt.plot([Beta0_lower, Beta0_lower], [0, 200], color='k', lw=2)\n",
    "\n",
    "plt.legend()\n",
    "plt.xlabel('$\\\\beta_{0\\\\pi}$', fontsize=24)\n",
    "plt.tight_layout()\n",
    "plt.show()"
   ]
  },
  {
   "cell_type": "markdown",
   "metadata": {},
   "source": [
    "As we can see from the plots above, our $\\hat{\\beta}$ calculated from the observed data falls outside the inner 95% of the samples, and so we can reject $H_0$: the term ``chicken`` is decreasing in prevalance over time."
   ]
  }
 ],
 "metadata": {
  "kernelspec": {
   "display_name": "Python 2",
   "language": "python",
   "name": "python2"
  },
  "language_info": {
   "codemirror_mode": {
    "name": "ipython",
    "version": 2
   },
   "file_extension": ".py",
   "mimetype": "text/x-python",
   "name": "python",
   "nbconvert_exporter": "python",
   "pygments_lexer": "ipython2",
   "version": "2.7.9"
  }
 },
 "nbformat": 4,
 "nbformat_minor": 0
}

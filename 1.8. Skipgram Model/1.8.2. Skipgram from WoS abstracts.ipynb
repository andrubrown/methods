{
 "cells": [
  {
   "cell_type": "code",
   "execution_count": 1,
   "metadata": {
    "collapsed": false
   },
   "outputs": [
    {
     "name": "stdout",
     "output_type": "stream",
     "text": [
      "Populating the interactive namespace from numpy and matplotlib\n"
     ]
    }
   ],
   "source": [
    "%pylab inline"
   ]
  },
  {
   "cell_type": "code",
   "execution_count": 15,
   "metadata": {
    "collapsed": true
   },
   "outputs": [],
   "source": [
    "from tethne.readers import wos\n",
    "import pandas as pd\n",
    "import networkx as nx\n",
    "import numpy as np\n",
    "import nltk\n",
    "from helpers import filter_token, normalize_token\n",
    "import gensim"
   ]
  },
  {
   "cell_type": "code",
   "execution_count": 3,
   "metadata": {
    "collapsed": false
   },
   "outputs": [],
   "source": [
    "metadata = wos.read('../data/Baldwin/PlantPhysiology', \n",
    "                    streaming=True, index_fields=['date', 'abstract'], index_features=['authors'])"
   ]
  },
  {
   "cell_type": "code",
   "execution_count": 4,
   "metadata": {
    "collapsed": false
   },
   "outputs": [
    {
     "name": "stdout",
     "output_type": "stream",
     "text": [
      "WOS:000185974800027\n"
     ]
    }
   ],
   "source": [
    "abstracts = {}\n",
    "for abstract, wosid in metadata.indices['abstract'].iteritems():\n",
    "    print '\\r', wosid[0],\n",
    "    abstracts[wosid[0]] = abstract"
   ]
  },
  {
   "cell_type": "code",
   "execution_count": 10,
   "metadata": {
    "collapsed": false
   },
   "outputs": [
    {
     "data": {
      "text/plain": [
       "[u'Most of the iron in legume seeds is stored in ferritin located in the amyloplast, which is used during seed germination.',\n",
       " u'However, there is a lack of information on the regulation of iron by phytoferritin.',\n",
       " u'In this study, soluble and insoluble forms of pea (Pisum sativum) seed ferritin (PSF) isolated from dried seeds were found to be identical 24-mer ferritins comprising H-1 and H-2 subunits.',\n",
       " u'The insoluble form is favored at low pH, whereas the two forms reversibly interconvert in the pH range of 6.0 to 7.8, with an apparent pK(a) of 6.7.',\n",
       " u'This phenomenon was not observed in animal ferritins, indicating that PSF is unique.',\n",
       " u'The pH of the amyloplast was found to be approximately 6.0, thus facilitating PSF association, which is consistent with the role of PSF in long-term iron storage.',\n",
       " u'Similar to previous studies, the results of this work showed that protein degradation occurs in purified PSF during storage, thus proving that phytoferritin also undergoes degradation during seedling germination.',\n",
       " u'In contrast, no degradation was observed in animal ferritins, suggesting that this degradation of phytoferritin may be due to the extension peptide (EP), a specific domain found only in phytoferritin.',\n",
       " u'Indeed, removal of EP from PSF significantly increased protein stability and prevented degradation under identical conditions while promoting protein dissociation.',\n",
       " u'Correlated with such dissociation was a considerable increase in the rate of ascorbate-induced iron release from PSF at pH 6.0.',\n",
       " u'Thus, phytoferritin may have facilitated the evolution of EP to enable it to regulate iron for storage or complement in seeds.']"
      ]
     },
     "execution_count": 10,
     "metadata": {},
     "output_type": "execute_result"
    }
   ],
   "source": [
    "nltk.tokenize.sent_tokenize(abstracts.items()[0][1])"
   ]
  },
  {
   "cell_type": "code",
   "execution_count": 19,
   "metadata": {
    "collapsed": false
   },
   "outputs": [],
   "source": [
    "documents = []\n",
    "for wosid, abstract in abstracts.iteritems():\n",
    "    for sentence in nltk.tokenize.sent_tokenize(abstract):\n",
    "        documents.append([normalize_token(token) \n",
    "                          for token in nltk.tokenize.word_tokenize(sentence)\n",
    "                          if filter_token(token)])"
   ]
  },
  {
   "cell_type": "code",
   "execution_count": 20,
   "metadata": {
    "collapsed": false
   },
   "outputs": [
    {
     "data": {
      "text/plain": [
       "[u'iron',\n",
       " u'legume',\n",
       " u'seed',\n",
       " u'stored',\n",
       " u'ferritin',\n",
       " u'located',\n",
       " u'amyloplast',\n",
       " u'used',\n",
       " u'seed',\n",
       " u'germination']"
      ]
     },
     "execution_count": 20,
     "metadata": {},
     "output_type": "execute_result"
    }
   ],
   "source": [
    "documents[0]"
   ]
  },
  {
   "cell_type": "code",
   "execution_count": 21,
   "metadata": {
    "collapsed": false
   },
   "outputs": [],
   "source": [
    "model = gensim.models.Word2Vec(documents, size=200, window=5)"
   ]
  },
  {
   "cell_type": "code",
   "execution_count": 25,
   "metadata": {
    "collapsed": false
   },
   "outputs": [
    {
     "data": {
      "text/plain": [
       "[(u'flow', 0.7300856113433838),\n",
       " (u'hydraulic', 0.7193525433540344),\n",
       " (u'net', 0.6972233057022095),\n",
       " (u'uptake', 0.6961174011230469),\n",
       " (u'blockage', 0.692240297794342),\n",
       " (u'mpa', 0.6783999800682068),\n",
       " (u'transpirational', 0.6728108525276184),\n",
       " (u'diffusion', 0.6726493835449219),\n",
       " (u'efflux', 0.6726212501525879),\n",
       " (u'evaporative', 0.6641442775726318)]"
      ]
     },
     "execution_count": 25,
     "metadata": {},
     "output_type": "execute_result"
    }
   ],
   "source": [
    "model.most_similar(positive=['transport', 'water'])"
   ]
  },
  {
   "cell_type": "code",
   "execution_count": null,
   "metadata": {
    "collapsed": true
   },
   "outputs": [],
   "source": []
  }
 ],
 "metadata": {
  "kernelspec": {
   "display_name": "Python 2",
   "language": "python",
   "name": "python2"
  },
  "language_info": {
   "codemirror_mode": {
    "name": "ipython",
    "version": 2
   },
   "file_extension": ".py",
   "mimetype": "text/x-python",
   "name": "python",
   "nbconvert_exporter": "python",
   "pygments_lexer": "ipython2",
   "version": "2.7.9"
  }
 },
 "nbformat": 4,
 "nbformat_minor": 0
}

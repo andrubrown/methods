{
 "cells": [
  {
   "cell_type": "code",
   "execution_count": 1,
   "metadata": {
    "collapsed": false
   },
   "outputs": [
    {
     "name": "stdout",
     "output_type": "stream",
     "text": [
      "Populating the interactive namespace from numpy and matplotlib\n"
     ]
    }
   ],
   "source": [
    "%pylab inline"
   ]
  },
  {
   "cell_type": "markdown",
   "metadata": {},
   "source": [
    "# Finding concepts in texts: Latent Semantic Analysis\n",
    "\n",
    "Up to now, we have dealt with texts in a manner similar to the ways in which we typically consume them: reading and interpreting the words in order. In this notebook, we will begin to reconceptualize the text as a non-linear phenomenon. This shift brings with it certain complications, but also allows us to scale up in ways that would not otherwise be possible.\n",
    "\n",
    "## The Bag of Words\n",
    "\n",
    "## Documents as vectors\n",
    "\n",
    "## Latent Semantics"
   ]
  },
  {
   "cell_type": "code",
   "execution_count": null,
   "metadata": {
    "collapsed": true
   },
   "outputs": [],
   "source": []
  }
 ],
 "metadata": {
  "kernelspec": {
   "display_name": "Python 2",
   "language": "python",
   "name": "python2"
  },
  "language_info": {
   "codemirror_mode": {
    "name": "ipython",
    "version": 2
   },
   "file_extension": ".py",
   "mimetype": "text/x-python",
   "name": "python",
   "nbconvert_exporter": "python",
   "pygments_lexer": "ipython2",
   "version": "2.7.9"
  }
 },
 "nbformat": 4,
 "nbformat_minor": 0
}

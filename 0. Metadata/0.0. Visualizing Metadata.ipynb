{
 "cells": [
  {
   "cell_type": "code",
   "execution_count": 2,
   "metadata": {
    "collapsed": false
   },
   "outputs": [
    {
     "name": "stdout",
     "output_type": "stream",
     "text": [
      "Populating the interactive namespace from numpy and matplotlib\n"
     ]
    }
   ],
   "source": [
    "%pylab inline"
   ]
  },
  {
   "cell_type": "markdown",
   "metadata": {},
   "source": [
    "# 0.0. Visualizing Metadata\n",
    "\n",
    "[RDF (**R**esource **D**escription **F**ramework)](https://www.w3.org/RDF/) is a data model for information on the internet. It can be used to describe just about anything, but is usually applied to bibliographic collections: representing metadata about published documents. \n",
    "\n",
    "[RDF XML](https://www.w3.org/TR/rdf-syntax-grammar/) is a grammar/serialization format for representing RDF. There are other ways of representing RDF, like [N-triples](https://www.w3.org/TR/n-triples/), [Turtle](https://www.w3.org/TR/turtle/), and [JSON-LD](http://manu.sporny.org/2014/json-ld-origins-2/).\n",
    "\n",
    "One of the core concepts of RDF is representing (meta)data as a graph. Every element of the RDF document (a file containing RDF statements) is a **node** in the graph: articles, people, journals, literals (like volume numbers), etc. These **nodes** are called **resources**. Resources are linked together in **triples**: tri-partite statements consisting of a subject, a predicate, and an object.\n",
    "\n",
    "In this notebook, we'll convert a simple [Zotero RDF/XML](https://forums.zotero.org/discussion/29807/zotero-rdf-documentation/) document into a [GraphML](http://graphml.graphdrawing.org/) graph (a graph serialization format) and visualize that graph using [Cytoscape](http://cytoscape.org).\n",
    "\n",
    "--------   --------------------------------------------\n",
    "**Note**   *This exercise is intended only to introduce you to RDF and graphs, and isn't something that you are likely to do as part of an analysis. There is a sample RDF/XML file included in the ``data`` subdirectory, describing a single document. Use that file to start. You can try this with your own RDF if you want, but even a moderate number of documents will lead to extremely large and unweildy graphs. So, be careful.*\n",
    "--------   --------------------------------------------"
   ]
  },
  {
   "cell_type": "code",
   "execution_count": 3,
   "metadata": {
    "collapsed": true
   },
   "outputs": [],
   "source": [
    "import rdflib\n",
    "import networkx as nx\n",
    "import os"
   ]
  },
  {
   "cell_type": "code",
   "execution_count": 1,
   "metadata": {
    "collapsed": true
   },
   "outputs": [],
   "source": [
    "rdf_path = 'data/example.rdf'"
   ]
  },
  {
   "cell_type": "markdown",
   "metadata": {},
   "source": [
    "## Correct Zotero RDF\n",
    "\n",
    "Zotero isn't exactly a pro at creating valid RDF/XML. The code cell below fixes a known issue with Zotero RDF documents."
   ]
  },
  {
   "cell_type": "code",
   "execution_count": 4,
   "metadata": {
    "collapsed": false
   },
   "outputs": [],
   "source": [
    "with open(rdf_path, 'r') as f:\n",
    "    corrected = f.read().replace('rdf:resource rdf:resource',\n",
    "                                 'link:link rdf:resource')\n",
    "\n",
    "# The corrected graph will be saved to a file with `_corrected` \n",
    "#  added to the name. E.g. if the original RDF document was \n",
    "#  called `example.rdf`, the new file will be called \n",
    "#  `example_corrected.rdf`.\n",
    "base, name = os.path.split(rdf_path)\n",
    "corrected_name = '%s_corrected_.%s' % tuple(name.split('.'))\n",
    "corrected_rdf_path = os.path.join(base, corrected_name)\n",
    "\n",
    "with open(corrected_rdf_path, 'w') as f:\n",
    "    f.write(corrected)"
   ]
  },
  {
   "cell_type": "markdown",
   "metadata": {},
   "source": [
    "## Parse RDF\n",
    "\n",
    "We use the [rdflib](https://rdflib.readthedocs.io/en/stable/) Python package to parse the corrected RDF document. The code-cell below creates an empty RDF graph, and then reads the triples from the corrected RDF document created above."
   ]
  },
  {
   "cell_type": "code",
   "execution_count": 5,
   "metadata": {
    "collapsed": false
   },
   "outputs": [],
   "source": [
    "rdf_graph = rdflib.Graph()\n",
    "rdf_graph.load(corrected_rdf_path)"
   ]
  },
  {
   "cell_type": "markdown",
   "metadata": {},
   "source": [
    "## Create a GraphML file\n",
    "\n",
    "[GraphML](http://graphml.graphdrawing.org/) is a popular graph serialization format. My favorite graph visualization tool, [Cytoscape](http://cytoscape.org), can read GraphML. The [NetworkX](http://networkx.github.io) Python package makes it easy to create GraphML files."
   ]
  },
  {
   "cell_type": "code",
   "execution_count": 6,
   "metadata": {
    "collapsed": false
   },
   "outputs": [
    {
     "name": "stdout",
     "output_type": "stream",
     "text": [
      "Added 12 nodes and 11 edges to the graph\n"
     ]
    }
   ],
   "source": [
    "graph = nx.DiGraph()    # Metadata is `directed`.\n",
    "\n",
    "for s, p, o in rdf_graph.triples((None, None, None)):\n",
    "    # The .toPython() method converts rdflib objects into objects\n",
    "    #  that any Python module can understand (e.g. str, int, float).\n",
    "    graph.add_edge(s.toPython(), \n",
    "                   o.toPython(), \n",
    "                   attr_dict={'predicate': p.toPython()})\n",
    "\n",
    "print 'Added %i nodes and %i edges to the graph' % (graph.order(),\n",
    "                                                    graph.size())"
   ]
  },
  {
   "cell_type": "markdown",
   "metadata": {},
   "source": [
    "The code-cell below will create a new GraphML file that we can import in [Cytoscape](http://cytoscape.org)."
   ]
  },
  {
   "cell_type": "code",
   "execution_count": 7,
   "metadata": {
    "collapsed": true
   },
   "outputs": [],
   "source": [
    "graphml_path = 'output/example.graphml'\n",
    "nx.write_graphml(graph, graphml_path)"
   ]
  },
  {
   "cell_type": "markdown",
   "metadata": {},
   "source": [
    "In Cytoscape:\n",
    "* ``File > Import > Network File`` and select ``example.graphml``.\n",
    "* Select ``Layout > Apply Preferred Layout`` to apply a force-directed layout.\n",
    "* Select the ``Style`` panel at left, and select the \"Directed\" style from the dropdown menu.\n",
    "* Select the ``Edge`` tab at the bottom left; expand the ``Label`` property, and select ``predicate`` in the Column field."
   ]
  },
  {
   "cell_type": "markdown",
   "metadata": {},
   "source": [
    "![cytoscape visualization](images/rdf_graph.png)\n"
   ]
  }
 ],
 "metadata": {
  "kernelspec": {
   "display_name": "Python 2",
   "language": "python",
   "name": "python2"
  },
  "language_info": {
   "codemirror_mode": {
    "name": "ipython",
    "version": 2
   },
   "file_extension": ".py",
   "mimetype": "text/x-python",
   "name": "python",
   "nbconvert_exporter": "python",
   "pygments_lexer": "ipython2",
   "version": "2.7.9"
  }
 },
 "nbformat": 4,
 "nbformat_minor": 0
}

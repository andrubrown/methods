{
 "cells": [
  {
   "cell_type": "code",
   "execution_count": 1,
   "metadata": {
    "collapsed": false
   },
   "outputs": [
    {
     "name": "stdout",
     "output_type": "stream",
     "text": [
      "Populating the interactive namespace from numpy and matplotlib\n"
     ]
    }
   ],
   "source": [
    "%pylab inline"
   ]
  },
  {
   "cell_type": "code",
   "execution_count": 62,
   "metadata": {
    "collapsed": false
   },
   "outputs": [],
   "source": [
    "import nltk\n",
    "from tethne.readers import zotero\n",
    "import matplotlib.pyplot as plt\n",
    "from helpers import normalize_token, filter_token\n",
    "import networkx as nx"
   ]
  },
  {
   "cell_type": "code",
   "execution_count": 5,
   "metadata": {
    "collapsed": false
   },
   "outputs": [],
   "source": [
    "text_root = '../data/SystemsBiology/'\n",
    "documents = nltk.corpus.PlaintextCorpusReader(text_root, '.+.txt')"
   ]
  },
  {
   "cell_type": "code",
   "execution_count": 28,
   "metadata": {
    "collapsed": true
   },
   "outputs": [],
   "source": [
    "tagged_words = nltk.pos_tag(documents.words())"
   ]
  },
  {
   "cell_type": "code",
   "execution_count": 29,
   "metadata": {
    "collapsed": true
   },
   "outputs": [],
   "source": [
    "bigram_measures = nltk.collocations.BigramAssocMeasures()\n",
    "finder = nltk.collocations.BigramCollocationFinder.from_words(tagged_words)"
   ]
  },
  {
   "cell_type": "code",
   "execution_count": 30,
   "metadata": {
    "collapsed": true
   },
   "outputs": [],
   "source": [
    "def filter_taggedtoken(tagged_token):\n",
    "    token, tag = tagged_token\n",
    "    return token.isalpha() and tag.startswith('N')"
   ]
  },
  {
   "cell_type": "code",
   "execution_count": 31,
   "metadata": {
    "collapsed": false
   },
   "outputs": [
    {
     "data": {
      "text/plain": [
       "[((u'United', 'NNP'), (u'States', 'NNPS')),\n",
       " ((u'glyoxylate', 'NN'), (u'shunt', 'NN')),\n",
       " ((u'vice', 'NN'), (u'versa', 'NN')),\n",
       " ((u'Karger', 'NNP'), (u'AG', 'NNP')),\n",
       " ((u'reading', 'NN'), (u'frames', 'NNS')),\n",
       " ((u'warning', 'NN'), (u'signs', 'NNS')),\n",
       " ((u'Northern', 'NNP'), (u'bobwhite', 'NN')),\n",
       " ((u'desorption', 'NN'), (u'ionization', 'NN')),\n",
       " ((u'guinea', 'NN'), (u'pigs', 'NNS')),\n",
       " ((u'Mycobacterium', 'NNP'), (u'tuberculosis', 'NN'))]"
      ]
     },
     "execution_count": 31,
     "metadata": {},
     "output_type": "execute_result"
    }
   ],
   "source": [
    "finder.apply_freq_filter(3)\n",
    "finder.apply_word_filter(lambda token: not filter_taggedtoken(token))\n",
    "finder.nbest(bigram_measures.pmi, 10)"
   ]
  },
  {
   "cell_type": "code",
   "execution_count": 33,
   "metadata": {
    "collapsed": false
   },
   "outputs": [
    {
     "data": {
      "text/plain": [
       "[((u'systems', 'NNS'), (u'biology', 'NN')),\n",
       " ((u'All', 'NNP'), (u'rights', 'NNS')),\n",
       " ((u'gene', 'NN'), (u'expression', 'NN')),\n",
       " ((u'mass', 'NN'), (u'spectrometry', 'NN')),\n",
       " ((u'AB', 'NNP'), (u'Background', 'NNP')),\n",
       " ((u'Systems', 'NNP'), (u'Biology', 'NNP')),\n",
       " ((u'Elsevier', 'NNP'), (u'Ltd', 'NNP')),\n",
       " ((u'Elsevier', 'NNP'), (u'B', 'NNP')),\n",
       " ((u'drug', 'NN'), (u'discovery', 'NN')),\n",
       " ((u'data', 'NNS'), (u'sets', 'NNS')),\n",
       " ((u'Elsevier', 'NNP'), (u'Inc', 'NNP')),\n",
       " ((u'Saccharomyces', 'NNP'), (u'cerevisiae', 'NN')),\n",
       " ((u'Systems', 'NNPS'), (u'biology', 'NN')),\n",
       " ((u'growth', 'NN'), (u'factor', 'NN')),\n",
       " ((u'AB', 'NNP'), (u'Systems', 'NNPS')),\n",
       " ((u'biology', 'NN'), (u'approach', 'NN')),\n",
       " ((u'transcription', 'NN'), (u'factors', 'NNS')),\n",
       " ((u'Monte', 'NNP'), (u'Carlo', 'NNP')),\n",
       " ((u'Systems', 'NNPS'), (u'Biology', 'NNP')),\n",
       " ((u'stem', 'NN'), (u'cell', 'NN'))]"
      ]
     },
     "execution_count": 33,
     "metadata": {},
     "output_type": "execute_result"
    }
   ],
   "source": [
    "finder.nbest(bigram_measures.likelihood_ratio, 20)"
   ]
  },
  {
   "cell_type": "code",
   "execution_count": 34,
   "metadata": {
    "collapsed": true
   },
   "outputs": [],
   "source": [
    "ngram, score = zip(*[g for g in finder.score_ngrams(bigram_measures.pmi)])"
   ]
  },
  {
   "cell_type": "code",
   "execution_count": 35,
   "metadata": {
    "collapsed": false
   },
   "outputs": [
    {
     "data": {
      "image/png": "[encoded data removed]",
      "text/plain": [
       "<matplotlib.figure.Figure at 0x10d36d9d0>"
      ]
     },
     "metadata": {},
     "output_type": "display_data"
    }
   ],
   "source": [
    "plt.hist(score)\n",
    "plt.show()"
   ]
  },
  {
   "cell_type": "code",
   "execution_count": 37,
   "metadata": {
    "collapsed": false
   },
   "outputs": [
    {
     "data": {
      "text/plain": [
       "[((u'expression', 'NN'), (u'network', 'NN')),\n",
       " ((u'expression', 'NN'), (u'models', 'NNS')),\n",
       " ((u'systems', 'NNS'), (u'approaches', 'NNS')),\n",
       " ((u'biology', 'NN'), (u'methods', 'NNS')),\n",
       " ((u'analysis', 'NN'), (u'approaches', 'NNS')),\n",
       " ((u'cell', 'NN'), (u'analysis', 'NN')),\n",
       " ((u'cell', 'NN'), (u'gene', 'NN')),\n",
       " ((u'cell', 'NN'), (u'model', 'NN')),\n",
       " ((u'biology', 'NN'), (u'level', 'NN')),\n",
       " ((u'expression', 'NN'), (u'networks', 'NNS')),\n",
       " ((u'control', 'NN'), (u'systems', 'NNS')),\n",
       " ((u'system', 'NN'), (u'biology', 'NN')),\n",
       " ((u'biology', 'NN'), (u'models', 'NNS')),\n",
       " ((u'model', 'NN'), (u'networks', 'NNS')),\n",
       " ((u'network', 'NN'), (u'data', 'NNS')),\n",
       " ((u'network', 'NN'), (u'biology', 'NN')),\n",
       " ((u'model', 'NN'), (u'systems', 'NNS')),\n",
       " ((u'systems', 'NNS'), (u'models', 'NNS')),\n",
       " ((u'cell', 'NN'), (u'systems', 'NNS')),\n",
       " ((u'biology', 'NN'), (u'data', 'NNS'))]"
      ]
     },
     "execution_count": 37,
     "metadata": {},
     "output_type": "execute_result"
    }
   ],
   "source": [
    "selected_ngrams = [ngram for ngram in finder.above_score(bigram_measures.pmi, 0.0)]\n",
    "selected_ngrams[-20:]"
   ]
  },
  {
   "cell_type": "code",
   "execution_count": 38,
   "metadata": {
    "collapsed": false
   },
   "outputs": [
    {
     "data": {
      "text/plain": [
       "[(u'United', u'States'),\n",
       " (u'glyoxylate', u'shunt'),\n",
       " (u'vice', u'versa'),\n",
       " (u'Karger', u'AG'),\n",
       " (u'reading', u'frames'),\n",
       " (u'warning', u'signs'),\n",
       " (u'Northern', u'bobwhite'),\n",
       " (u'desorption', u'ionization'),\n",
       " (u'guinea', u'pigs'),\n",
       " (u'Mycobacterium', u'tuberculosis')]"
      ]
     },
     "execution_count": 38,
     "metadata": {},
     "output_type": "execute_result"
    }
   ],
   "source": [
    "selected_expressions = []\n",
    "for (token1, pos1), (token2, pos2) in finder.above_score(bigram_measures.pmi, 1.0):\n",
    "    selected_expressions.append((token1, token2))\n",
    "\n",
    "selected_expressions[:10]"
   ]
  },
  {
   "cell_type": "code",
   "execution_count": 39,
   "metadata": {
    "collapsed": true
   },
   "outputs": [],
   "source": [
    "tokenizer = nltk.MWETokenizer(selected_expressions)"
   ]
  },
  {
   "cell_type": "code",
   "execution_count": 41,
   "metadata": {
    "collapsed": true
   },
   "outputs": [],
   "source": [
    "words_with_bigrams = [normalize_token(token).replace('_', ' ')\n",
    "                        for fileid in documents.fileids()\n",
    "                        for token in tokenizer.tokenize(documents.words(fileids=[fileid]))\n",
    "                        if filter_token(token) or '_' in token]"
   ]
  },
  {
   "cell_type": "code",
   "execution_count": 49,
   "metadata": {
    "collapsed": false
   },
   "outputs": [
    {
     "data": {
      "text/plain": [
       "[u'information',\n",
       " u'extremely',\n",
       " u'noisy',\n",
       " u'volatile',\n",
       " u'environment',\n",
       " u'new',\n",
       " u'view',\n",
       " u'signaling networks',\n",
       " u'system',\n",
       " u'consisting']"
      ]
     },
     "execution_count": 49,
     "metadata": {},
     "output_type": "execute_result"
    }
   ],
   "source": [
    "words_with_bigrams[20:30]"
   ]
  },
  {
   "cell_type": "markdown",
   "metadata": {},
   "source": [
    "## Co-occurrence network"
   ]
  },
  {
   "cell_type": "code",
   "execution_count": 50,
   "metadata": {
    "collapsed": true
   },
   "outputs": [],
   "source": [
    "finder = nltk.collocations.BigramCollocationFinder.from_words(words_with_bigrams, window_size=10)\n",
    "finder.apply_freq_filter(2)\n",
    "finder.apply_word_filter(lambda token: not filter_token(token))"
   ]
  },
  {
   "cell_type": "code",
   "execution_count": 51,
   "metadata": {
    "collapsed": false
   },
   "outputs": [
    {
     "data": {
      "text/plain": [
       "[(u'abacavir', u'thiopurine'),\n",
       " (u'acyl', u'thioesters'),\n",
       " (u'antiretroviral', u'thiopurine'),\n",
       " (u'anubis', u'interfering'),\n",
       " (u'ation', u'parp'),\n",
       " (u'blend', u'polystyrene'),\n",
       " (u'constructionist', u'stance'),\n",
       " (u'contemplative', u'stance'),\n",
       " (u'creationist', u'stance'),\n",
       " (u'cyclic', u'guanosine'),\n",
       " (u'ddf', u'archival'),\n",
       " (u'ddf', u'frozen'),\n",
       " (u'dedicate', u'fujii'),\n",
       " (u'dedicate', u'professor'),\n",
       " (u'discern', u'stance'),\n",
       " (u'fdhjst', u'feng'),\n",
       " (u'feng', u'ffdht'),\n",
       " (u'feng', u'huo'),\n",
       " (u'fujii', u'fellow'),\n",
       " (u'fujii', u'postdoctoral')]"
      ]
     },
     "execution_count": 51,
     "metadata": {},
     "output_type": "execute_result"
    }
   ],
   "source": [
    "finder.nbest(bigram_measures.pmi, 20)"
   ]
  },
  {
   "cell_type": "code",
   "execution_count": 53,
   "metadata": {
    "collapsed": false
   },
   "outputs": [],
   "source": [
    "pair, score = zip(*finder.score_ngrams(bigram_measures.pmi))"
   ]
  },
  {
   "cell_type": "code",
   "execution_count": 54,
   "metadata": {
    "collapsed": false
   },
   "outputs": [
    {
     "data": {
      "image/png": "[encoded data removed]",
      "text/plain": [
       "<matplotlib.figure.Figure at 0x10c3ace50>"
      ]
     },
     "metadata": {},
     "output_type": "display_data"
    }
   ],
   "source": [
    "plt.hist(score)\n",
    "plt.show()"
   ]
  },
  {
   "cell_type": "code",
   "execution_count": 103,
   "metadata": {
    "collapsed": false
   },
   "outputs": [],
   "source": [
    "graph = nx.Graph()\n",
    "for (token1, token2), score in finder.score_ngrams(bigram_measures.pmi):\n",
    "    if score > 8. and token1 != token2:\n",
    "        graph.add_edge(token1, token2, weight=score)"
   ]
  },
  {
   "cell_type": "code",
   "execution_count": 104,
   "metadata": {
    "collapsed": false
   },
   "outputs": [
    {
     "data": {
      "text/plain": [
       "(3387, 3589, 362)"
      ]
     },
     "execution_count": 104,
     "metadata": {},
     "output_type": "execute_result"
    }
   ],
   "source": [
    "# Number of nodes, number of edges.\n",
    "graph.order(), graph.size(), nx.number_connected_components(graph)"
   ]
  },
  {
   "cell_type": "code",
   "execution_count": 105,
   "metadata": {
    "collapsed": false
   },
   "outputs": [],
   "source": [
    "nx.write_graphml(graph, 'colocation.graphml')"
   ]
  },
  {
   "cell_type": "code",
   "execution_count": null,
   "metadata": {
    "collapsed": true
   },
   "outputs": [],
   "source": []
  }
 ],
 "metadata": {
  "kernelspec": {
   "display_name": "Python 2",
   "language": "python",
   "name": "python2"
  },
  "language_info": {
   "codemirror_mode": {
    "name": "ipython",
    "version": 2
   },
   "file_extension": ".py",
   "mimetype": "text/x-python",
   "name": "python",
   "nbconvert_exporter": "python",
   "pygments_lexer": "ipython2",
   "version": "2.7.9"
  }
 },
 "nbformat": 4,
 "nbformat_minor": 0
}

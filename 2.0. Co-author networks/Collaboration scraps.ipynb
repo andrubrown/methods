{
 "cells": [
  {
   "cell_type": "code",
   "execution_count": null,
   "metadata": {
    "collapsed": true
   },
   "outputs": [],
   "source": [
    "collaboration_data = pd.DataFrame(columns=['Year', 'Country', 'Internal'])\n",
    "i = 0\n",
    "for year, graph in zip(years, graphs):\n",
    "    for country in graph.nodes():\n",
    "        counts = Counter()\n",
    "        total = sum([graph[country][neighbor]['weight'] \n",
    "                        for neighbor in graph.neighbors(country)])\n",
    "        external = sum([graph[country][neighbor]['weight'] \n",
    "                        for neighbor in graph.neighbors(country)\n",
    "                        if neighbor != country])\n",
    "        \n",
    "\n",
    "        internal = 1. - (external/total)\n",
    "        if np.isnan(internal):\n",
    "            continue\n",
    "        collaboration_data.loc[i] = [year, country, internal]\n",
    "        i += 1"
   ]
  },
  {
   "cell_type": "code",
   "execution_count": null,
   "metadata": {
    "collapsed": true
   },
   "outputs": [],
   "source": [
    "plt.scatter(collaboration_data.Year, collaboration_data.Internal, alpha=0.25)\n",
    "plt.boxplot([collaboration_data[collaboration_data.Year == year].Internal for year in years], positions=years)\n",
    "plt.ylabel('Internal collaborations')\n",
    "plt.show()"
   ]
  },
  {
   "cell_type": "code",
   "execution_count": null,
   "metadata": {
    "collapsed": true
   },
   "outputs": [],
   "source": [
    "import pymc\n",
    "rates = pymc.Container([pymc.Gamma('rate_%i' % year, \n",
    "                                   alpha=1., \n",
    "                                   beta=1., \n",
    "                                   value=5.) \n",
    "                        for year in years])\n",
    "\n",
    "@pymc.deterministic\n",
    "def rate(rates=rates):\n",
    "    return np.array([rates[years.index(year)] \n",
    "                     for year in collaboration_data.Year])\n",
    "\n",
    "internal = pymc.Gamma('internal', \n",
    "                      alpha=1., beta=rate,\n",
    "                      value=collaboration_data.Internal, \n",
    "                      observed=True)\n"
   ]
  },
  {
   "cell_type": "code",
   "execution_count": null,
   "metadata": {
    "collapsed": true
   },
   "outputs": [],
   "source": [
    "model = pymc.Model({\n",
    "    'rates': rates,\n",
    "    'internal': internal\n",
    "})"
   ]
  },
  {
   "cell_type": "code",
   "execution_count": null,
   "metadata": {
    "collapsed": true
   },
   "outputs": [],
   "source": [
    "M = pymc.MCMC(model)\n",
    "M.sample(10000, burn=200, thin=20)"
   ]
  },
  {
   "cell_type": "code",
   "execution_count": null,
   "metadata": {
    "collapsed": true
   },
   "outputs": [],
   "source": [
    "plt.figure(figsize=(10, 4))\n",
    "plt.scatter(collaboration_data.Year, collaboration_data.Internal, alpha=0.25)\n",
    "\n",
    "# Plot the 95% credible interval as box/whiskers.\n",
    "plt.boxplot([1./dist.trace()[:] for dist in M.rates], \n",
    "            positions=years, \n",
    "            whis=[2.5, 97.5], \n",
    "            showfliers=False)\n",
    "plt.ylim(0, 1.0)\n",
    "\n",
    "plt.legend(loc='best')\n",
    "plt.show()"
   ]
  }
 ],
 "metadata": {
  "kernelspec": {
   "display_name": "Python 2",
   "language": "python",
   "name": "python2"
  },
  "language_info": {
   "codemirror_mode": {
    "name": "ipython",
    "version": 2
   },
   "file_extension": ".py",
   "mimetype": "text/x-python",
   "name": "python",
   "nbconvert_exporter": "python",
   "pygments_lexer": "ipython2",
   "version": "2.7.9"
  }
 },
 "nbformat": 4,
 "nbformat_minor": 0
}

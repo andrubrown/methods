{
 "cells": [
  {
   "cell_type": "code",
   "execution_count": 1,
   "metadata": {
    "collapsed": false
   },
   "outputs": [
    {
     "name": "stdout",
     "output_type": "stream",
     "text": [
      "Populating the interactive namespace from numpy and matplotlib\n"
     ]
    }
   ],
   "source": [
    "%pylab inline"
   ]
  },
  {
   "cell_type": "code",
   "execution_count": 2,
   "metadata": {
    "collapsed": true
   },
   "outputs": [],
   "source": [
    "import pandas as pd\n",
    "import networkx as nx\n",
    "import numpy as np"
   ]
  },
  {
   "cell_type": "markdown",
   "metadata": {},
   "source": [
    "# 2.0. Co-author Graphs\n",
    "\n",
    "Social network analysis is a popular method in the field of historical network research. By far the most accessible source of information about social networks in science are bibliographic metadata: we can examine relationships among published authors by modeling coauthorship as a graph. Of course, using bibliographic metadata alone has some drawbacks; for one, it renders many participants in scientific production invisible by focusing only on those who \"merit\" authorship -- laboratory technicians and other support staff, for example, aren't usually included as authors. Nevertheless, the sheer volume of available data makes bibliographic metadata an attractive place to start.\n",
    "\n",
    "In this notebook, we'll use metadata collected from the Web of Science database to build a coauthor graph. For background, reading, and resources (including instructions on how to download WoS metadata in the correct format), please see [this page](https://diging.atlassian.net/wiki/display/DCH/Module+2%3A+Introduction+to+Networks)."
   ]
  },
  {
   "cell_type": "markdown",
   "metadata": {},
   "source": [
    "## Loading data\n",
    "\n",
    "I have provided some sample WoS metadata in the ``data`` directory. [Tethne](http://diging.github.io/tethne) (the Python package that we will use to parse these metadata) can parse multiple files at once; we just pass the path to the folder that contains our metadata files.\n",
    "\n",
    "This set of metadata is from several years of the journal *Plant Physiology* -- so this is an artificially myopic sample of texts, but it works just fine for demonstration purposes."
   ]
  },
  {
   "cell_type": "code",
   "execution_count": 3,
   "metadata": {
    "collapsed": true
   },
   "outputs": [],
   "source": [
    "from tethne.readers import wos"
   ]
  },
  {
   "cell_type": "code",
   "execution_count": 4,
   "metadata": {
    "collapsed": true
   },
   "outputs": [],
   "source": [
    "metadata = wos.read('../data/Baldwin/PlantPhysiology', \n",
    "                    streaming=True, index_fields=['date'], index_features=['authors'])"
   ]
  },
  {
   "cell_type": "markdown",
   "metadata": {},
   "source": [
    "We can see how many records were parsed by taking the ``len()`` of the metadata."
   ]
  },
  {
   "cell_type": "code",
   "execution_count": 5,
   "metadata": {
    "collapsed": false
   },
   "outputs": [
    {
     "data": {
      "text/plain": [
       "7849"
      ]
     },
     "execution_count": 5,
     "metadata": {},
     "output_type": "execute_result"
    }
   ],
   "source": [
    "len(metadata)"
   ]
  },
  {
   "cell_type": "markdown",
   "metadata": {},
   "source": [
    "## Create the graph\n",
    "\n",
    "``Tethne``'s graph-building methods create ``NetworkX`` Graph objects."
   ]
  },
  {
   "cell_type": "code",
   "execution_count": 6,
   "metadata": {
    "collapsed": true
   },
   "outputs": [],
   "source": [
    "from tethne import coauthors"
   ]
  },
  {
   "cell_type": "code",
   "execution_count": 7,
   "metadata": {
    "collapsed": false
   },
   "outputs": [],
   "source": [
    "graph = coauthors(metadata, edge_attrs=['date'])    # Just pass the metadata!"
   ]
  },
  {
   "cell_type": "markdown",
   "metadata": {},
   "source": [
    "We can see how many authors (nodes) and edges are present by using the ``.order()`` and ``.size()`` methods, respectively."
   ]
  },
  {
   "cell_type": "code",
   "execution_count": 8,
   "metadata": {
    "collapsed": false
   },
   "outputs": [
    {
     "data": {
      "text/plain": [
       "(27139, 120180, 982)"
      ]
     },
     "execution_count": 8,
     "metadata": {},
     "output_type": "execute_result"
    }
   ],
   "source": [
    "graph.order(), graph.size(), nx.number_connected_components(graph)"
   ]
  },
  {
   "cell_type": "markdown",
   "metadata": {},
   "source": [
    "YIKES! That's really big. Of course, for analytic purposes this shouldn't scare us. But it would be nice to make a visualization, and that's an awfully large graph to lay out in the time available during the class. So we'll be a bit more choosy. \n",
    "\n",
    "The ``coauthors()`` function accepts a few optional arguments. ``min_weight`` sets the minimum number of papers that two authors must publish together for an edge to be created between them."
   ]
  },
  {
   "cell_type": "code",
   "execution_count": 9,
   "metadata": {
    "collapsed": true
   },
   "outputs": [],
   "source": [
    "graph = coauthors(metadata, min_weight=2., edge_attrs=['date'])"
   ]
  },
  {
   "cell_type": "code",
   "execution_count": 10,
   "metadata": {
    "collapsed": false
   },
   "outputs": [
    {
     "data": {
      "text/plain": [
       "(5607, 9365, 1137)"
      ]
     },
     "execution_count": 10,
     "metadata": {},
     "output_type": "execute_result"
    }
   ],
   "source": [
    "graph.order(), graph.size(), nx.number_connected_components(graph)"
   ]
  },
  {
   "cell_type": "markdown",
   "metadata": {},
   "source": [
    "That has a fairly significant impact on the overall size of the graph."
   ]
  },
  {
   "cell_type": "code",
   "execution_count": 12,
   "metadata": {
    "collapsed": true
   },
   "outputs": [],
   "source": [
    "nx.write_graphml(graph, 'coauthors.graphml')"
   ]
  },
  {
   "cell_type": "markdown",
   "metadata": {},
   "source": [
    "The resulting graph looks something like this:\n",
    "\n",
    "![](images/coauthor_graph.png)\n",
    "\n",
    "There is a large connected component in the upper left, and then a whole host of smaller connected components."
   ]
  },
  {
   "cell_type": "markdown",
   "metadata": {},
   "source": [
    "## Central authors\n",
    "\n",
    "Depending on our research question, we may be interested in identifying the most \"important\" or \"central\" nodes in the coauthor graph. Networkx has a whole bunch of [algorithms](https://networkx.readthedocs.io/en/stable/reference/algorithms.html) that you can use to analyze your graph. Please take a look through the list; there are quite a few useful functions in there!\n",
    "\n",
    "### Degree Centrality\n",
    "\n",
    "Let's evaluate the degree-centrality of the nodes in our network."
   ]
  },
  {
   "cell_type": "code",
   "execution_count": 13,
   "metadata": {
    "collapsed": true
   },
   "outputs": [],
   "source": [
    "degree_data = pd.DataFrame(columns=['Surname', 'Forename', 'Degree'])\n",
    "\n",
    "i = 0\n",
    "for (surname, forename), d in nx.degree(graph).items():\n",
    "    degree_data.loc[i] = [surname, forename, d]\n",
    "    i += 1"
   ]
  },
  {
   "cell_type": "code",
   "execution_count": 14,
   "metadata": {
    "collapsed": false
   },
   "outputs": [
    {
     "data": {
      "image/png": "[encoded data removed]",
      "text/plain": [
       "<matplotlib.figure.Figure at 0x10d2c1950>"
      ]
     },
     "metadata": {},
     "output_type": "display_data"
    }
   ],
   "source": [
    "plt.hist(degree_data.Degree, bins=np.arange(0, 70, 1))\n",
    "plt.ylabel('Number of nodes')\n",
    "plt.xlabel('Degree')\n",
    "plt.show()"
   ]
  },
  {
   "cell_type": "code",
   "execution_count": 15,
   "metadata": {
    "collapsed": false
   },
   "outputs": [
    {
     "name": "stdout",
     "output_type": "stream",
     "text": [
      "Surname         FERNIE\n",
      "Forename    ALISDAIR R\n",
      "Degree              68\n",
      "Name: 2581, dtype: object\n",
      "-------------------------\n",
      "Surname       CANNON\n",
      "Forename    STEVEN B\n",
      "Degree            38\n",
      "Name: 2524, dtype: object\n",
      "-------------------------\n",
      "Surname     DESHPANDE\n",
      "Forename       SHWETA\n",
      "Degree             37\n",
      "Name: 4254, dtype: object\n",
      "-------------------------\n",
      "Surname        CANNON\n",
      "Forename    ETHALINDA\n",
      "Degree             37\n",
      "Name: 1841, dtype: object\n",
      "-------------------------\n",
      "Surname     ASHFIELD\n",
      "Forename         TOM\n",
      "Degree            37\n",
      "Name: 4776, dtype: object\n",
      "-------------------------\n"
     ]
    }
   ],
   "source": [
    "# np.argsort() gives us row indices in ascending order of\n",
    "#  value. [::-1] reverses the array, so that the values are\n",
    "#  descending.\n",
    "sort_indices = np.argsort(degree_data.Degree)[::-1]\n",
    "\n",
    "# Here are the nodes with the highest degree.\n",
    "for i in sort_indices[:5]:    # (just the top 5)\n",
    "    print degree_data.loc[i]\n",
    "    print '-' * 25"
   ]
  },
  {
   "cell_type": "markdown",
   "metadata": {},
   "source": [
    "### Closeness Centrality\n",
    "\n",
    "Now let's try closeness centrality. Recall that:\n",
    "\n",
    "$\n",
    "C(x) = \\frac{1}{\\sum_y d(y, x)}\n",
    "$\n",
    "\n",
    "Where $d(y, x)$ is the distance between the nodes $y$ and $x$. $d(y, x)$ can be any function that calculates a distance value for two nodes. $y$ is all of the other nodes in the network (i.e. that are not $x$) reachable from $x$.\n",
    "\n",
    "By default, NetworkX uses shortest path length as the distance parameter, and normalizes closeness based on the size of the connected component (i.e. the number of possible paths)."
   ]
  },
  {
   "cell_type": "code",
   "execution_count": 16,
   "metadata": {
    "collapsed": true
   },
   "outputs": [],
   "source": [
    "closeness_data = pd.DataFrame(columns=['Surname', 'Forename', 'Closeness'])\n",
    "\n",
    "i = 0\n",
    "for (surname, forename), d in nx.closeness_centrality(graph).items():\n",
    "    closeness_data.loc[i] = [surname, forename, d]\n",
    "    i += 1"
   ]
  },
  {
   "cell_type": "code",
   "execution_count": 17,
   "metadata": {
    "collapsed": false
   },
   "outputs": [
    {
     "data": {
      "image/png": "[encoded data removed]",
      "text/plain": [
       "<matplotlib.figure.Figure at 0x10979e250>"
      ]
     },
     "metadata": {},
     "output_type": "display_data"
    }
   ],
   "source": [
    "plt.hist(closeness_data.Closeness)\n",
    "plt.ylabel('Number of nodes')\n",
    "plt.xlabel('Closeness Centrality')\n",
    "plt.show()"
   ]
  },
  {
   "cell_type": "code",
   "execution_count": 18,
   "metadata": {
    "collapsed": false
   },
   "outputs": [
    {
     "name": "stdout",
     "output_type": "stream",
     "text": [
      "Surname          FERNIE\n",
      "Forename     ALISDAIR R\n",
      "Closeness    0.01672587\n",
      "Name: 2581, dtype: object\n",
      "-------------------------\n",
      "Surname            LUNN\n",
      "Forename         JOHN E\n",
      "Closeness    0.01522558\n",
      "Name: 1207, dtype: object\n",
      "-------------------------\n",
      "Surname      URBANCZYKWOCHNIAK\n",
      "Forename                   EWA\n",
      "Closeness           0.01443648\n",
      "Name: 4451, dtype: object\n",
      "-------------------------\n",
      "Surname      VAN DONGEN\n",
      "Forename        JOOST T\n",
      "Closeness    0.01431285\n",
      "Name: 1410, dtype: object\n",
      "-------------------------\n",
      "Surname           BAUWE\n",
      "Forename        HERMANN\n",
      "Closeness    0.01420988\n",
      "Name: 2, dtype: object\n",
      "-------------------------\n"
     ]
    }
   ],
   "source": [
    "# And we can get the nodes with the highest closeness...\n",
    "sort_indices = np.argsort(closeness_data.Closeness)[::-1]\n",
    "\n",
    "# Here are the nodes with the highest degree.\n",
    "for i in sort_indices[:5]:    # (just the top 5)\n",
    "    print closeness_data.loc[i]\n",
    "    print '-' * 25"
   ]
  },
  {
   "cell_type": "markdown",
   "metadata": {},
   "source": [
    "### Betweenness Centrality\n",
    "\n",
    "Betweenness centrality is often interpreted as a measure of \"power\" in social networks -- the extent to which an individual controls information flow across the graph. Recall:\n",
    "\n",
    "$\n",
    "g(x) = \\sum_{s \\neq x \\neq t} \\frac{\\sigma_{st}(x)}{\\sigma_{st}}\n",
    "$\n",
    "\n",
    "Where $\\sigma_{st}$ is the total number of shortest paths from node $s$ to  node $t$, and $\\sigma_{st}(x)$ is the number of those paths that pass through node $x$.\n",
    "\n",
    "Note that betweenness centrality is fairly computationally expensive, since we have to calculate all of the shortest paths for all of the nodes in the network. So this may take a minute or two."
   ]
  },
  {
   "cell_type": "code",
   "execution_count": 19,
   "metadata": {
    "collapsed": true
   },
   "outputs": [],
   "source": [
    "betweenness_data = pd.DataFrame(columns=['Surname', 'Forename', 'Betweenness'])\n",
    "\n",
    "i = 0\n",
    "for (surname, forename), d in nx.betweenness_centrality(graph).items():\n",
    "    betweenness_data.loc[i] = [surname, forename, d]\n",
    "    i += 1"
   ]
  },
  {
   "cell_type": "code",
   "execution_count": 20,
   "metadata": {
    "collapsed": false
   },
   "outputs": [
    {
     "data": {
      "image/png": "[encoded data removed]",
      "text/plain": [
       "<matplotlib.figure.Figure at 0x10b0b0550>"
      ]
     },
     "metadata": {},
     "output_type": "display_data"
    }
   ],
   "source": [
    "plt.hist(betweenness_data.Betweenness)\n",
    "# It's a pretty lopsided distribution, so a log scale makes it \n",
    "#  easier to see.\n",
    "plt.yscale('log')\n",
    "plt.ylabel('Number of nodes')\n",
    "plt.xlabel('Betweenness Centrality')\n",
    "plt.show()"
   ]
  },
  {
   "cell_type": "markdown",
   "metadata": {},
   "source": [
    "## Change over time\n",
    "\n",
    "We can use Tethne to look at how graphs evolve. To do this, we use the ``slice()`` method. ``slice()`` is an **iterator**, which means that you can iterate over it (e.g. use it in a ``for``-loop). It yields subsets of the metadata, and we can use those build a graph for each time period.\n",
    "\n",
    "By default, it returns a subset for each year."
   ]
  },
  {
   "cell_type": "code",
   "execution_count": 21,
   "metadata": {
    "collapsed": false
   },
   "outputs": [
    {
     "name": "stdout",
     "output_type": "stream",
     "text": [
      "2013\n"
     ]
    }
   ],
   "source": [
    "graphs = []\n",
    "years = []\n",
    "for year, subset in metadata.slice(feature_name='authors'):\n",
    "    graph = coauthors(subset)\n",
    "    graphs.append(graph)\n",
    "    years.append(year)\n",
    "    print '\\r', year,"
   ]
  },
  {
   "cell_type": "code",
   "execution_count": 25,
   "metadata": {
    "collapsed": false
   },
   "outputs": [
    {
     "name": "stdout",
     "output_type": "stream",
     "text": [
      "1999 1641 3674 327\n",
      "2000 1757 4262 312\n",
      "2001 2155 5513 364\n",
      "2002 2201 5717 363\n",
      "2003 2627 8611 359\n",
      "2004 2687 9440 348\n",
      "2005 2639 9365 310\n",
      "2006 2350 7365 357\n",
      "2007 2633 8799 337\n",
      "2008 2749 10045 345\n",
      "2009 2918 11020 336\n",
      "2010 2912 11324 327\n",
      "2011 3154 12549 329\n",
      "2012 2892 11166 319\n",
      "2013 2408 9953 268\n"
     ]
    }
   ],
   "source": [
    "for year, graph in zip(years, graphs):\n",
    "    print year, graph.order(), graph.size(), nx.number_connected_components(graph)"
   ]
  },
  {
   "cell_type": "code",
   "execution_count": 26,
   "metadata": {
    "collapsed": true
   },
   "outputs": [],
   "source": [
    "nx.write_graphml(graphs[0], 'coauthors_1999.graphml')"
   ]
  },
  {
   "cell_type": "markdown",
   "metadata": {},
   "source": [
    "The resulting graph is pretty sparse.\n",
    "\n",
    "![](images/coauthor_graph_subset_0.png)\n",
    "\n",
    "Sometimes it's helpful to use a sliding time-window: select subsets of several years, that overlap. This \"smooths\" things out. We'll try 3 years, since that's a pretty typical funding cycle."
   ]
  },
  {
   "cell_type": "code",
   "execution_count": 27,
   "metadata": {
    "collapsed": false
   },
   "outputs": [
    {
     "name": "stdout",
     "output_type": "stream",
     "text": [
      "2011\n"
     ]
    }
   ],
   "source": [
    "graphs = []\n",
    "years = []\n",
    "for year, subset in metadata.slice(window_size=3, feature_name='authors'):\n",
    "    graph = coauthors(subset)\n",
    "    graphs.append(graph)\n",
    "    years.append(year)\n",
    "    print '\\r', year,"
   ]
  },
  {
   "cell_type": "code",
   "execution_count": 28,
   "metadata": {
    "collapsed": false
   },
   "outputs": [
    {
     "name": "stdout",
     "output_type": "stream",
     "text": [
      "1999 4752 12848 558\n",
      "2000 5206 14856 544\n",
      "2001 5890 18999 507\n",
      "2002 6416 22940 507\n",
      "2003 6752 26548 455\n",
      "2004 6903 25629 619\n",
      "2005 7215 25132 783\n",
      "2006 7033 25595 671\n",
      "2007 7286 29036 553\n",
      "2008 7514 31498 540\n",
      "2009 7852 33935 506\n",
      "2010 7829 34103 474\n",
      "2011 7455 32665 464\n"
     ]
    }
   ],
   "source": [
    "for year, graph in zip(years, graphs):\n",
    "    print year, graph.order(), graph.size(), nx.number_connected_components(graph)"
   ]
  },
  {
   "cell_type": "code",
   "execution_count": 29,
   "metadata": {
    "collapsed": true
   },
   "outputs": [],
   "source": [
    "nx.write_graphml(graphs[0], 'coauthors_1999-2001.graphml')"
   ]
  },
  {
   "cell_type": "markdown",
   "metadata": {},
   "source": [
    "This looks a bit better:\n",
    "\n",
    "![](images/coauthor_subset_threeyear.png)"
   ]
  },
  {
   "cell_type": "markdown",
   "metadata": {},
   "source": [
    "## Following a specific node."
   ]
  },
  {
   "cell_type": "code",
   "execution_count": 141,
   "metadata": {
    "collapsed": false
   },
   "outputs": [],
   "source": [
    "focal_author = ('FERNIE', 'ALISDAIR R')\n",
    "fernie_data = pd.DataFrame(columns=['Year', 'Degree'])\n",
    "i = 0\n",
    "for year, graph in zip(years, graphs):\n",
    "    degree = nx.degree(graph)\n",
    "    # If the focal author is not in the graph for this time-period, then\n",
    "    #  we will assign a closeness of 0.0.\n",
    "    focal_degree = degree.get(focal_author, 0.0)\n",
    "    fernie_data.loc[i] = [year, focal_degree]\n",
    "    i += 1"
   ]
  },
  {
   "cell_type": "code",
   "execution_count": 143,
   "metadata": {
    "collapsed": false
   },
   "outputs": [
    {
     "data": {
      "text/plain": [
       "<matplotlib.text.Text at 0x15f137110>"
      ]
     },
     "execution_count": 143,
     "metadata": {},
     "output_type": "execute_result"
    },
    {
     "data": {
      "image/png": "[encoded data removed]",
      "text/plain": [
       "<matplotlib.figure.Figure at 0x15f52f850>"
      ]
     },
     "metadata": {},
     "output_type": "display_data"
    }
   ],
   "source": [
    "plt.scatter(fernie_data.Year, fernie_data.Degree)\n",
    "plt.ylabel('Degree Centrality')\n",
    "plt.xlabel('Year')"
   ]
  },
  {
   "cell_type": "code",
   "execution_count": 147,
   "metadata": {
    "collapsed": false
   },
   "outputs": [
    {
     "name": "stdout",
     "output_type": "stream",
     "text": [
      "2011\n"
     ]
    }
   ],
   "source": [
    "fernie_closeness = pd.DataFrame(columns=['Year', 'Closeness'])\n",
    "i = 0\n",
    "for year, subset in metadata.slice(window_size=3):\n",
    "    graph = coauthors(subset, min_weight=2.)\n",
    "    \n",
    "    if focal_author in graph.nodes():\n",
    "        focal_closeness = nx.algorithms.closeness_centrality(graph, u=focal_author)\n",
    "    else:\n",
    "        focal_closeness = 0.0\n",
    "\n",
    "    fernie_closeness.loc[i] = [year, focal_closeness]  \n",
    "    print '\\r', year,\n",
    "    \n",
    "    i += 1"
   ]
  },
  {
   "cell_type": "code",
   "execution_count": 150,
   "metadata": {
    "collapsed": false
   },
   "outputs": [
    {
     "data": {
      "image/png": "[encoded data removed]",
      "text/plain": [
       "<matplotlib.figure.Figure at 0x15fa7ec10>"
      ]
     },
     "metadata": {},
     "output_type": "display_data"
    }
   ],
   "source": [
    "plt.scatter(fernie_closeness.Year, fernie_closeness.Closeness)\n",
    "plt.ylabel('Closeness Centrality')\n",
    "plt.xlabel('Year')\n",
    "plt.show()"
   ]
  },
  {
   "cell_type": "markdown",
   "metadata": {},
   "source": [
    "## International collaboration\n",
    "\n",
    "We can use the information in the ``authorAddress`` attribute of each record to look at collaboration between scientists in different countries.\n",
    "\n",
    "Note that the address is a bit \"messy\" -- it was written for human use, not for computers."
   ]
  },
  {
   "cell_type": "code",
   "execution_count": 11,
   "metadata": {
    "collapsed": false
   },
   "outputs": [
    {
     "data": {
      "text/plain": [
       "u'[Berr, Alexandre; McCallum, Emily J.; Alioua, Abdelmalek; Heintz, Dimitri; Heitz, Thierry; Shen, Wen-Hui] Univ Strasbourg, CNRS, Inst Biol Mol Plantes, F-67084 Strasbourg, France.'"
      ]
     },
     "execution_count": 11,
     "metadata": {},
     "output_type": "execute_result"
    }
   ],
   "source": [
    "metadata[5].authorAddress"
   ]
  },
  {
   "cell_type": "code",
   "execution_count": 15,
   "metadata": {
    "collapsed": false
   },
   "outputs": [
    {
     "data": {
      "text/plain": [
       "[u'Arena Pharmaceut, San Diego, CA 92121 USA.',\n",
       " u'Univ Calif San Diego, Div Biol Sci, La Jolla, CA 92093 USA.']"
      ]
     },
     "execution_count": 15,
     "metadata": {},
     "output_type": "execute_result"
    }
   ],
   "source": [
    "metadata[205].authorAddress"
   ]
  },
  {
   "cell_type": "code",
   "execution_count": 42,
   "metadata": {
    "collapsed": false
   },
   "outputs": [
    {
     "data": {
      "text/plain": [
       "7849"
      ]
     },
     "execution_count": 42,
     "metadata": {},
     "output_type": "execute_result"
    }
   ],
   "source": [
    "len(metadata)"
   ]
  },
  {
   "cell_type": "markdown",
   "metadata": {},
   "source": [
    "So we define a procedure to extract the country from each address. Note that the country seems to come at the end, so...\n",
    "* We split on commas and take the last element;\n",
    "* We have to strip the '.' at the end;\n",
    "* Note that USA addresses have state zip and country in the last position;"
   ]
  },
  {
   "cell_type": "code",
   "execution_count": 16,
   "metadata": {
    "collapsed": true
   },
   "outputs": [],
   "source": [
    "def extract_country(address):\n",
    "    country = address.split(',')[-1].strip().replace('.', '')\n",
    "    if country.endswith('USA'):\n",
    "        return u'USA'\n",
    "    return country"
   ]
  },
  {
   "cell_type": "code",
   "execution_count": 18,
   "metadata": {
    "collapsed": false
   },
   "outputs": [
    {
     "name": "stdout",
     "output_type": "stream",
     "text": [
      "Arena Pharmaceut, San Diego, CA 92121 USA.\n",
      "USA\n"
     ]
    }
   ],
   "source": [
    "print metadata[205].authorAddress[0]\n",
    "print extract_country(metadata[205].authorAddress[0])"
   ]
  },
  {
   "cell_type": "markdown",
   "metadata": {},
   "source": [
    "Let's make a graph by hand."
   ]
  },
  {
   "cell_type": "code",
   "execution_count": 19,
   "metadata": {
    "collapsed": true
   },
   "outputs": [],
   "source": [
    "from collections import Counter\n",
    "from itertools import combinations"
   ]
  },
  {
   "cell_type": "code",
   "execution_count": 22,
   "metadata": {
    "collapsed": false
   },
   "outputs": [],
   "source": [
    "node_counts = Counter()\n",
    "edge_counts = Counter()\n",
    "\n",
    "for paper in metadata:\n",
    "    if not hasattr(paper, 'authorAddress'):\n",
    "        continue\n",
    "        \n",
    "    addresses = getattr(paper, 'authorAddress', [])\n",
    "    if not type(addresses) is list:\n",
    "        addresses = [addresses]\n",
    "    \n",
    "    countries = [extract_country(address) for address in addresses]\n",
    "    # Combinations is pretty cool. It will give us all of the\n",
    "    #  possible combinations of countries in this paper.\n",
    "    for u, v in combinations(countries, 2):\n",
    "        edge_key = tuple(sorted([u, v]))\n",
    "        edge_counts[edge_key] += 1.\n",
    "        \n",
    "    for u in set(countries):\n",
    "        node_counts[u] += 1."
   ]
  },
  {
   "cell_type": "code",
   "execution_count": 23,
   "metadata": {
    "collapsed": false
   },
   "outputs": [],
   "source": [
    "international = nx.Graph()\n",
    "for u, count in node_counts.items():\n",
    "    international.add_node(u, weight=count)\n",
    "    \n",
    "for (u, v), count in edge_counts.items():\n",
    "    if count > 1. and u != v:\n",
    "        international.add_edge(u, v, weight=count)"
   ]
  },
  {
   "cell_type": "code",
   "execution_count": 24,
   "metadata": {
    "collapsed": false
   },
   "outputs": [
    {
     "data": {
      "text/plain": [
       "matrix([[ 0.,  6.,  0., ...,  0.,  2.,  6.],\n",
       "        [ 6.,  0.,  0., ...,  0.,  0.,  0.],\n",
       "        [ 0.,  0.,  0., ...,  0.,  2.,  0.],\n",
       "        ..., \n",
       "        [ 0.,  0.,  0., ...,  0.,  0.,  0.],\n",
       "        [ 2.,  0.,  2., ...,  0.,  0.,  0.],\n",
       "        [ 6.,  0.,  0., ...,  0.,  0.,  0.]])"
      ]
     },
     "execution_count": 24,
     "metadata": {},
     "output_type": "execute_result"
    }
   ],
   "source": [
    "nx.adjacency_matrix(international).todense()"
   ]
  },
  {
   "cell_type": "code",
   "execution_count": 25,
   "metadata": {
    "collapsed": false
   },
   "outputs": [
    {
     "data": {
      "text/plain": [
       "<matplotlib.image.AxesImage at 0x10dd49a10>"
      ]
     },
     "execution_count": 25,
     "metadata": {},
     "output_type": "execute_result"
    },
    {
     "data": {
      "image/png": "[encoded data removed]",
      "text/plain": [
       "<matplotlib.figure.Figure at 0x10c956e10>"
      ]
     },
     "metadata": {},
     "output_type": "display_data"
    }
   ],
   "source": [
    "plt.imshow(nx.adjacency_matrix(international).todense(), \n",
    "           interpolation='none')"
   ]
  },
  {
   "cell_type": "code",
   "execution_count": 27,
   "metadata": {
    "collapsed": false
   },
   "outputs": [
    {
     "name": "stdout",
     "output_type": "stream",
     "text": [
      "73 419 6\n"
     ]
    }
   ],
   "source": [
    "print international.order(), \\\n",
    "      international.size(), \\\n",
    "       nx.number_connected_components(international)"
   ]
  },
  {
   "cell_type": "code",
   "execution_count": 28,
   "metadata": {
    "collapsed": false
   },
   "outputs": [],
   "source": [
    "nx.write_graphml(international, 'international.graphml')"
   ]
  },
  {
   "cell_type": "markdown",
   "metadata": {},
   "source": [
    "![](images/international.png)"
   ]
  },
  {
   "cell_type": "code",
   "execution_count": 41,
   "metadata": {
    "collapsed": true
   },
   "outputs": [],
   "source": [
    "def international_collaboration(subset):\n",
    "    node_counts = Counter()\n",
    "    edge_counts = Counter()\n",
    "\n",
    "    for paper in subset:\n",
    "        if not hasattr(paper, 'authorAddress'):\n",
    "            continue\n",
    "\n",
    "        addresses = getattr(paper, 'authorAddress', [])\n",
    "        if not type(addresses) is list:\n",
    "            addresses = [addresses]\n",
    "\n",
    "        countries = [extract_country(address) for address in addresses]\n",
    "        # Combinations is pretty cool. It will give us all of the\n",
    "        #  possible combinations of countries in this paper.\n",
    "        for u, v in combinations(countries, 2):\n",
    "            edge_key = tuple(sorted([u, v]))\n",
    "            edge_counts[edge_key] += 1.\n",
    "\n",
    "        for u in set(countries):\n",
    "            node_counts[u] += 1.\n",
    "            \n",
    "    graph = nx.Graph()\n",
    "    for u, count in node_counts.items():\n",
    "        graph.add_node(u, weight=count)\n",
    "\n",
    "    for (u, v), count in edge_counts.items():\n",
    "        if count > 1.:\n",
    "            graph.add_edge(u, v, weight=count)\n",
    "    \n",
    "    return graph"
   ]
  },
  {
   "cell_type": "code",
   "execution_count": 42,
   "metadata": {
    "collapsed": false
   },
   "outputs": [
    {
     "name": "stdout",
     "output_type": "stream",
     "text": [
      "2011 57 285\n"
     ]
    }
   ],
   "source": [
    "years = []\n",
    "graphs = []\n",
    "for year, subset in metadata.slice(window_size=3):\n",
    "    graph = international_collaboration(subset)\n",
    "    graphs.append(graph)\n",
    "    years.append(year)\n",
    "    print year, graph.order(), graph.size(),"
   ]
  },
  {
   "cell_type": "markdown",
   "metadata": {},
   "source": [
    "## With whom does the Netherlands collaborate?"
   ]
  },
  {
   "cell_type": "code",
   "execution_count": 43,
   "metadata": {
    "collapsed": false
   },
   "outputs": [],
   "source": [
    "netherlands_data = pd.DataFrame(columns=['Year', 'Neighbor', 'Collaboration'])"
   ]
  },
  {
   "cell_type": "code",
   "execution_count": 44,
   "metadata": {
    "collapsed": false
   },
   "outputs": [
    {
     "name": "stdout",
     "output_type": "stream",
     "text": [
      "2011\n"
     ]
    }
   ],
   "source": [
    "i = 0\n",
    "for year, graph in zip(years, graphs):\n",
    "    if 'Netherlands' not in graph.nodes():\n",
    "        continue\n",
    "        \n",
    "    counts = Counter()\n",
    "    for neighbor in graph.neighbors('Netherlands'):\n",
    "        counts[neighbor] += graph['Netherlands'][neighbor]['weight']\n",
    "    \n",
    "    N_all = sum(counts.values())\n",
    "    for neighbor, count in counts.items():\n",
    "        netherlands_data.loc[i] = [year, neighbor, count/N_all]\n",
    "        i += 1\n",
    "        \n",
    "    print '\\r', year,"
   ]
  },
  {
   "cell_type": "code",
   "execution_count": 45,
   "metadata": {
    "collapsed": false
   },
   "outputs": [],
   "source": [
    "grouped = netherlands_data.groupby('Neighbor')"
   ]
  },
  {
   "cell_type": "code",
   "execution_count": 46,
   "metadata": {
    "collapsed": false
   },
   "outputs": [],
   "source": [
    "collaboration_means = grouped.Collaboration.mean()\n",
    "collaboration_std = grouped.Collaboration.std()"
   ]
  },
  {
   "cell_type": "code",
   "execution_count": 47,
   "metadata": {
    "collapsed": false
   },
   "outputs": [
    {
     "data": {
      "text/plain": [
       "Neighbor          \n",
       "Argentina    count     2.000000\n",
       "             mean      0.011870\n",
       "             std       0.000531\n",
       "             min       0.011494\n",
       "             25%       0.011682\n",
       "             50%       0.011870\n",
       "             75%       0.012057\n",
       "             max       0.012245\n",
       "Australia    count    10.000000\n",
       "             mean      0.034122\n",
       "             std       0.033650\n",
       "             min       0.009217\n",
       "             25%       0.015401\n",
       "             50%       0.016228\n",
       "             75%       0.043264\n",
       "             max       0.095745\n",
       "Belgium      count    13.000000\n",
       "             mean      0.081166\n",
       "             std       0.038387\n",
       "             min       0.016260\n",
       "             25%       0.050000\n",
       "             50%       0.085714\n",
       "             75%       0.107280\n",
       "             max       0.145833\n",
       "Brazil       count     3.000000\n",
       "             mean      0.010831\n",
       "             std       0.005060\n",
       "             min       0.007663\n",
       "             25%       0.007913\n",
       "             50%       0.008163\n",
       "                        ...    \n",
       "Spain        std       0.018407\n",
       "             min       0.012245\n",
       "             25%       0.030303\n",
       "             50%       0.040650\n",
       "             75%       0.046875\n",
       "             max       0.083333\n",
       "Sweden       count     5.000000\n",
       "             mean      0.031102\n",
       "             std       0.010935\n",
       "             min       0.016807\n",
       "             25%       0.023438\n",
       "             50%       0.032520\n",
       "             75%       0.040323\n",
       "             max       0.042424\n",
       "Switzerland  count     9.000000\n",
       "             mean      0.021721\n",
       "             std       0.012111\n",
       "             min       0.007663\n",
       "             25%       0.013825\n",
       "             50%       0.020408\n",
       "             75%       0.025000\n",
       "             max       0.040650\n",
       "USA          count    13.000000\n",
       "             mean      0.109436\n",
       "             std       0.043192\n",
       "             min       0.064516\n",
       "             25%       0.085106\n",
       "             50%       0.092166\n",
       "             75%       0.108333\n",
       "             max       0.210084\n",
       "dtype: float64"
      ]
     },
     "execution_count": 47,
     "metadata": {},
     "output_type": "execute_result"
    }
   ],
   "source": [
    "grouped.Collaboration.describe()"
   ]
  },
  {
   "cell_type": "code",
   "execution_count": 48,
   "metadata": {
    "collapsed": false
   },
   "outputs": [
    {
     "data": {
      "image/png": "[encoded data removed]",
      "text/plain": [
       "<matplotlib.figure.Figure at 0x10b894f10>"
      ]
     },
     "metadata": {},
     "output_type": "display_data"
    }
   ],
   "source": [
    "positions = np.arange(len(collaboration_means))\n",
    "plt.bar(positions, collaboration_means.values, yerr=collaboration_std, alpha=0.5)\n",
    "plt.xticks(positions + 0.4, collaboration_means.keys(), rotation=90)\n",
    "plt.ylabel('Proportion of collaborations (with standard error)')\n",
    "plt.show()"
   ]
  },
  {
   "cell_type": "markdown",
   "metadata": {},
   "source": [
    "## Has collaboration between Netherlands and specific neighbors changed over time?"
   ]
  },
  {
   "cell_type": "code",
   "execution_count": 49,
   "metadata": {
    "collapsed": false
   },
   "outputs": [
    {
     "data": {
      "image/png": "[encoded data removed]",
      "text/plain": [
       "<matplotlib.figure.Figure at 0x112536d90>"
      ]
     },
     "metadata": {},
     "output_type": "display_data"
    }
   ],
   "source": [
    "collaboration_england = netherlands_data[netherlands_data.Neighbor == 'England']\n",
    "plt.scatter(collaboration_england.Year, collaboration_england.Collaboration)\n",
    "plt.show()"
   ]
  },
  {
   "cell_type": "code",
   "execution_count": 50,
   "metadata": {
    "collapsed": false
   },
   "outputs": [
    {
     "data": {
      "image/png": "[encoded data removed]",
      "text/plain": [
       "<matplotlib.figure.Figure at 0x10a0d3690>"
      ]
     },
     "metadata": {},
     "output_type": "display_data"
    }
   ],
   "source": [
    "collaboration_usa = netherlands_data[netherlands_data.Neighbor == 'USA']\n",
    "plt.scatter(collaboration_usa.Year, collaboration_usa.Collaboration)\n",
    "plt.show()"
   ]
  },
  {
   "cell_type": "markdown",
   "metadata": {},
   "source": [
    "### How about with itself? I.e. is Netherlands becoming more or less externally collaborative over time?"
   ]
  },
  {
   "cell_type": "code",
   "execution_count": 51,
   "metadata": {
    "collapsed": false
   },
   "outputs": [
    {
     "data": {
      "image/png": "[encoded data removed]",
      "text/plain": [
       "<matplotlib.figure.Figure at 0x1094bdcd0>"
      ]
     },
     "metadata": {},
     "output_type": "display_data"
    }
   ],
   "source": [
    "collaboration_self = netherlands_data[netherlands_data.Neighbor == 'Netherlands']\n",
    "plt.scatter(collaboration_self.Year, collaboration_self.Collaboration)\n",
    "plt.show()"
   ]
  },
  {
   "cell_type": "markdown",
   "metadata": {},
   "source": [
    "## How central is the Netherlands in terms of international collaboration?"
   ]
  },
  {
   "cell_type": "code",
   "execution_count": 52,
   "metadata": {
    "collapsed": false
   },
   "outputs": [],
   "source": [
    "netherlands_centrality = pd.DataFrame(columns=['Year', 'Centrality'])\n",
    "i = 0\n",
    "for year, graph in zip(years, graphs):\n",
    "    if 'Netherlands' not in graph.nodes():\n",
    "        continue\n",
    "    centrality = nx.closeness_centrality(graph, u='Netherlands')\n",
    "    netherlands_centrality.loc[i] = [year, centrality]\n",
    "    i += 1"
   ]
  },
  {
   "cell_type": "code",
   "execution_count": 53,
   "metadata": {
    "collapsed": false
   },
   "outputs": [
    {
     "data": {
      "text/plain": [
       "<matplotlib.collections.PathCollection at 0x108ecb410>"
      ]
     },
     "execution_count": 53,
     "metadata": {},
     "output_type": "execute_result"
    },
    {
     "data": {
      "image/png": "[encoded data removed]",
      "text/plain": [
       "<matplotlib.figure.Figure at 0x10bc23550>"
      ]
     },
     "metadata": {},
     "output_type": "display_data"
    }
   ],
   "source": [
    "plt.scatter(netherlands_centrality.Year, netherlands_centrality.Centrality)"
   ]
  },
  {
   "cell_type": "markdown",
   "metadata": {},
   "source": [
    "------- ---------- -----------"
   ]
  },
  {
   "cell_type": "markdown",
   "metadata": {
    "collapsed": true
   },
   "source": [
    "# Below: to be completed\n",
    "\n",
    "### Connectivity over time\n",
    "\n",
    "Ok, we have a graph for each time-period. Let's look at some whole-graph parameters. How about average clustering.\n",
    "\n",
    "$$\n",
    "C = \\frac{1}{n} \\sum_{v \\in G} c_v\n",
    "$$\n",
    "\n",
    "and\n",
    "\n",
    "$$\n",
    "c_u = \\frac{2 T}{deg(u)(deg(u) - 1)}\n",
    "$$\n",
    "\n",
    "where $T(u)$ is the number of triangles through node $u$, and $deg(u)$ is the degree of $u$."
   ]
  },
  {
   "cell_type": "code",
   "execution_count": null,
   "metadata": {
    "collapsed": true
   },
   "outputs": [],
   "source": [
    "clustering_data = pd.DataFrame(columns=['Year', 'Clustering'])\n",
    "\n",
    "i = 0\n",
    "# zip() zips two lists together into a list of 2-tuples.\n",
    "for year, graph in zip(years, graphs):\n",
    "    clustering_data.loc[i] = [year, nx.algorithms.average_clustering(graph)]\n",
    "    i += 1\n",
    "    \n",
    "plt.scatter(clustering_data.Year, clustering_data.Clustering)\n",
    "plt.ylabel('Average Clustering Coefficient')\n",
    "plt.xlabel('Year')\n",
    "plt.show()"
   ]
  },
  {
   "cell_type": "markdown",
   "metadata": {},
   "source": [
    "I wonder if that upward trend has anything to do with the overall number of authors or number of papers in each time period."
   ]
  },
  {
   "cell_type": "code",
   "execution_count": null,
   "metadata": {
    "collapsed": true
   },
   "outputs": [],
   "source": [
    "authorship_data = pd.DataFrame(columns=['Year', 'AverageNumAuthors', 'NumPapers'])\n",
    "i = 0\n",
    "for year, subset in metadata.slice(window_size=3):\n",
    "    avg_no_authors = np.mean([len(paper.authors) for paper in subset])\n",
    "    authorship_data.loc[i] = [year, avg_no_authors, len(subset)]\n",
    "    i += 1"
   ]
  },
  {
   "cell_type": "code",
   "execution_count": 33,
   "metadata": {
    "collapsed": false
   },
   "outputs": [
    {
     "ename": "NameError",
     "evalue": "name 'authorship_data' is not defined",
     "output_type": "error",
     "traceback": [
      "\u001b[0;31m---------------------------------------------------------------------------\u001b[0m",
      "\u001b[0;31mNameError\u001b[0m                                 Traceback (most recent call last)",
      "\u001b[0;32m<ipython-input-33-c280215726f2>\u001b[0m in \u001b[0;36m<module>\u001b[0;34m()\u001b[0m\n\u001b[0;32m----> 1\u001b[0;31m \u001b[0mplt\u001b[0m\u001b[0;34m.\u001b[0m\u001b[0mscatter\u001b[0m\u001b[0;34m(\u001b[0m\u001b[0mauthorship_data\u001b[0m\u001b[0;34m.\u001b[0m\u001b[0mYear\u001b[0m\u001b[0;34m,\u001b[0m \u001b[0mauthorship_data\u001b[0m\u001b[0;34m.\u001b[0m\u001b[0mAverageNumAuthors\u001b[0m\u001b[0;34m,\u001b[0m \u001b[0mc\u001b[0m\u001b[0;34m=\u001b[0m\u001b[0;34m'green'\u001b[0m\u001b[0;34m)\u001b[0m\u001b[0;34m\u001b[0m\u001b[0m\n\u001b[0m\u001b[1;32m      2\u001b[0m \u001b[0mplt\u001b[0m\u001b[0;34m.\u001b[0m\u001b[0mlegend\u001b[0m\u001b[0;34m(\u001b[0m\u001b[0mloc\u001b[0m\u001b[0;34m=\u001b[0m\u001b[0;36m4\u001b[0m\u001b[0;34m)\u001b[0m\u001b[0;34m\u001b[0m\u001b[0m\n\u001b[1;32m      3\u001b[0m \u001b[0mplt\u001b[0m\u001b[0;34m.\u001b[0m\u001b[0mylabel\u001b[0m\u001b[0;34m(\u001b[0m\u001b[0;34m'Average Number of Authors (green)'\u001b[0m\u001b[0;34m)\u001b[0m\u001b[0;34m\u001b[0m\u001b[0m\n\u001b[1;32m      4\u001b[0m \u001b[0max\u001b[0m \u001b[0;34m=\u001b[0m \u001b[0mplt\u001b[0m\u001b[0;34m.\u001b[0m\u001b[0mgca\u001b[0m\u001b[0;34m(\u001b[0m\u001b[0;34m)\u001b[0m\u001b[0;34m\u001b[0m\u001b[0m\n\u001b[1;32m      5\u001b[0m \u001b[0max2\u001b[0m \u001b[0;34m=\u001b[0m \u001b[0mplt\u001b[0m\u001b[0;34m.\u001b[0m\u001b[0mtwinx\u001b[0m\u001b[0;34m(\u001b[0m\u001b[0;34m)\u001b[0m\u001b[0;34m\u001b[0m\u001b[0m\n",
      "\u001b[0;31mNameError\u001b[0m: name 'authorship_data' is not defined"
     ]
    }
   ],
   "source": [
    "plt.scatter(authorship_data.Year, authorship_data.AverageNumAuthors, c='green')\n",
    "plt.legend(loc=4)\n",
    "plt.ylabel('Average Number of Authors (green)')\n",
    "ax = plt.gca()\n",
    "ax2 = plt.twinx()\n",
    "\n",
    "ax2.scatter(authorship_data.Year, authorship_data.NumPapers)\n",
    "plt.ylabel('Number of Papers (blue)')\n",
    "\n",
    "plt.xlabel('Year')\n",
    "plt.legend(loc='best')\n",
    "plt.show()"
   ]
  },
  {
   "cell_type": "markdown",
   "metadata": {},
   "source": [
    "That's an interesting pattern -- the average number of authors in each period steadily increases, while the number of papers decreases. That certainly might explain the additional clustering! Let's combine these two values, so that we'll have \n",
    "\n",
    "$\n",
    "\\frac{N_{Authors}}{N_{Papers}} * \\frac{1}{N_{Papers}} = \\frac{N_{Authors}}{N_{Papers}^2}\n",
    "$\n",
    "\n",
    "And compare that to the average clustering coefficient.\n"
   ]
  },
  {
   "cell_type": "code",
   "execution_count": null,
   "metadata": {
    "collapsed": true
   },
   "outputs": [],
   "source": [
    "plt.scatter(authorship_data.AverageNumAuthors/authorship_data.NumPapers,\n",
    "            clustering_data.Clustering)\n",
    "xlim(0.002, 0.006)\n",
    "plt.xlabel('$\\\\frac{N_{Authors}}{N_{Papers}^2}$', size=24)\n",
    "plt.ylabel('Average Clustering Coefficient')\n",
    "plt.show()"
   ]
  },
  {
   "cell_type": "code",
   "execution_count": null,
   "metadata": {
    "collapsed": true
   },
   "outputs": [],
   "source": [
    "from scipy.stats import linregress\n",
    "authorship = authorship_data.AverageNumAuthors/authorship_data.NumPapers\n",
    "Beta, Beta0, r, p, stderr = linregress(authorship, clustering_data.Clustering)\n",
    "\n",
    "plt.scatter(authorship_data.AverageNumAuthors/authorship_data.NumPapers,\n",
    "            clustering_data.Clustering)\n",
    "\n",
    "X = np.arange(authorship.min(), authorship.max(), 0.0001)\n",
    "plt.plot(X, Beta0 + Beta*X)\n",
    "xlim(0.002, 0.006)\n",
    "plt.xlabel('$\\\\frac{N_{Authors}}{N_{Papers}^2}$', size=24)\n",
    "plt.ylabel('Average Clustering Coefficient')\n",
    "plt.show()\n",
    "\n",
    "Y_hat = Beta0 + Beta*authorship\n",
    "residuals = clustering_data.Clustering - Y_hat\n",
    "plt.scatter(clustering_data.Year, residuals)"
   ]
  }
 ],
 "metadata": {
  "kernelspec": {
   "display_name": "Python 2",
   "language": "python",
   "name": "python2"
  },
  "language_info": {
   "codemirror_mode": {
    "name": "ipython",
    "version": 2
   },
   "file_extension": ".py",
   "mimetype": "text/x-python",
   "name": "python",
   "nbconvert_exporter": "python",
   "pygments_lexer": "ipython2",
   "version": "2.7.9"
  }
 },
 "nbformat": 4,
 "nbformat_minor": 0
}

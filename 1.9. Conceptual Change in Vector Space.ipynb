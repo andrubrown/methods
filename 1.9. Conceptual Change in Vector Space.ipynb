{
 "cells": [
  {
   "cell_type": "code",
   "execution_count": 1,
   "metadata": {
    "collapsed": false
   },
   "outputs": [
    {
     "name": "stdout",
     "output_type": "stream",
     "text": [
      "Populating the interactive namespace from numpy and matplotlib\n"
     ]
    }
   ],
   "source": [
    "%pylab inline"
   ]
  },
  {
   "cell_type": "code",
   "execution_count": 2,
   "metadata": {
    "collapsed": true
   },
   "outputs": [],
   "source": [
    "import nltk\n",
    "from tethne.readers import zotero\n",
    "import matplotlib.pyplot as plt\n",
    "from helpers import normalize_token, filter_token"
   ]
  },
  {
   "cell_type": "code",
   "execution_count": 36,
   "metadata": {
    "collapsed": true
   },
   "outputs": [],
   "source": [
    "from sklearn.linear_model import LinearRegression\n",
    "from scipy.spatial import distance"
   ]
  },
  {
   "cell_type": "code",
   "execution_count": 212,
   "metadata": {
    "collapsed": true
   },
   "outputs": [],
   "source": [
    "import gensim\n",
    "from itertools import groupby, islice"
   ]
  },
  {
   "cell_type": "code",
   "execution_count": 3,
   "metadata": {
    "collapsed": true
   },
   "outputs": [],
   "source": [
    "text_root = '/Users/erickpeirson/EmbryoProjectTexts/files'\n",
    "zotero_export_path = '/Users/erickpeirson/EmbryoProjectTexts'\n",
    "\n",
    "corpus = nltk.corpus.PlaintextCorpusReader(text_root, 'https.+')\n",
    "metadata = zotero.read(zotero_export_path, index_by='link', follow_links=False)"
   ]
  },
  {
   "cell_type": "markdown",
   "metadata": {},
   "source": [
    "# Conceptual Change in Vector Space"
   ]
  },
  {
   "cell_type": "markdown",
   "metadata": {},
   "source": [
    "https://radimrehurek.com/gensim/models/word2vec.html#id4\n",
    "http://arxiv.org/pdf/1301.3781.pdf\n",
    "https://papers.nips.cc/paper/5021-distributed-representations-of-words-and-phrases-and-their-compositionality.pdf"
   ]
  },
  {
   "cell_type": "code",
   "execution_count": 5,
   "metadata": {
    "collapsed": false
   },
   "outputs": [],
   "source": [
    "documents = [(metadata[fileid].date, \n",
    "              [normalize_token(token)\n",
    "               for token in sentence\n",
    "               if filter_token(token)])\n",
    "             for fileid in corpus.fileids()\n",
    "             for sentence in corpus.sents(fileids=[fileid])]"
   ]
  },
  {
   "cell_type": "code",
   "execution_count": 6,
   "metadata": {
    "collapsed": false
   },
   "outputs": [],
   "source": [
    "datekey = lambda doc: doc[0]\n",
    "documents_sorted = [(year, [doc[1] for doc in document_group]) \n",
    "                    for year, document_group \n",
    "                    in groupby(sorted(documents, key=datekey), datekey)]"
   ]
  },
  {
   "cell_type": "code",
   "execution_count": 7,
   "metadata": {
    "collapsed": true
   },
   "outputs": [],
   "source": [
    "dictionary = gensim.corpora.Dictionary([document for year, chunk \n",
    "                                        in documents_sorted \n",
    "                                        for document in chunk])"
   ]
  },
  {
   "cell_type": "code",
   "execution_count": 8,
   "metadata": {
    "collapsed": false
   },
   "outputs": [],
   "source": [
    "tfidf = gensim.models.TfidfModel([dictionary.doc2bow(document) \n",
    "                                  for year, chunk \n",
    "                                  in documents_sorted \n",
    "                                  for document in chunk], dictionary)"
   ]
  },
  {
   "cell_type": "code",
   "execution_count": 193,
   "metadata": {
    "collapsed": true
   },
   "outputs": [],
   "source": [
    "k = 100\n",
    "m = 100"
   ]
  },
  {
   "cell_type": "code",
   "execution_count": 131,
   "metadata": {
    "collapsed": true
   },
   "outputs": [],
   "source": [
    "def tag_token(token, year, match):\n",
    "    if match(token):\n",
    "        return '%s_%i' % (token, year)\n",
    "    return token"
   ]
  },
  {
   "cell_type": "code",
   "execution_count": 207,
   "metadata": {
    "collapsed": false
   },
   "outputs": [],
   "source": [
    "model = gensim.models.Word2Vec([[tag_token(token, year, lambda t: t == 'develop') \n",
    "                                 for token in doc]\n",
    "                                for year, chunk in documents_sorted\n",
    "                                for doc in chunk], size=k, window=10)"
   ]
  },
  {
   "cell_type": "code",
   "execution_count": 208,
   "metadata": {
    "collapsed": false
   },
   "outputs": [],
   "source": [
    "displacement = []\n",
    "for i, chunk in enumerate(documents_sorted):\n",
    "    if i + 1 >= len(documents_sorted):\n",
    "        break\n",
    "    year, _ = chunk\n",
    "    token = '%s_%i' % ('develop', year)\n",
    "#         continue\n",
    "\n",
    "    next_year, _ = documents_sorted[i+1]\n",
    "    next_token = '%s_%i' % ('develop', next_year)\n",
    "    try:\n",
    "        displacement.append(model.similarity(token, next_token))\n",
    "    except KeyError:\n",
    "        pass"
   ]
  },
  {
   "cell_type": "code",
   "execution_count": 209,
   "metadata": {
    "collapsed": false
   },
   "outputs": [
    {
     "data": {
      "text/plain": [
       "(0, 1.1)"
      ]
     },
     "execution_count": 209,
     "metadata": {},
     "output_type": "execute_result"
    },
    {
     "data": {
      "image/png": "[encoded data removed]",
      "text/plain": [
       "<matplotlib.figure.Figure at 0x11bcaf6d0>"
      ]
     },
     "metadata": {},
     "output_type": "display_data"
    }
   ],
   "source": [
    "plt.plot(displacement)\n",
    "plt.ylim(0, 1.1)"
   ]
  },
  {
   "cell_type": "code",
   "execution_count": 234,
   "metadata": {
    "collapsed": false
   },
   "outputs": [],
   "source": [
    "similarity = []\n",
    "for model in models:\n",
    "    try:\n",
    "        similarity.append(model.similarity('embryo', 'egg'))\n",
    "    except KeyError:\n",
    "        pass"
   ]
  },
  {
   "cell_type": "code",
   "execution_count": 235,
   "metadata": {
    "collapsed": false
   },
   "outputs": [
    {
     "data": {
      "text/plain": [
       "[<matplotlib.lines.Line2D at 0x11ecca050>]"
      ]
     },
     "execution_count": 235,
     "metadata": {},
     "output_type": "execute_result"
    },
    {
     "data": {
      "image/png": "[encoded data removed]",
      "text/plain": [
       "<matplotlib.figure.Figure at 0x11e477110>"
      ]
     },
     "metadata": {},
     "output_type": "display_data"
    }
   ],
   "source": [
    "plt.plot(similarity)"
   ]
  },
  {
   "cell_type": "code",
   "execution_count": 87,
   "metadata": {
    "collapsed": false
   },
   "outputs": [
    {
     "name": "stdout",
     "output_type": "stream",
     "text": [
      "2016\n"
     ]
    }
   ],
   "source": [
    "models = []\n",
    "model_corpora = []\n",
    "for year, document_subset in documents_sorted:\n",
    "#     vector_corpus = [dictionary.doc2bow(doc) for doc in document_subset]\n",
    "#     tfidf_corpus = [tfidf[doc] for doc in vector_corpus]\n",
    "    model = gensim.models.Word2Vec(document_subset, k)\n",
    "#     lsa_corpus = lsa[tfidf_corpus]\n",
    "    models.append(model)\n",
    "#     model_corpora.append(lsa_corpus)\n",
    "    print '\\r', year,"
   ]
  },
  {
   "cell_type": "code",
   "execution_count": 35,
   "metadata": {
    "collapsed": false
   },
   "outputs": [],
   "source": [
    "from scipy import stats\n",
    "import numpy as np"
   ]
  },
  {
   "cell_type": "code",
   "execution_count": 211,
   "metadata": {
    "collapsed": false
   },
   "outputs": [
    {
     "data": {
      "text/plain": [
       "[<gensim.models.word2vec.Word2Vec at 0x1184d1a50>,\n",
       " <gensim.models.word2vec.Word2Vec at 0x116dee4d0>,\n",
       " <gensim.models.word2vec.Word2Vec at 0x11d97d350>,\n",
       " <gensim.models.word2vec.Word2Vec at 0x118693bd0>,\n",
       " <gensim.models.word2vec.Word2Vec at 0x11787ff90>,\n",
       " <gensim.models.word2vec.Word2Vec at 0x116381fd0>,\n",
       " <gensim.models.word2vec.Word2Vec at 0x116f5cf90>,\n",
       " <gensim.models.word2vec.Word2Vec at 0x1172eff50>,\n",
       " <gensim.models.word2vec.Word2Vec at 0x1163d9bd0>,\n",
       " <gensim.models.word2vec.Word2Vec at 0x11646c8d0>]"
      ]
     },
     "execution_count": 211,
     "metadata": {},
     "output_type": "execute_result"
    }
   ],
   "source": [
    "models"
   ]
  },
  {
   "cell_type": "code",
   "execution_count": 120,
   "metadata": {
    "collapsed": false
   },
   "outputs": [
    {
     "name": "stdout",
     "output_type": "stream",
     "text": [
      "8\n"
     ]
    }
   ],
   "source": [
    "transformations = []\n",
    "for n, next_model in enumerate(models):\n",
    "    if n+1 >= len(models):\n",
    "        break\n",
    "    shared_vocab = list(set(reference_model.vocab.keys()) & set(next_model.vocab.keys()))\n",
    "    W = len(shared_vocab)\n",
    "    sampled_words = list(set([shared_vocab[i] for i in np.random.randint(0, W, min(W, m))]))\n",
    "    \n",
    "    samples = reference_model.syn0[[reference_model.vocab[s].index for s in sampled_words], :]\n",
    "\n",
    "    coefficient = np.zeros((k, k))\n",
    "    intercept = np.zeros((k, k))\n",
    "    for i in xrange(k):\n",
    "        response_samples = next_model.syn0[[next_model.vocab[s].index for s in sampled_words], i]\n",
    "        linearModel = LinearRegression(fit_intercept=False)\n",
    "        linearModel.fit(samples, response_samples)\n",
    "        coefficient[i, :] = linearModel.coef_ \n",
    "        intercept[i, :] = linearModel.intercept_\n",
    "        \n",
    "    transformations.append((coefficient, intercept))\n",
    "    print '\\r', n,"
   ]
  },
  {
   "cell_type": "code",
   "execution_count": 115,
   "metadata": {
    "collapsed": false
   },
   "outputs": [
    {
     "data": {
      "text/plain": [
       "LinearRegression(copy_X=True, fit_intercept=True, normalize=False)"
      ]
     },
     "execution_count": 115,
     "metadata": {},
     "output_type": "execute_result"
    }
   ],
   "source": [
    "linearModel = LinearRegression()\n",
    "linearModel.fit(samples, response_samples)"
   ]
  },
  {
   "cell_type": "code",
   "execution_count": 118,
   "metadata": {
    "collapsed": false
   },
   "outputs": [
    {
     "data": {
      "text/plain": [
       "0.0055983161829787839"
      ]
     },
     "execution_count": 118,
     "metadata": {},
     "output_type": "execute_result"
    }
   ],
   "source": [
    "linearModel.intercept_"
   ]
  },
  {
   "cell_type": "code",
   "execution_count": 98,
   "metadata": {
    "collapsed": false
   },
   "outputs": [
    {
     "data": {
      "text/plain": [
       "(133,)"
      ]
     },
     "execution_count": 98,
     "metadata": {},
     "output_type": "execute_result"
    }
   ],
   "source": [
    "model.syn0.sum(axis=1).shape"
   ]
  },
  {
   "cell_type": "code",
   "execution_count": 129,
   "metadata": {
    "collapsed": false
   },
   "outputs": [],
   "source": [
    "displacement = []\n",
    "for n, transformation in enumerate(transformations):\n",
    "    coefficient, intercept = transformation\n",
    "    next_model = models[n+1]\n",
    "    \n",
    "    try:\n",
    "        idx = reference_model.vocab['ivf'].index\n",
    "        next_idx = next_model.vocab['ivf'].index\n",
    "    except KeyError:\n",
    "        displacement.append(0.)\n",
    "        continue\n",
    "    \n",
    "    vect = reference_model.syn0[idx, :]\n",
    "    next_vect = next_model.syn0[next_idx, :]\n",
    "    \n",
    "    proj_vect = np.zeros(k)\n",
    "    for i in xrange(k):\n",
    "        proj_vect[i] = (coefficient[i, :] * vect[i] + intercept[i, :]).sum()\n",
    "\n",
    "    d = distance.cosine(proj_vect, next_vect)\n",
    "    if np.isnan(d):    # Not in one of the models.\n",
    "        d = 0.0\n",
    "    displacement.append(d)"
   ]
  },
  {
   "cell_type": "code",
   "execution_count": 130,
   "metadata": {
    "collapsed": false
   },
   "outputs": [
    {
     "data": {
      "text/plain": [
       "[<matplotlib.lines.Line2D at 0x11b0d38d0>]"
      ]
     },
     "execution_count": 130,
     "metadata": {},
     "output_type": "execute_result"
    },
    {
     "data": {
      "image/png": "[encoded data removed]",
      "text/plain": [
       "<matplotlib.figure.Figure at 0x11ae39ad0>"
      ]
     },
     "metadata": {},
     "output_type": "display_data"
    }
   ],
   "source": [
    "plt.plot(displacement)"
   ]
  },
  {
   "cell_type": "code",
   "execution_count": 110,
   "metadata": {
    "collapsed": false
   },
   "outputs": [
    {
     "data": {
      "text/plain": [
       "(-0.26332006425929821, 0.41092636001220328, 0.40719795264322201)"
      ]
     },
     "execution_count": 110,
     "metadata": {},
     "output_type": "execute_result"
    }
   ],
   "source": [
    "models[0].similarity('embryo', 'egg'), models[1].similarity('embryo', 'egg'), models[2].similarity('embryo', 'egg')"
   ]
  },
  {
   "cell_type": "code",
   "execution_count": 210,
   "metadata": {
    "collapsed": false
   },
   "outputs": [],
   "source": []
  },
  {
   "cell_type": "code",
   "execution_count": 211,
   "metadata": {
    "collapsed": false
   },
   "outputs": [],
   "source": []
  },
  {
   "cell_type": "code",
   "execution_count": 79,
   "metadata": {
    "collapsed": false
   },
   "outputs": [],
   "source": [
    "dvec = lsa.projection.u * lsa.projection.s"
   ]
  },
  {
   "cell_type": "code",
   "execution_count": 218,
   "metadata": {
    "collapsed": false
   },
   "outputs": [],
   "source": []
  },
  {
   "cell_type": "code",
   "execution_count": 219,
   "metadata": {
    "collapsed": false
   },
   "outputs": [
    {
     "data": {
      "text/plain": [
       "0.0"
      ]
     },
     "execution_count": 219,
     "metadata": {},
     "output_type": "execute_result"
    }
   ],
   "source": []
  },
  {
   "cell_type": "code",
   "execution_count": 223,
   "metadata": {
    "collapsed": false
   },
   "outputs": [
    {
     "data": {
      "text/plain": [
       "280"
      ]
     },
     "execution_count": 223,
     "metadata": {},
     "output_type": "execute_result"
    }
   ],
   "source": []
  },
  {
   "cell_type": "code",
   "execution_count": null,
   "metadata": {
    "collapsed": true
   },
   "outputs": [],
   "source": []
  }
 ],
 "metadata": {
  "kernelspec": {
   "display_name": "Python 2",
   "language": "python",
   "name": "python2"
  },
  "language_info": {
   "codemirror_mode": {
    "name": "ipython",
    "version": 2
   },
   "file_extension": ".py",
   "mimetype": "text/x-python",
   "name": "python",
   "nbconvert_exporter": "python",
   "pygments_lexer": "ipython2",
   "version": "2.7.9"
  }
 },
 "nbformat": 4,
 "nbformat_minor": 0
}

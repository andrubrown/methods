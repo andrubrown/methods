{
 "cells": [
  {
   "cell_type": "code",
   "execution_count": 1,
   "metadata": {
    "collapsed": false
   },
   "outputs": [
    {
     "name": "stdout",
     "output_type": "stream",
     "text": [
      "Populating the interactive namespace from numpy and matplotlib\n"
     ]
    }
   ],
   "source": [
    "%pylab inline"
   ]
  },
  {
   "cell_type": "code",
   "execution_count": 2,
   "metadata": {
    "collapsed": false
   },
   "outputs": [],
   "source": [
    "import nltk\n",
    "from tethne.readers import zotero\n",
    "import matplotlib.pyplot as plt\n",
    "from helpers import normalize_token, filter_token"
   ]
  },
  {
   "cell_type": "code",
   "execution_count": 3,
   "metadata": {
    "collapsed": false
   },
   "outputs": [],
   "source": [
    "text_root = '../../data/EmbryoProjectTexts/files'\n",
    "zotero_export_path = '../../data/EmbryoProjectTexts'\n",
    "\n",
    "documents = nltk.corpus.PlaintextCorpusReader(text_root, 'https.+')\n",
    "metadata = zotero.read(zotero_export_path, index_by='link', follow_links=False)"
   ]
  },
  {
   "cell_type": "markdown",
   "metadata": {},
   "source": [
    "# 1.3. Features in texts: N-grams\n",
    "\n",
    "In earlier notebooks, we treated individual tokens as separate and independent features in our texts. But words are rarely independent. First of all, they are often part of more complex phrases that refer to abstract concepts. In the context of computational humanities, it is usually those abstract concepts and not individual words that we want to interrogate. A major component of our analytic workflow, therefore, will be deciding what kinds of features we are interested in, and developing strategies to extract those features.\n",
    "\n",
    "## Phrases\n",
    "\n",
    "Multi-word phrases are an easy place to start. Our objective is to identify sequences of tokens that belong together as a phrase. For example, in the sentence \"The quick brown fox jumps over the lazy dog\", we want to be able to extract phrases like \"brown fox\" and \"lazy dog\". We do this by looking for **N-grams** whose joint probability are high in comparison to the individual probabilities of their constituent tokens.\n",
    "\n",
    "An **N-gram** is a sequence of **N** adjacent tokens. A **bigram** is a sequence of 2 adjacent tokens. For example, here are the first 7 tokens in our corpus:"
   ]
  },
  {
   "cell_type": "code",
   "execution_count": 4,
   "metadata": {
    "collapsed": false
   },
   "outputs": [
    {
     "data": {
      "text/plain": [
       "[u'By', u'Mandana', u'Minai', u'Published', u':', u'2016', u'-']"
      ]
     },
     "execution_count": 4,
     "metadata": {},
     "output_type": "execute_result"
    }
   ],
   "source": [
    "documents.words()[:7]"
   ]
  },
  {
   "cell_type": "markdown",
   "metadata": {},
   "source": [
    "and here are the first 6 bigrams:"
   ]
  },
  {
   "cell_type": "code",
   "execution_count": 5,
   "metadata": {
    "collapsed": false
   },
   "outputs": [
    {
     "data": {
      "text/plain": [
       "[(u'By', u'Mandana'),\n",
       " (u'Mandana', u'Minai'),\n",
       " (u'Minai', u'Published'),\n",
       " (u'Published', u':'),\n",
       " (u':', u'2016'),\n",
       " (u'2016', u'-')]"
      ]
     },
     "execution_count": 5,
     "metadata": {},
     "output_type": "execute_result"
    }
   ],
   "source": [
    "[gram for gram in nltk.bigrams(documents.words())][:6]"
   ]
  },
  {
   "cell_type": "markdown",
   "metadata": {},
   "source": [
    "and the first 5 trigrams:"
   ]
  },
  {
   "cell_type": "code",
   "execution_count": 6,
   "metadata": {
    "collapsed": false
   },
   "outputs": [
    {
     "data": {
      "text/plain": [
       "[(u'By', u'Mandana', u'Minai'),\n",
       " (u'Mandana', u'Minai', u'Published'),\n",
       " (u'Minai', u'Published', u':'),\n",
       " (u'Published', u':', u'2016'),\n",
       " (u':', u'2016', u'-')]"
      ]
     },
     "execution_count": 6,
     "metadata": {},
     "output_type": "execute_result"
    }
   ],
   "source": [
    "[gram for gram in nltk.trigrams(documents.words())][:5]"
   ]
  },
  {
   "cell_type": "markdown",
   "metadata": {},
   "source": [
    "Our task is to decide which of these N-grams are actually phrases."
   ]
  },
  {
   "cell_type": "markdown",
   "metadata": {},
   "source": [
    "## Pointwise Mutual Information\n",
    "\n",
    "Mutual Information is a measure of the mutual interdependence of two variables. Mutual information captures the extent to which knowing one variable reduces our uncertainty about another variable. **Pointwise Mutual Information** applies the concept of mutual information to specific events. PMI captures the likelihood that a specific event will occur given that another specific event was observed. To apply this to tokens in our corpus: the PMI of two tokens ($x$ and $y$) measures how likely it is that one specific token (say, $y$) will occur in a specific context (e.g. a bigram) given that another specific token (say, $x$) is observed in that context.\n",
    "\n",
    "PMI is defined as:\n",
    "\n",
    "$pmi(x; y) = log \\frac{p(x, y)}{p(x)p(y)} = log \\frac{p(x\\mid y)}{p(x)} = log \\frac{p(y\\mid x)}{p(y)}$\n",
    "\n",
    "The denominator in the equation above, $p(x)p(y)$, is the probability that $x$ and $y$ will occur together by chance alone given their independent distributions. The numerator, $p(x, y)$, is the probability of coincidence given their joint distribution. \n",
    "\n",
    "It makes a little more sense if you think about those probabilities in terms of frequency (recall that the MLE for $p(x)$ in our corpus is $f(x)$). If two tokens occur more often together than they do on their own, then chances are those tokens are related to each other.\n",
    "\n",
    "NLTK provides some tools to find **colocations** using PMI."
   ]
  },
  {
   "cell_type": "code",
   "execution_count": 7,
   "metadata": {
    "collapsed": false
   },
   "outputs": [],
   "source": [
    "bigram_measures = nltk.collocations.BigramAssocMeasures()\n",
    "finder = nltk.collocations.BigramCollocationFinder.from_words(documents.words())"
   ]
  },
  {
   "cell_type": "code",
   "execution_count": 8,
   "metadata": {
    "collapsed": false
   },
   "outputs": [
    {
     "data": {
      "text/plain": [
       "[(u'(-', u'CH3'),\n",
       " (u'(\\xe4', u'usserer'),\n",
       " (u')(', u'qllql3'),\n",
       " (u').%', u'3C'),\n",
       " (u'.$', u'b522144'),\n",
       " (u'/#.', u'UmsuVxC7aYN'),\n",
       " (u'3C745', u'::'),\n",
       " (u':./', u'temp'),\n",
       " (u':\\u201d', u'Eulogy'),\n",
       " (u'<!--/*--><![', u'CDATA')]"
      ]
     },
     "execution_count": 8,
     "metadata": {},
     "output_type": "execute_result"
    }
   ],
   "source": [
    "finder.nbest(bigram_measures.pmi, 10)"
   ]
  },
  {
   "cell_type": "markdown",
   "metadata": {},
   "source": [
    "We end up with a lot of junk collocations. This is often due to very infrequent N-grams; consider a bigram with tokens that occur only once in the whole corpus: they will have a maximal PMI, since they don't occur independently. We can filter out infrequent N-grams using the ``apply_freq_filter()`` function."
   ]
  },
  {
   "cell_type": "code",
   "execution_count": 9,
   "metadata": {
    "collapsed": false
   },
   "outputs": [
    {
     "data": {
      "text/plain": [
       "[(u'Actinien', u'anatomisch'),\n",
       " (u'Agalychnis', u'callidryas'),\n",
       " (u'Androulla', u'Economou'),\n",
       " (u'Astacus', u'astacus'),\n",
       " (u'Avi', u'\\xf1\\xf3.'),\n",
       " (u'Cusance', u'Morant'),\n",
       " (u'Exakten', u'Erblichkeitslehre'),\n",
       " (u'Expanding', u'Approved'),\n",
       " (u'Falske', u'Analogier'),\n",
       " (u'Geograficheskogo', u'obshchestva')]"
      ]
     },
     "execution_count": 9,
     "metadata": {},
     "output_type": "execute_result"
    }
   ],
   "source": [
    "finder.apply_freq_filter(3)\n",
    "finder.nbest(bigram_measures.pmi, 10)"
   ]
  },
  {
   "cell_type": "markdown",
   "metadata": {},
   "source": [
    "We can also apply our filter from earlier notebooks using the ``apply_word_filter()`` function. This function expects another function that will return ``True`` if a token should be excluded. Our ``filter_token()`` function does the opposite (``True`` to keep a token), so we can use a [lambda function](https://docs.python.org/2/tutorial/controlflow.html#lambda-expressions) to invert it."
   ]
  },
  {
   "cell_type": "code",
   "execution_count": 10,
   "metadata": {
    "collapsed": false
   },
   "outputs": [
    {
     "data": {
      "text/plain": [
       "[(u'Actinien', u'anatomisch'),\n",
       " (u'Agalychnis', u'callidryas'),\n",
       " (u'Androulla', u'Economou'),\n",
       " (u'Astacus', u'astacus'),\n",
       " (u'Cusance', u'Morant'),\n",
       " (u'Exakten', u'Erblichkeitslehre'),\n",
       " (u'Expanding', u'Approved'),\n",
       " (u'Falske', u'Analogier'),\n",
       " (u'Geograficheskogo', u'obshchestva'),\n",
       " (u'Hathaitip', u'Sritanaudomchai')]"
      ]
     },
     "execution_count": 10,
     "metadata": {},
     "output_type": "execute_result"
    }
   ],
   "source": [
    "finder.apply_word_filter(lambda token: not filter_token(token))\n",
    "finder.nbest(bigram_measures.pmi, 10)"
   ]
  },
  {
   "cell_type": "markdown",
   "metadata": {},
   "source": [
    "Depending on what kind of phrases you are interested in, it may be desirable to filter N-grams based on the part of speach (POS) of their constituent tokens. The ``pos_tag()`` function generates a list of tokens and tags from our corpus. We can use those tagged tokens to build the collocate model, and then filter based on tags.\n",
    "--------- ---------\n",
    "**Note** this step takes a bit of time to finish.\n",
    "--------- ---------"
   ]
  },
  {
   "cell_type": "code",
   "execution_count": 11,
   "metadata": {
    "collapsed": false
   },
   "outputs": [],
   "source": [
    "tagged_words = nltk.pos_tag(documents.words())"
   ]
  },
  {
   "cell_type": "code",
   "execution_count": 12,
   "metadata": {
    "collapsed": false
   },
   "outputs": [
    {
     "data": {
      "text/plain": [
       "[(u'By', 'IN'),\n",
       " (u'Mandana', 'NNP'),\n",
       " (u'Minai', 'NNP'),\n",
       " (u'Published', 'VBD'),\n",
       " (u':', ':'),\n",
       " (u'2016', 'CD'),\n",
       " (u'-', ':'),\n",
       " (u'04', 'CD'),\n",
       " (u'-', ':'),\n",
       " (u'18', 'CD')]"
      ]
     },
     "execution_count": 12,
     "metadata": {},
     "output_type": "execute_result"
    }
   ],
   "source": [
    "tagged_words[:10]"
   ]
  },
  {
   "cell_type": "code",
   "execution_count": 13,
   "metadata": {
    "collapsed": true
   },
   "outputs": [],
   "source": [
    "finder = nltk.collocations.BigramCollocationFinder.from_words(tagged_words)\n",
    "finder.apply_freq_filter(3)\n",
    "\n",
    "# Only keep nouns (noun POS tags all start with ``N``).\n",
    "word_filter = lambda token: not (filter_token(token[0]) and token[1].startswith('N'))\n",
    "finder.apply_word_filter(word_filter)"
   ]
  },
  {
   "cell_type": "code",
   "execution_count": 14,
   "metadata": {
    "collapsed": false
   },
   "outputs": [
    {
     "data": {
      "text/plain": [
       "[((u'Agalychnis', 'NNP'), (u'callidryas', 'NN')),\n",
       " ((u'Androulla', 'NNP'), (u'Economou', 'NNP')),\n",
       " ((u'Astacus', 'NNP'), (u'astacus', 'NN')),\n",
       " ((u'Cusance', 'NNP'), (u'Morant', 'NNP')),\n",
       " ((u'Dieter', 'NN'), (u'Sues', 'NNP')),\n",
       " ((u'Ethically', 'NNP'), (u'Responsible', 'NNP')),\n",
       " ((u'Exakten', 'NNP'), (u'Erblichkeitslehre', 'NNP')),\n",
       " ((u'Falske', 'NNP'), (u'Analogier', 'NNP')),\n",
       " ((u'Hathaitip', 'NNP'), (u'Sritanaudomchai', 'NNP')),\n",
       " ((u'Laurel', 'NNP'), (u'Hollow', 'NNP'))]"
      ]
     },
     "execution_count": 14,
     "metadata": {},
     "output_type": "execute_result"
    }
   ],
   "source": [
    "finder.nbest(bigram_measures.pmi, 10)"
   ]
  },
  {
   "cell_type": "markdown",
   "metadata": {},
   "source": [
    "Rather than specifying a number of N-grams to accept as phrases, we can set a threshold PMI value. Let's first examine the distribution of scores. Here are the bottom 20 scores (using ``score_ngrams()``). "
   ]
  },
  {
   "cell_type": "code",
   "execution_count": 15,
   "metadata": {
    "collapsed": false
   },
   "outputs": [
    {
     "data": {
      "text/plain": [
       "[(((u'cell', 'NN'), (u'number', 'NN')), 2.4124143611527913),\n",
       " (((u'York', 'NNP'), (u'State', 'NNP')), 2.364661814166652),\n",
       " (((u'Stem', 'NNP'), (u'cell', 'NN')), 2.364585836062176),\n",
       " (((u'embryo', 'NN'), (u'research', 'NN')), 2.2733450253549137),\n",
       " (((u'brain', 'NN'), (u'cells', 'NNS')), 2.2592774133287463),\n",
       " (((u'cells', 'NNS'), (u'age', 'NN')), 2.220631485429262),\n",
       " (((u'Charles', 'NNP'), (u'University', 'NNP')), 2.2052581686083457),\n",
       " (((u'Medical', 'NNP'), (u'University', 'NNP')), 2.150673030842743),\n",
       " (((u'Biology', 'NNP'), (u'Institute', 'NNP')), 2.125790587854567),\n",
       " (((u'fertilization', 'NN'), (u'research', 'NN')), 2.1158578822511416),\n",
       " (((u'egg', 'NN'), (u'development', 'NN')), 2.076178429581546),\n",
       " (((u'embryology', 'NN'), (u'research', 'NN')), 1.9879830596989834),\n",
       " (((u'research', 'NN'), (u'scientists', 'NNS')), 1.9249732621731823),\n",
       " (((u'sex', 'NN'), (u'development', 'NN')), 1.7837275357710176),\n",
       " (((u'Science', 'NNP'), (u'University', 'NNP')), 1.6240091706862536),\n",
       " (((u'Human', 'NNP'), (u'Biology', 'NNP')), 1.6093510563675082),\n",
       " (((u'development', 'NN'), (u'process', 'NN')), 1.4252073877047522),\n",
       " (((u'cell', 'NN'), (u'embryo', 'NN')), 0.45926424010900035),\n",
       " (((u'embryo', 'NN'), (u'cells', 'NNS')), 0.20325892143114288),\n",
       " (((u'cell', 'NN'), (u'development', 'NN')), 0.14836718234592894)]"
      ]
     },
     "execution_count": 15,
     "metadata": {},
     "output_type": "execute_result"
    }
   ],
   "source": [
    "finder.score_ngrams(bigram_measures.pmi)[-20:]"
   ]
  },
  {
   "cell_type": "markdown",
   "metadata": {},
   "source": [
    "We can extract the scores, and plot a histogram to see the range and distribution of values."
   ]
  },
  {
   "cell_type": "code",
   "execution_count": 16,
   "metadata": {
    "collapsed": true
   },
   "outputs": [],
   "source": [
    "ngram, score = zip(*[g for g in finder.score_ngrams(bigram_measures.pmi)])"
   ]
  },
  {
   "cell_type": "code",
   "execution_count": 17,
   "metadata": {
    "collapsed": false
   },
   "outputs": [
    {
     "data": {
      "image/png": "[encoded data removed]",
      "text/plain": [
       "<matplotlib.figure.Figure at 0x10cf8ce10>"
      ]
     },
     "metadata": {},
     "output_type": "display_data"
    }
   ],
   "source": [
    "plt.hist(score)\n",
    "plt.show()"
   ]
  },
  {
   "cell_type": "markdown",
   "metadata": {},
   "source": [
    "To accept only N-grams with a PMI over 2, for example, we could do (selecting only the last 20):"
   ]
  },
  {
   "cell_type": "code",
   "execution_count": 18,
   "metadata": {
    "collapsed": false
   },
   "outputs": [
    {
     "data": {
      "text/plain": [
       "[((u'cell', 'NN'), (u'formation', 'NN')),\n",
       " ((u'Medical', 'NNP'), (u'Encyclopedia', 'NNP')),\n",
       " ((u'research', 'NN'), (u'position', 'NN')),\n",
       " ((u'York', 'NNP'), (u'University', 'NNP')),\n",
       " ((u'Life', 'NNP'), (u'Science', 'NNP')),\n",
       " ((u'year', 'NN'), (u'research', 'NN')),\n",
       " ((u'Research', 'NNP'), (u'Society', 'NNP')),\n",
       " ((u'system', 'NN'), (u'development', 'NN')),\n",
       " ((u'body', 'NN'), (u'cell', 'NN')),\n",
       " ((u'cell', 'NN'), (u'number', 'NN')),\n",
       " ((u'York', 'NNP'), (u'State', 'NNP')),\n",
       " ((u'Stem', 'NNP'), (u'cell', 'NN')),\n",
       " ((u'embryo', 'NN'), (u'research', 'NN')),\n",
       " ((u'brain', 'NN'), (u'cells', 'NNS')),\n",
       " ((u'cells', 'NNS'), (u'age', 'NN')),\n",
       " ((u'Charles', 'NNP'), (u'University', 'NNP')),\n",
       " ((u'Medical', 'NNP'), (u'University', 'NNP')),\n",
       " ((u'Biology', 'NNP'), (u'Institute', 'NNP')),\n",
       " ((u'fertilization', 'NN'), (u'research', 'NN')),\n",
       " ((u'egg', 'NN'), (u'development', 'NN'))]"
      ]
     },
     "execution_count": 18,
     "metadata": {},
     "output_type": "execute_result"
    }
   ],
   "source": [
    "selected_ngrams = [ngram for ngram in finder.above_score(bigram_measures.pmi, 2.0)]\n",
    "selected_ngrams[-20:]"
   ]
  },
  {
   "cell_type": "code",
   "execution_count": 19,
   "metadata": {
    "collapsed": false
   },
   "outputs": [
    {
     "data": {
      "text/plain": [
       "[(u'Agalychnis', u'callidryas'),\n",
       " (u'Androulla', u'Economou'),\n",
       " (u'Astacus', u'astacus'),\n",
       " (u'Cusance', u'Morant'),\n",
       " (u'Dieter', u'Sues'),\n",
       " (u'Ethically', u'Responsible'),\n",
       " (u'Exakten', u'Erblichkeitslehre'),\n",
       " (u'Falske', u'Analogier'),\n",
       " (u'Hathaitip', u'Sritanaudomchai'),\n",
       " (u'Laurel', u'Hollow')]"
      ]
     },
     "execution_count": 19,
     "metadata": {},
     "output_type": "execute_result"
    }
   ],
   "source": [
    "selected_expressions = []\n",
    "for (token1, pos1), (token2, pos2) in finder.above_score(bigram_measures.pmi, 2.0):\n",
    "    selected_expressions.append((token1, token2))\n",
    "\n",
    "selected_expressions[:10]"
   ]
  },
  {
   "cell_type": "code",
   "execution_count": 20,
   "metadata": {
    "collapsed": true
   },
   "outputs": [],
   "source": [
    "tokenizer = nltk.MWETokenizer(selected_expressions)"
   ]
  },
  {
   "cell_type": "markdown",
   "metadata": {},
   "source": [
    "---------    --------\n",
    "**Note**:    In the code-cell below I have reversed the samples and the conditions -- this isn't strictly correct, but it makes it easy to quickly generate a plot of raw count data.\n",
    "---------    --------"
   ]
  },
  {
   "cell_type": "code",
   "execution_count": 21,
   "metadata": {
    "collapsed": false
   },
   "outputs": [],
   "source": [
    "words_over_time = nltk.ConditionalFreqDist([\n",
    "    (normalize_token(token).replace('_', ' '), metadata[fileid].date)\n",
    "    for fileid in documents.fileids()\n",
    "    for token in tokenizer.tokenize(documents.words(fileids=[fileid]))\n",
    "    if filter_token(token) or '_' in token\n",
    "])"
   ]
  },
  {
   "cell_type": "code",
   "execution_count": 22,
   "metadata": {
    "collapsed": false
   },
   "outputs": [
    {
     "data": {
      "image/png": "[encoded data removed]",
      "text/plain": [
       "<matplotlib.figure.Figure at 0x10c6849d0>"
      ]
     },
     "metadata": {},
     "output_type": "display_data"
    }
   ],
   "source": [
    "words_over_time.plot(conditions=['hans spemann', 'embryonic development', \n",
    "                                 'ernst haeckel', 'water'])"
   ]
  },
  {
   "cell_type": "code",
   "execution_count": null,
   "metadata": {
    "collapsed": true
   },
   "outputs": [],
   "source": []
  }
 ],
 "metadata": {
  "kernelspec": {
   "display_name": "Python 2",
   "language": "python",
   "name": "python2"
  },
  "language_info": {
   "codemirror_mode": {
    "name": "ipython",
    "version": 2
   },
   "file_extension": ".py",
   "mimetype": "text/x-python",
   "name": "python",
   "nbconvert_exporter": "python",
   "pygments_lexer": "ipython2",
   "version": "2.7.9"
  }
 },
 "nbformat": 4,
 "nbformat_minor": 0
}
